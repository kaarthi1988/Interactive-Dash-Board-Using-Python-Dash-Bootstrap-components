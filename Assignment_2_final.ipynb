{
 "cells": [
  {
   "cell_type": "code",
   "execution_count": 1,
   "metadata": {},
   "outputs": [],
   "source": [
    "#Using Pandas as the data processing package.\n",
    "import pandas as pd\n",
    "\n",
    "#Using plotly as the visualization package.\n",
    "import plotly.express as px\n",
    "import plotly.graph_objects as go\n",
    "from plotly.subplots import make_subplots\n",
    "\n",
    "from dash import Dash, dcc, html, Input, Output,callback\n",
    "\n",
    "#for formatting, we will import the dash bootstrap components.\n",
    "import dash_bootstrap_components as dbc"
   ]
  },
  {
   "cell_type": "code",
   "execution_count": 2,
   "metadata": {},
   "outputs": [],
   "source": [
    "app = Dash(\n",
    "    __name__, \n",
    "    external_stylesheets=[dbc.themes.LUMEN]\n",
    ")"
   ]
  },
  {
   "cell_type": "markdown",
   "metadata": {},
   "source": [
    "Creating function for Tab Creation"
   ]
  },
  {
   "cell_type": "code",
   "execution_count": 3,
   "metadata": {},
   "outputs": [],
   "source": [
    "def tab_name(tab_contents,label):\n",
    "    return dbc.Tab(\n",
    "        tab_contents, \n",
    "        label = label, \n",
    "        activeLabelClassName=\"alert-warning\",\n",
    "    )  "
   ]
  },
  {
   "cell_type": "markdown",
   "metadata": {},
   "source": [
    "Creating function for cardHeader"
   ]
  },
  {
   "cell_type": "code",
   "execution_count": 4,
   "metadata": {},
   "outputs": [],
   "source": [
    "def card(name):\n",
    "    return dbc.CardHeader([\n",
    "       html.Div([\n",
    "                    html.H2(\n",
    "                        name, \n",
    "                        className=\"mt-4 px-4 align-center\"), \n",
    "                ]),\n",
    "            ])"
   ]
  },
  {
   "cell_type": "markdown",
   "metadata": {},
   "source": [
    "Creating fucntion for DropDown below Header "
   ]
  },
  {
   "cell_type": "code",
   "execution_count": 5,
   "metadata": {},
   "outputs": [],
   "source": [
    "def dropdown(label,options):\n",
    "    return dbc.Col([\n",
    "                html.Div([\n",
    "                    dbc.Label(label, className=\"pl-4\"),\n",
    "                    options,\n",
    "                ], className=\"col-6\")\n",
    "            ], className=\"my-4\")"
   ]
  },
  {
   "cell_type": "markdown",
   "metadata": {},
   "source": [
    "Creating function for Dropdown"
   ]
  },
  {
   "cell_type": "code",
   "execution_count": 6,
   "metadata": {},
   "outputs": [],
   "source": [
    "def dcc_dropdown(options,first_value,id):\n",
    "    return dcc.Dropdown(\n",
    "        \n",
    "    options=options,\n",
    "    value=first_value,\n",
    "    id = id,\n",
    "    clearable=False\n",
    ")"
   ]
  },
  {
   "cell_type": "markdown",
   "metadata": {},
   "source": [
    "Creating Function for Graph"
   ]
  },
  {
   "cell_type": "code",
   "execution_count": 7,
   "metadata": {},
   "outputs": [],
   "source": [
    "def tab_graph(graphheading,graph):\n",
    "    return dbc.Col([\n",
    "                html.Div([\n",
    "                    html.H5(graphheading, className=\"text-center mt-4 py-2 alert-secondary\"), \n",
    "                ]),\n",
    "                graph\n",
    "    ])"
   ]
  },
  {
   "cell_type": "code",
   "execution_count": 8,
   "metadata": {},
   "outputs": [
    {
     "data": {
      "text/html": [
       "<div>\n",
       "<style scoped>\n",
       "    .dataframe tbody tr th:only-of-type {\n",
       "        vertical-align: middle;\n",
       "    }\n",
       "\n",
       "    .dataframe tbody tr th {\n",
       "        vertical-align: top;\n",
       "    }\n",
       "\n",
       "    .dataframe thead th {\n",
       "        text-align: right;\n",
       "    }\n",
       "</style>\n",
       "<table border=\"1\" class=\"dataframe\">\n",
       "  <thead>\n",
       "    <tr style=\"text-align: right;\">\n",
       "      <th></th>\n",
       "      <th>observation_date</th>\n",
       "      <th>Labor_Rate_Names</th>\n",
       "      <th>Labor_Rate_Values</th>\n",
       "      <th>State</th>\n",
       "      <th>DISCWORK</th>\n",
       "      <th>ALLMARGAT</th>\n",
       "      <th>CIVLF</th>\n",
       "      <th>EMPLOY</th>\n",
       "      <th>INVOLPTEMP</th>\n",
       "      <th>UNEMPLOY</th>\n",
       "      <th>UNEMP15</th>\n",
       "      <th>JOBLOS</th>\n",
       "    </tr>\n",
       "  </thead>\n",
       "  <tbody>\n",
       "    <tr>\n",
       "      <th>0</th>\n",
       "      <td>01-01-2004</td>\n",
       "      <td>ALLMARGAT_Rate</td>\n",
       "      <td>1.323962</td>\n",
       "      <td>NewYork</td>\n",
       "      <td>43000</td>\n",
       "      <td>124700</td>\n",
       "      <td>9418700</td>\n",
       "      <td>8809300</td>\n",
       "      <td>260600</td>\n",
       "      <td>609400</td>\n",
       "      <td>282300</td>\n",
       "      <td>345300</td>\n",
       "    </tr>\n",
       "    <tr>\n",
       "      <th>1</th>\n",
       "      <td>01-01-2004</td>\n",
       "      <td>EMPLOY_Rate</td>\n",
       "      <td>93.529893</td>\n",
       "      <td>NewYork</td>\n",
       "      <td>43000</td>\n",
       "      <td>124700</td>\n",
       "      <td>9418700</td>\n",
       "      <td>8809300</td>\n",
       "      <td>260600</td>\n",
       "      <td>609400</td>\n",
       "      <td>282300</td>\n",
       "      <td>345300</td>\n",
       "    </tr>\n",
       "    <tr>\n",
       "      <th>2</th>\n",
       "      <td>01-01-2004</td>\n",
       "      <td>INVOLPTEMP_Rate</td>\n",
       "      <td>2.766836</td>\n",
       "      <td>NewYork</td>\n",
       "      <td>43000</td>\n",
       "      <td>124700</td>\n",
       "      <td>9418700</td>\n",
       "      <td>8809300</td>\n",
       "      <td>260600</td>\n",
       "      <td>609400</td>\n",
       "      <td>282300</td>\n",
       "      <td>345300</td>\n",
       "    </tr>\n",
       "    <tr>\n",
       "      <th>3</th>\n",
       "      <td>01-01-2004</td>\n",
       "      <td>UNEMP15_Rate</td>\n",
       "      <td>2.997229</td>\n",
       "      <td>NewYork</td>\n",
       "      <td>43000</td>\n",
       "      <td>124700</td>\n",
       "      <td>9418700</td>\n",
       "      <td>8809300</td>\n",
       "      <td>260600</td>\n",
       "      <td>609400</td>\n",
       "      <td>282300</td>\n",
       "      <td>345300</td>\n",
       "    </tr>\n",
       "    <tr>\n",
       "      <th>4</th>\n",
       "      <td>01-01-2004</td>\n",
       "      <td>UNEMPLOY_Rate</td>\n",
       "      <td>6.470107</td>\n",
       "      <td>NewYork</td>\n",
       "      <td>43000</td>\n",
       "      <td>124700</td>\n",
       "      <td>9418700</td>\n",
       "      <td>8809300</td>\n",
       "      <td>260600</td>\n",
       "      <td>609400</td>\n",
       "      <td>282300</td>\n",
       "      <td>345300</td>\n",
       "    </tr>\n",
       "    <tr>\n",
       "      <th>5</th>\n",
       "      <td>01-01-2004</td>\n",
       "      <td>JOBLOS_Rate</td>\n",
       "      <td>3.666111</td>\n",
       "      <td>NewYork</td>\n",
       "      <td>43000</td>\n",
       "      <td>124700</td>\n",
       "      <td>9418700</td>\n",
       "      <td>8809300</td>\n",
       "      <td>260600</td>\n",
       "      <td>609400</td>\n",
       "      <td>282300</td>\n",
       "      <td>345300</td>\n",
       "    </tr>\n",
       "    <tr>\n",
       "      <th>6</th>\n",
       "      <td>01-04-2004</td>\n",
       "      <td>ALLMARGAT_Rate</td>\n",
       "      <td>1.432506</td>\n",
       "      <td>NewYork</td>\n",
       "      <td>46400</td>\n",
       "      <td>134200</td>\n",
       "      <td>9368200</td>\n",
       "      <td>8768400</td>\n",
       "      <td>248200</td>\n",
       "      <td>599900</td>\n",
       "      <td>275100</td>\n",
       "      <td>334300</td>\n",
       "    </tr>\n",
       "    <tr>\n",
       "      <th>7</th>\n",
       "      <td>01-04-2004</td>\n",
       "      <td>EMPLOY_Rate</td>\n",
       "      <td>93.597489</td>\n",
       "      <td>NewYork</td>\n",
       "      <td>46400</td>\n",
       "      <td>134200</td>\n",
       "      <td>9368200</td>\n",
       "      <td>8768400</td>\n",
       "      <td>248200</td>\n",
       "      <td>599900</td>\n",
       "      <td>275100</td>\n",
       "      <td>334300</td>\n",
       "    </tr>\n",
       "    <tr>\n",
       "      <th>8</th>\n",
       "      <td>01-04-2004</td>\n",
       "      <td>INVOLPTEMP_Rate</td>\n",
       "      <td>2.649388</td>\n",
       "      <td>NewYork</td>\n",
       "      <td>46400</td>\n",
       "      <td>134200</td>\n",
       "      <td>9368200</td>\n",
       "      <td>8768400</td>\n",
       "      <td>248200</td>\n",
       "      <td>599900</td>\n",
       "      <td>275100</td>\n",
       "      <td>334300</td>\n",
       "    </tr>\n",
       "    <tr>\n",
       "      <th>9</th>\n",
       "      <td>01-04-2004</td>\n",
       "      <td>UNEMP15_Rate</td>\n",
       "      <td>2.936530</td>\n",
       "      <td>NewYork</td>\n",
       "      <td>46400</td>\n",
       "      <td>134200</td>\n",
       "      <td>9368200</td>\n",
       "      <td>8768400</td>\n",
       "      <td>248200</td>\n",
       "      <td>599900</td>\n",
       "      <td>275100</td>\n",
       "      <td>334300</td>\n",
       "    </tr>\n",
       "  </tbody>\n",
       "</table>\n",
       "</div>"
      ],
      "text/plain": [
       "  observation_date Labor_Rate_Names  Labor_Rate_Values    State  DISCWORK  \\\n",
       "0       01-01-2004   ALLMARGAT_Rate           1.323962  NewYork     43000   \n",
       "1       01-01-2004      EMPLOY_Rate          93.529893  NewYork     43000   \n",
       "2       01-01-2004  INVOLPTEMP_Rate           2.766836  NewYork     43000   \n",
       "3       01-01-2004     UNEMP15_Rate           2.997229  NewYork     43000   \n",
       "4       01-01-2004    UNEMPLOY_Rate           6.470107  NewYork     43000   \n",
       "5       01-01-2004      JOBLOS_Rate           3.666111  NewYork     43000   \n",
       "6       01-04-2004   ALLMARGAT_Rate           1.432506  NewYork     46400   \n",
       "7       01-04-2004      EMPLOY_Rate          93.597489  NewYork     46400   \n",
       "8       01-04-2004  INVOLPTEMP_Rate           2.649388  NewYork     46400   \n",
       "9       01-04-2004     UNEMP15_Rate           2.936530  NewYork     46400   \n",
       "\n",
       "   ALLMARGAT    CIVLF   EMPLOY  INVOLPTEMP  UNEMPLOY  UNEMP15  JOBLOS  \n",
       "0     124700  9418700  8809300      260600    609400   282300  345300  \n",
       "1     124700  9418700  8809300      260600    609400   282300  345300  \n",
       "2     124700  9418700  8809300      260600    609400   282300  345300  \n",
       "3     124700  9418700  8809300      260600    609400   282300  345300  \n",
       "4     124700  9418700  8809300      260600    609400   282300  345300  \n",
       "5     124700  9418700  8809300      260600    609400   282300  345300  \n",
       "6     134200  9368200  8768400      248200    599900   275100  334300  \n",
       "7     134200  9368200  8768400      248200    599900   275100  334300  \n",
       "8     134200  9368200  8768400      248200    599900   275100  334300  \n",
       "9     134200  9368200  8768400      248200    599900   275100  334300  "
      ]
     },
     "execution_count": 8,
     "metadata": {},
     "output_type": "execute_result"
    }
   ],
   "source": [
    "unempl = pd.read_csv('Output_rates_file.csv')\n",
    "unempl.head(10)"
   ]
  },
  {
   "cell_type": "code",
   "execution_count": 9,
   "metadata": {},
   "outputs": [
    {
     "data": {
      "text/html": [
       "<div>\n",
       "<style scoped>\n",
       "    .dataframe tbody tr th:only-of-type {\n",
       "        vertical-align: middle;\n",
       "    }\n",
       "\n",
       "    .dataframe tbody tr th {\n",
       "        vertical-align: top;\n",
       "    }\n",
       "\n",
       "    .dataframe thead th {\n",
       "        text-align: right;\n",
       "    }\n",
       "</style>\n",
       "<table border=\"1\" class=\"dataframe\">\n",
       "  <thead>\n",
       "    <tr style=\"text-align: right;\">\n",
       "      <th></th>\n",
       "      <th>observation_date</th>\n",
       "      <th>Labor_Rate_Names</th>\n",
       "      <th>Labor_Rate_Values</th>\n",
       "      <th>State</th>\n",
       "      <th>DISCWORK</th>\n",
       "      <th>ALLMARGAT</th>\n",
       "      <th>CIVLF</th>\n",
       "      <th>EMPLOY</th>\n",
       "      <th>INVOLPTEMP</th>\n",
       "      <th>UNEMPLOY</th>\n",
       "      <th>UNEMP15</th>\n",
       "      <th>JOBLOS</th>\n",
       "      <th>unemployement_levels</th>\n",
       "    </tr>\n",
       "  </thead>\n",
       "  <tbody>\n",
       "    <tr>\n",
       "      <th>0</th>\n",
       "      <td>01-01-2004</td>\n",
       "      <td>All Marginally Attached Workers</td>\n",
       "      <td>1.323962</td>\n",
       "      <td>NewYork</td>\n",
       "      <td>43000</td>\n",
       "      <td>124700</td>\n",
       "      <td>9418700</td>\n",
       "      <td>8809300</td>\n",
       "      <td>260600</td>\n",
       "      <td>609400</td>\n",
       "      <td>282300</td>\n",
       "      <td>345300</td>\n",
       "      <td>Unemployemnt Level 1</td>\n",
       "    </tr>\n",
       "    <tr>\n",
       "      <th>1</th>\n",
       "      <td>01-01-2004</td>\n",
       "      <td>All Employed Workers</td>\n",
       "      <td>93.529893</td>\n",
       "      <td>NewYork</td>\n",
       "      <td>43000</td>\n",
       "      <td>124700</td>\n",
       "      <td>9418700</td>\n",
       "      <td>8809300</td>\n",
       "      <td>260600</td>\n",
       "      <td>609400</td>\n",
       "      <td>282300</td>\n",
       "      <td>345300</td>\n",
       "      <td>All Employed Workers</td>\n",
       "    </tr>\n",
       "    <tr>\n",
       "      <th>2</th>\n",
       "      <td>01-01-2004</td>\n",
       "      <td>Employed Involuntary Part-Time</td>\n",
       "      <td>2.766836</td>\n",
       "      <td>NewYork</td>\n",
       "      <td>43000</td>\n",
       "      <td>124700</td>\n",
       "      <td>9418700</td>\n",
       "      <td>8809300</td>\n",
       "      <td>260600</td>\n",
       "      <td>609400</td>\n",
       "      <td>282300</td>\n",
       "      <td>345300</td>\n",
       "      <td>Unemployemnt Level 1</td>\n",
       "    </tr>\n",
       "    <tr>\n",
       "      <th>3</th>\n",
       "      <td>01-01-2004</td>\n",
       "      <td>Civilians Unemployed for min 15 Weeks</td>\n",
       "      <td>2.997229</td>\n",
       "      <td>NewYork</td>\n",
       "      <td>43000</td>\n",
       "      <td>124700</td>\n",
       "      <td>9418700</td>\n",
       "      <td>8809300</td>\n",
       "      <td>260600</td>\n",
       "      <td>609400</td>\n",
       "      <td>282300</td>\n",
       "      <td>345300</td>\n",
       "      <td>Unemployemnt Level 2</td>\n",
       "    </tr>\n",
       "    <tr>\n",
       "      <th>4</th>\n",
       "      <td>01-01-2004</td>\n",
       "      <td>Total Unemployment Workers</td>\n",
       "      <td>6.470107</td>\n",
       "      <td>NewYork</td>\n",
       "      <td>43000</td>\n",
       "      <td>124700</td>\n",
       "      <td>9418700</td>\n",
       "      <td>8809300</td>\n",
       "      <td>260600</td>\n",
       "      <td>609400</td>\n",
       "      <td>282300</td>\n",
       "      <td>345300</td>\n",
       "      <td>Total Unemployment Workers</td>\n",
       "    </tr>\n",
       "  </tbody>\n",
       "</table>\n",
       "</div>"
      ],
      "text/plain": [
       "  observation_date                       Labor_Rate_Names  Labor_Rate_Values  \\\n",
       "0       01-01-2004        All Marginally Attached Workers           1.323962   \n",
       "1       01-01-2004                   All Employed Workers          93.529893   \n",
       "2       01-01-2004         Employed Involuntary Part-Time           2.766836   \n",
       "3       01-01-2004  Civilians Unemployed for min 15 Weeks           2.997229   \n",
       "4       01-01-2004             Total Unemployment Workers           6.470107   \n",
       "\n",
       "     State  DISCWORK  ALLMARGAT    CIVLF   EMPLOY  INVOLPTEMP  UNEMPLOY  \\\n",
       "0  NewYork     43000     124700  9418700  8809300      260600    609400   \n",
       "1  NewYork     43000     124700  9418700  8809300      260600    609400   \n",
       "2  NewYork     43000     124700  9418700  8809300      260600    609400   \n",
       "3  NewYork     43000     124700  9418700  8809300      260600    609400   \n",
       "4  NewYork     43000     124700  9418700  8809300      260600    609400   \n",
       "\n",
       "   UNEMP15  JOBLOS        unemployement_levels  \n",
       "0   282300  345300        Unemployemnt Level 1  \n",
       "1   282300  345300        All Employed Workers  \n",
       "2   282300  345300        Unemployemnt Level 1  \n",
       "3   282300  345300        Unemployemnt Level 2  \n",
       "4   282300  345300  Total Unemployment Workers  "
      ]
     },
     "execution_count": 9,
     "metadata": {},
     "output_type": "execute_result"
    }
   ],
   "source": [
    "unempl['Labor_Rate_Names'].unique()\n",
    "\n",
    "# ALLMARGAT_Rate : All Marginally Attached Workers\n",
    "# INVOLPTEMP_Rate : Employed Involuntary Part-Time\n",
    "# UNEMP15_Rate: Civilians Unemployed for min 15 Weeks\n",
    "# JOBLOS_Rate_Rate : Job losers\n",
    "# UNEMPLOY_Rate : Total Unemployment Workers\n",
    "dic_names = {\n",
    "    'ALLMARGAT_Rate' : 'All Marginally Attached Workers',\n",
    "    'INVOLPTEMP_Rate' : 'Employed Involuntary Part-Time',\n",
    "    'UNEMP15_Rate': 'Civilians Unemployed for min 15 Weeks',\n",
    "    'JOBLOS_Rate' : 'Job losers',\n",
    "    'UNEMPLOY_Rate' : 'Total Unemployment Workers',\n",
    "    'EMPLOY_Rate': 'All Employed Workers'\n",
    "}\n",
    "def group(option):\n",
    "    if option in ['All Marginally Attached Workers', 'Employed Involuntary Part-Time']:\n",
    "        v = 'Unemployemnt Level 1'\n",
    "    elif option in ['Civilians Unemployed for min 15 Weeks','Job losers']:\n",
    "          v = 'Unemployemnt Level 2'\n",
    "    else:\n",
    "        v = option\n",
    "    return v\n",
    "    \n",
    "unempl['Labor_Rate_Names'] = unempl['Labor_Rate_Names'].replace(dic_names)\n",
    "unempl['unemployement_levels']=unempl['Labor_Rate_Names'].apply(group)\n",
    "unempl.head()\n"
   ]
  },
  {
   "cell_type": "code",
   "execution_count": 10,
   "metadata": {},
   "outputs": [
    {
     "name": "stderr",
     "output_type": "stream",
     "text": [
      "C:\\Users\\Karthi\\AppData\\Local\\Temp\\ipykernel_11596\\1029144104.py:14: SettingWithCopyWarning:\n",
      "\n",
      "\n",
      "A value is trying to be set on a copy of a slice from a DataFrame.\n",
      "Try using .loc[row_indexer,col_indexer] = value instead\n",
      "\n",
      "See the caveats in the documentation: https://pandas.pydata.org/pandas-docs/stable/user_guide/indexing.html#returning-a-view-versus-a-copy\n",
      "\n"
     ]
    }
   ],
   "source": [
    "unempl['observation_date'] = pd.to_datetime(unempl['observation_date'],format = '%d-%m-%Y')\n",
    "unempl = unempl.sort_values('observation_date')\n",
    "unempl_recess = unempl[unempl['observation_date'] <= '2014']\n",
    "def indicator(num):\n",
    "    if num.year <= 2007:\n",
    "        return \"Before Recession\"\n",
    " \n",
    "    elif num.year >= 2008 and num.year < 2012:\n",
    "        return \"During Recession\"\n",
    " \n",
    "    else:\n",
    "        return \"After Recession\"\n",
    "\n",
    "unempl_recess['Indicator'] = unempl_recess['observation_date'].apply(lambda date : indicator(date))"
   ]
  },
  {
   "cell_type": "code",
   "execution_count": 11,
   "metadata": {},
   "outputs": [
    {
     "data": {
      "text/html": [
       "<div>\n",
       "<style scoped>\n",
       "    .dataframe tbody tr th:only-of-type {\n",
       "        vertical-align: middle;\n",
       "    }\n",
       "\n",
       "    .dataframe tbody tr th {\n",
       "        vertical-align: top;\n",
       "    }\n",
       "\n",
       "    .dataframe thead th {\n",
       "        text-align: right;\n",
       "    }\n",
       "</style>\n",
       "<table border=\"1\" class=\"dataframe\">\n",
       "  <thead>\n",
       "    <tr style=\"text-align: right;\">\n",
       "      <th></th>\n",
       "      <th>observation_date</th>\n",
       "      <th>Labor_Rate_Names</th>\n",
       "      <th>Labor_Rate_Values</th>\n",
       "      <th>State</th>\n",
       "      <th>DISCWORK</th>\n",
       "      <th>ALLMARGAT</th>\n",
       "      <th>CIVLF</th>\n",
       "      <th>EMPLOY</th>\n",
       "      <th>INVOLPTEMP</th>\n",
       "      <th>UNEMPLOY</th>\n",
       "      <th>UNEMP15</th>\n",
       "      <th>JOBLOS</th>\n",
       "      <th>unemployement_levels</th>\n",
       "      <th>Indicator</th>\n",
       "    </tr>\n",
       "  </thead>\n",
       "  <tbody>\n",
       "    <tr>\n",
       "      <th>721</th>\n",
       "      <td>2014-01-01</td>\n",
       "      <td>All Employed Workers</td>\n",
       "      <td>92.984658</td>\n",
       "      <td>Florida</td>\n",
       "      <td>75700</td>\n",
       "      <td>154600</td>\n",
       "      <td>9483500</td>\n",
       "      <td>8818200</td>\n",
       "      <td>558900</td>\n",
       "      <td>665400</td>\n",
       "      <td>412400</td>\n",
       "      <td>376500</td>\n",
       "      <td>All Employed Workers</td>\n",
       "      <td>After Recession</td>\n",
       "    </tr>\n",
       "    <tr>\n",
       "      <th>1202</th>\n",
       "      <td>2014-01-01</td>\n",
       "      <td>Employed Involuntary Part-Time</td>\n",
       "      <td>6.716410</td>\n",
       "      <td>California</td>\n",
       "      <td>113100</td>\n",
       "      <td>312900</td>\n",
       "      <td>18629000</td>\n",
       "      <td>17031000</td>\n",
       "      <td>1251200</td>\n",
       "      <td>1598000</td>\n",
       "      <td>876600</td>\n",
       "      <td>853800</td>\n",
       "      <td>Unemployemnt Level 1</td>\n",
       "      <td>After Recession</td>\n",
       "    </tr>\n",
       "    <tr>\n",
       "      <th>1201</th>\n",
       "      <td>2014-01-01</td>\n",
       "      <td>All Employed Workers</td>\n",
       "      <td>91.421976</td>\n",
       "      <td>California</td>\n",
       "      <td>113100</td>\n",
       "      <td>312900</td>\n",
       "      <td>18629000</td>\n",
       "      <td>17031000</td>\n",
       "      <td>1251200</td>\n",
       "      <td>1598000</td>\n",
       "      <td>876600</td>\n",
       "      <td>853800</td>\n",
       "      <td>All Employed Workers</td>\n",
       "      <td>After Recession</td>\n",
       "    </tr>\n",
       "    <tr>\n",
       "      <th>1200</th>\n",
       "      <td>2014-01-01</td>\n",
       "      <td>All Marginally Attached Workers</td>\n",
       "      <td>1.679639</td>\n",
       "      <td>California</td>\n",
       "      <td>113100</td>\n",
       "      <td>312900</td>\n",
       "      <td>18629000</td>\n",
       "      <td>17031000</td>\n",
       "      <td>1251200</td>\n",
       "      <td>1598000</td>\n",
       "      <td>876600</td>\n",
       "      <td>853800</td>\n",
       "      <td>Unemployemnt Level 1</td>\n",
       "      <td>After Recession</td>\n",
       "    </tr>\n",
       "    <tr>\n",
       "      <th>1680</th>\n",
       "      <td>2014-01-01</td>\n",
       "      <td>All Marginally Attached Workers</td>\n",
       "      <td>1.161871</td>\n",
       "      <td>Texas</td>\n",
       "      <td>48800</td>\n",
       "      <td>149800</td>\n",
       "      <td>12893000</td>\n",
       "      <td>12123900</td>\n",
       "      <td>537000</td>\n",
       "      <td>769100</td>\n",
       "      <td>348800</td>\n",
       "      <td>348400</td>\n",
       "      <td>Unemployemnt Level 1</td>\n",
       "      <td>After Recession</td>\n",
       "    </tr>\n",
       "  </tbody>\n",
       "</table>\n",
       "</div>"
      ],
      "text/plain": [
       "     observation_date                 Labor_Rate_Names  Labor_Rate_Values  \\\n",
       "721        2014-01-01             All Employed Workers          92.984658   \n",
       "1202       2014-01-01   Employed Involuntary Part-Time           6.716410   \n",
       "1201       2014-01-01             All Employed Workers          91.421976   \n",
       "1200       2014-01-01  All Marginally Attached Workers           1.679639   \n",
       "1680       2014-01-01  All Marginally Attached Workers           1.161871   \n",
       "\n",
       "           State  DISCWORK  ALLMARGAT     CIVLF    EMPLOY  INVOLPTEMP  \\\n",
       "721      Florida     75700     154600   9483500   8818200      558900   \n",
       "1202  California    113100     312900  18629000  17031000     1251200   \n",
       "1201  California    113100     312900  18629000  17031000     1251200   \n",
       "1200  California    113100     312900  18629000  17031000     1251200   \n",
       "1680       Texas     48800     149800  12893000  12123900      537000   \n",
       "\n",
       "      UNEMPLOY  UNEMP15  JOBLOS  unemployement_levels        Indicator  \n",
       "721     665400   412400  376500  All Employed Workers  After Recession  \n",
       "1202   1598000   876600  853800  Unemployemnt Level 1  After Recession  \n",
       "1201   1598000   876600  853800  All Employed Workers  After Recession  \n",
       "1200   1598000   876600  853800  Unemployemnt Level 1  After Recession  \n",
       "1680    769100   348800  348400  Unemployemnt Level 1  After Recession  "
      ]
     },
     "execution_count": 11,
     "metadata": {},
     "output_type": "execute_result"
    }
   ],
   "source": [
    "unempl_recess.tail()"
   ]
  },
  {
   "cell_type": "code",
   "execution_count": 12,
   "metadata": {},
   "outputs": [],
   "source": [
    "unempl_recess_rate = unempl_recess[unempl_recess['Labor_Rate_Names'] != 'All Employed Workers']\n",
    "empl_recess_rate = unempl_recess[unempl_recess['Labor_Rate_Names'] == 'All Employed Workers']\n",
    "selectunemprate_unique = list(unempl_recess_rate['unemployement_levels'].unique())\n",
    "selectstate_unique = list(unempl_recess_rate['State'].sort_values().unique())"
   ]
  },
  {
   "cell_type": "markdown",
   "metadata": {},
   "source": [
    "Recession Line graph"
   ]
  },
  {
   "cell_type": "code",
   "execution_count": 13,
   "metadata": {},
   "outputs": [],
   "source": [
    "select_state = dcc_dropdown(selectstate_unique,selectstate_unique[0],'state')\n",
    "select_unemprate = dcc_dropdown(selectunemprate_unique,selectunemprate_unique[1],'rate')\n",
    "#creating graph components\n",
    "unemp_rate = dcc.Graph(id = 'figure_1')\n",
    "\n",
    "#callback setup\n",
    "\n",
    "@app.callback(\n",
    "        Output(\"figure_1\", \"figure\"), \n",
    "        [Input(\"state\", \"value\"),\n",
    "        Input(\"rate\", \"value\")]\n",
    ")\n",
    "\n",
    "def update_unemp_rate_graph(selected_state,selected_unemprate):\n",
    "        \n",
    "        unempl_recess_g =unempl_recess_rate[(unempl_recess['unemployement_levels'] == selected_unemprate) & (unempl_recess['State'] == selected_state) ] \n",
    "        unempl_recess_pre = unempl_recess_g[unempl_recess_g['Indicator'] == 'Before Recession']  \n",
    "        unempl_recess_dur = unempl_recess_g[unempl_recess_g['Indicator'] == 'During Recession'] \n",
    "        unempl_recess_post = unempl_recess_g[unempl_recess_g['Indicator'] == 'After Recession']\n",
    "        fig = make_subplots(rows=1, cols=3,shared_yaxes=True,subplot_titles=(\"Pre-Recession\", \"During-Recession\", \"Post-Recession\"),x_title=\"Year\",\n",
    "                        y_title=\"Unemployment Rate\")\n",
    "        \n",
    "        for type in unempl_recess_pre['Labor_Rate_Names'].unique():\n",
    "                data_1 = unempl_recess_pre[unempl_recess_pre['Labor_Rate_Names'] == type]\n",
    "                fig.add_trace(go.Scatter(x=data_1['observation_date'], y=data_1['Labor_Rate_Values'], mode='lines',name = type),\n",
    "                                row=1, col=1)\n",
    "        \n",
    "        for type2 in unempl_recess_dur['Labor_Rate_Names'].unique():\n",
    "                data_2 = unempl_recess_dur[unempl_recess_dur['Labor_Rate_Names'] == type2]\n",
    "                fig.add_trace(go.Scatter(x=data_2['observation_date'], y=data_2['Labor_Rate_Values'], mode='lines',name = type2),\n",
    "                                row=1, col=2)\n",
    "        \n",
    "        for type3 in unempl_recess_post['Labor_Rate_Names'].unique():\n",
    "                data_3 = unempl_recess_post[unempl_recess_post['Labor_Rate_Names'] == type3]\n",
    "                fig.add_trace(go.Scatter(x=data_3['observation_date'], y=data_3['Labor_Rate_Values'], mode='lines',name = type3),\n",
    "                                row=1, col=3)\n",
    "                \n",
    "        fig.update_layout(title=selected_unemprate + ' in ' + selected_state, showlegend=True)\n",
    "        return fig"
   ]
  },
  {
   "cell_type": "markdown",
   "metadata": {},
   "source": [
    "Recession Bar Graph"
   ]
  },
  {
   "cell_type": "code",
   "execution_count": 14,
   "metadata": {},
   "outputs": [],
   "source": [
    "select_state = dcc_dropdown(selectstate_unique,selectstate_unique[0],'state')\n",
    "#select_unemprate = dcc_dropdown(selectunemprate_unique,selectunemprate_unique[0],'rate')\n",
    "\n",
    "unemp_bar = dcc.Graph(id = 'figure_2')\n",
    "\n",
    "@app.callback(\n",
    "        Output(\"figure_2\", \"figure\"), \n",
    "        [Input(\"state\", \"value\")]\n",
    ")\n",
    "\n",
    "def update_unemp_absolute_graph (selected_state):\n",
    "        \n",
    "        unempl_recess_g =empl_recess_rate[empl_recess_rate['State'] == selected_state] \n",
    "    \n",
    "        unemp_absolute_graph_fig = px.bar(unempl_recess_g,\n",
    "                  x = 'observation_date',\n",
    "                  y = 'Labor_Rate_Values',\n",
    "                  color = 'Indicator',\n",
    "                  title=  'Employent Rate in ' + selected_state\n",
    "                  )\n",
    "        unemp_absolute_graph_fig.update_xaxes(title='Year')\n",
    "        unemp_absolute_graph_fig.update_yaxes(title= 'Unemployment Rate')\n",
    "        return unemp_absolute_graph_fig"
   ]
  },
  {
   "cell_type": "markdown",
   "metadata": {},
   "source": [
    "Recession Tab"
   ]
  },
  {
   "cell_type": "code",
   "execution_count": 15,
   "metadata": {},
   "outputs": [],
   "source": [
    "drop_down_3_tab = dbc.Card([\n",
    "    card(\"Recession Analysis by state and Employment type\"),\n",
    "    dbc.Row([\n",
    "           dbc.Col(dropdown(\"Select State\",dcc_dropdown(selectstate_unique,selectstate_unique[0],'state')),width=5),\n",
    "           dbc.Col(dropdown(\"Unemployment Levels\",dcc_dropdown(selectunemprate_unique,selectunemprate_unique[0],'rate')),width=5)\n",
    "                ]),\n",
    "    dbc.Row([\n",
    "           tab_graph(\"Unemployment Rate By State - Recession\",unemp_rate),\n",
    "           tab_graph(\"Employment Rate by State-Recession\",unemp_bar)\n",
    "    ])\n",
    "])"
   ]
  },
  {
   "cell_type": "markdown",
   "metadata": {},
   "source": [
    "DF cleaning for covid"
   ]
  },
  {
   "cell_type": "code",
   "execution_count": 16,
   "metadata": {},
   "outputs": [
    {
     "name": "stderr",
     "output_type": "stream",
     "text": [
      "C:\\Users\\Karthi\\AppData\\Local\\Temp\\ipykernel_11596\\1723868552.py:14: SettingWithCopyWarning:\n",
      "\n",
      "\n",
      "A value is trying to be set on a copy of a slice from a DataFrame.\n",
      "Try using .loc[row_indexer,col_indexer] = value instead\n",
      "\n",
      "See the caveats in the documentation: https://pandas.pydata.org/pandas-docs/stable/user_guide/indexing.html#returning-a-view-versus-a-copy\n",
      "\n",
      "C:\\Users\\Karthi\\AppData\\Local\\Temp\\ipykernel_11596\\1723868552.py:15: SettingWithCopyWarning:\n",
      "\n",
      "\n",
      "A value is trying to be set on a copy of a slice from a DataFrame.\n",
      "Try using .loc[row_indexer,col_indexer] = value instead\n",
      "\n",
      "See the caveats in the documentation: https://pandas.pydata.org/pandas-docs/stable/user_guide/indexing.html#returning-a-view-versus-a-copy\n",
      "\n",
      "C:\\Users\\Karthi\\AppData\\Local\\Temp\\ipykernel_11596\\1723868552.py:16: SettingWithCopyWarning:\n",
      "\n",
      "\n",
      "A value is trying to be set on a copy of a slice from a DataFrame.\n",
      "Try using .loc[row_indexer,col_indexer] = value instead\n",
      "\n",
      "See the caveats in the documentation: https://pandas.pydata.org/pandas-docs/stable/user_guide/indexing.html#returning-a-view-versus-a-copy\n",
      "\n"
     ]
    },
    {
     "data": {
      "text/html": [
       "<div>\n",
       "<style scoped>\n",
       "    .dataframe tbody tr th:only-of-type {\n",
       "        vertical-align: middle;\n",
       "    }\n",
       "\n",
       "    .dataframe tbody tr th {\n",
       "        vertical-align: top;\n",
       "    }\n",
       "\n",
       "    .dataframe thead th {\n",
       "        text-align: right;\n",
       "    }\n",
       "</style>\n",
       "<table border=\"1\" class=\"dataframe\">\n",
       "  <thead>\n",
       "    <tr style=\"text-align: right;\">\n",
       "      <th></th>\n",
       "      <th>observation_date</th>\n",
       "      <th>Labor_Rate_Names</th>\n",
       "      <th>Labor_Rate_Values</th>\n",
       "      <th>State</th>\n",
       "      <th>DISCWORK</th>\n",
       "      <th>ALLMARGAT</th>\n",
       "      <th>CIVLF</th>\n",
       "      <th>EMPLOY</th>\n",
       "      <th>INVOLPTEMP</th>\n",
       "      <th>UNEMPLOY</th>\n",
       "      <th>UNEMP15</th>\n",
       "      <th>JOBLOS</th>\n",
       "      <th>unemployement_levels</th>\n",
       "      <th>Indicator</th>\n",
       "    </tr>\n",
       "  </thead>\n",
       "  <tbody>\n",
       "    <tr>\n",
       "      <th>1873</th>\n",
       "      <td>2022-01-01</td>\n",
       "      <td>All Employed Workers</td>\n",
       "      <td>95.192087</td>\n",
       "      <td>Texas</td>\n",
       "      <td>34600</td>\n",
       "      <td>127400</td>\n",
       "      <td>14376300</td>\n",
       "      <td>13685100</td>\n",
       "      <td>419000</td>\n",
       "      <td>691200</td>\n",
       "      <td>294500</td>\n",
       "      <td>350200</td>\n",
       "      <td>All Employed Workers</td>\n",
       "      <td>After Covid</td>\n",
       "    </tr>\n",
       "    <tr>\n",
       "      <th>432</th>\n",
       "      <td>2022-01-01</td>\n",
       "      <td>All Marginally Attached Workers</td>\n",
       "      <td>1.517364</td>\n",
       "      <td>NewYork</td>\n",
       "      <td>48800</td>\n",
       "      <td>140300</td>\n",
       "      <td>9246300</td>\n",
       "      <td>8694500</td>\n",
       "      <td>309900</td>\n",
       "      <td>551800</td>\n",
       "      <td>322500</td>\n",
       "      <td>323700</td>\n",
       "      <td>Unemployemnt Level 1</td>\n",
       "      <td>After Covid</td>\n",
       "    </tr>\n",
       "    <tr>\n",
       "      <th>433</th>\n",
       "      <td>2022-01-01</td>\n",
       "      <td>All Employed Workers</td>\n",
       "      <td>94.032207</td>\n",
       "      <td>NewYork</td>\n",
       "      <td>48800</td>\n",
       "      <td>140300</td>\n",
       "      <td>9246300</td>\n",
       "      <td>8694500</td>\n",
       "      <td>309900</td>\n",
       "      <td>551800</td>\n",
       "      <td>322500</td>\n",
       "      <td>323700</td>\n",
       "      <td>All Employed Workers</td>\n",
       "      <td>After Covid</td>\n",
       "    </tr>\n",
       "    <tr>\n",
       "      <th>434</th>\n",
       "      <td>2022-01-01</td>\n",
       "      <td>Employed Involuntary Part-Time</td>\n",
       "      <td>3.351611</td>\n",
       "      <td>NewYork</td>\n",
       "      <td>48800</td>\n",
       "      <td>140300</td>\n",
       "      <td>9246300</td>\n",
       "      <td>8694500</td>\n",
       "      <td>309900</td>\n",
       "      <td>551800</td>\n",
       "      <td>322500</td>\n",
       "      <td>323700</td>\n",
       "      <td>Unemployemnt Level 1</td>\n",
       "      <td>After Covid</td>\n",
       "    </tr>\n",
       "    <tr>\n",
       "      <th>1872</th>\n",
       "      <td>2022-01-01</td>\n",
       "      <td>All Marginally Attached Workers</td>\n",
       "      <td>0.886181</td>\n",
       "      <td>Texas</td>\n",
       "      <td>34600</td>\n",
       "      <td>127400</td>\n",
       "      <td>14376300</td>\n",
       "      <td>13685100</td>\n",
       "      <td>419000</td>\n",
       "      <td>691200</td>\n",
       "      <td>294500</td>\n",
       "      <td>350200</td>\n",
       "      <td>Unemployemnt Level 1</td>\n",
       "      <td>After Covid</td>\n",
       "    </tr>\n",
       "  </tbody>\n",
       "</table>\n",
       "</div>"
      ],
      "text/plain": [
       "     observation_date                 Labor_Rate_Names  Labor_Rate_Values  \\\n",
       "1873       2022-01-01             All Employed Workers          95.192087   \n",
       "432        2022-01-01  All Marginally Attached Workers           1.517364   \n",
       "433        2022-01-01             All Employed Workers          94.032207   \n",
       "434        2022-01-01   Employed Involuntary Part-Time           3.351611   \n",
       "1872       2022-01-01  All Marginally Attached Workers           0.886181   \n",
       "\n",
       "        State  DISCWORK  ALLMARGAT     CIVLF    EMPLOY  INVOLPTEMP  UNEMPLOY  \\\n",
       "1873    Texas     34600     127400  14376300  13685100      419000    691200   \n",
       "432   NewYork     48800     140300   9246300   8694500      309900    551800   \n",
       "433   NewYork     48800     140300   9246300   8694500      309900    551800   \n",
       "434   NewYork     48800     140300   9246300   8694500      309900    551800   \n",
       "1872    Texas     34600     127400  14376300  13685100      419000    691200   \n",
       "\n",
       "      UNEMP15  JOBLOS  unemployement_levels    Indicator  \n",
       "1873   294500  350200  All Employed Workers  After Covid  \n",
       "432    322500  323700  Unemployemnt Level 1  After Covid  \n",
       "433    322500  323700  All Employed Workers  After Covid  \n",
       "434    322500  323700  Unemployemnt Level 1  After Covid  \n",
       "1872   294500  350200  Unemployemnt Level 1  After Covid  "
      ]
     },
     "execution_count": 16,
     "metadata": {},
     "output_type": "execute_result"
    }
   ],
   "source": [
    "unempl['observation_date'] = pd.to_datetime(unempl['observation_date'],format = '%d-%m-%Y')\n",
    "unempl = unempl.sort_values('observation_date')\n",
    "unempl_covid = unempl[(unempl['observation_date'] >= '2019') & (unempl['observation_date'] <= '2022')]\n",
    "def indicator_covid(num):\n",
    "    if num.year <= 2019:\n",
    "        return \"Before Covid\"\n",
    " \n",
    "    elif num.year >= 2019 and num.year < 2021:\n",
    "        return \"During Covid\"\n",
    " \n",
    "    else:\n",
    "        return \"After Covid\"\n",
    "\n",
    "unempl_covid['Indicator'] = unempl_covid['observation_date'].apply(lambda date : indicator_covid(date))\n",
    "unempl_covid['Labor_Rate_Names'] = unempl_covid['Labor_Rate_Names'].replace(dic_names)\n",
    "unempl_covid['unemployement_levels']=unempl_covid['Labor_Rate_Names'].apply(group)\n",
    "unempl_covid.tail()"
   ]
  },
  {
   "cell_type": "code",
   "execution_count": 17,
   "metadata": {},
   "outputs": [],
   "source": [
    "unempl_covid_rate = unempl_covid[unempl_covid['Labor_Rate_Names'] != 'All Employed Workers']\n",
    "empl_covid_rate = unempl_covid[unempl_covid['Labor_Rate_Names'] == 'All Employed Workers']\n",
    "selectunemprate_covid_unique = list(unempl_covid_rate['unemployement_levels'].unique())\n",
    "selectstate_covid_unique = list(unempl_covid_rate['State'].sort_values().unique())"
   ]
  },
  {
   "cell_type": "markdown",
   "metadata": {},
   "source": [
    "Line Graph for Covid"
   ]
  },
  {
   "cell_type": "code",
   "execution_count": 18,
   "metadata": {},
   "outputs": [],
   "source": [
    "select_state_covid = dcc_dropdown(selectstate_covid_unique,selectstate_covid_unique[0],'state_covid')\n",
    "select_unemprate_covid = dcc_dropdown(selectunemprate_covid_unique,selectunemprate_covid_unique[1],'rate_covid')\n",
    "#creating graph components\n",
    "unemp_rate_covid = dcc.Graph(id = 'figure_2_covidline')\n",
    "\n",
    "#callback setup\n",
    "\n",
    "@app.callback(\n",
    "        Output(\"figure_2_covidline\", \"figure\"), \n",
    "        [Input(\"state_covid\", \"value\"),\n",
    "        Input(\"rate_covid\", \"value\")]\n",
    ")\n",
    "\n",
    "def update_unemp_rate_graph_covid(selected_state,selected_unemprate):\n",
    "        \n",
    "        unempl_covid_g =unempl_covid_rate[(unempl_covid['unemployement_levels'] == selected_unemprate) & (unempl_covid['State'] == selected_state) ] \n",
    "        unempl_covid_pre = unempl_covid_g[unempl_covid_g['Indicator'] == 'Before Covid']  \n",
    "        unempl_covid_dur = unempl_covid_g[unempl_covid_g['Indicator'] == 'During Covid'] \n",
    "        unempl_covid_post = unempl_covid_g[unempl_covid_g['Indicator'] == 'After Covid']\n",
    "        fig_line_covid= make_subplots(rows=1, cols=3,shared_yaxes=True,subplot_titles=(\"Pre-Covid\", \"During-Covid\", \"Post-Covid\"),x_title=\"Year\",\n",
    "                        y_title=\"Unemployment Rate\")\n",
    "        \n",
    "        for type in unempl_covid_pre['Labor_Rate_Names'].unique():\n",
    "                data_1 = unempl_covid_pre[unempl_covid_pre['Labor_Rate_Names'] == type]\n",
    "                fig_line_covid.add_trace(go.Scatter(x=data_1['observation_date'], y=data_1['Labor_Rate_Values'], mode='lines',name = type),\n",
    "                                row=1, col=1)\n",
    "        \n",
    "        for type2 in unempl_covid_dur['Labor_Rate_Names'].unique():\n",
    "                data_2 = unempl_covid_dur[unempl_covid_dur['Labor_Rate_Names'] == type2]\n",
    "                fig_line_covid.add_trace(go.Scatter(x=data_2['observation_date'], y=data_2['Labor_Rate_Values'], mode='lines',name = type2),\n",
    "                                row=1, col=2)\n",
    "        \n",
    "        for type3 in unempl_covid_post['Labor_Rate_Names'].unique():\n",
    "                data_3 = unempl_covid_post[unempl_covid_post['Labor_Rate_Names'] == type3]\n",
    "                fig_line_covid.add_trace(go.Scatter(x=data_3['observation_date'], y=data_3['Labor_Rate_Values'], mode='lines',name = type3),\n",
    "                                row=1, col=3)\n",
    "                \n",
    "        fig_line_covid.update_layout(title=selected_unemprate + ' in ' + selected_state, showlegend=True)\n",
    "        return fig_line_covid"
   ]
  },
  {
   "cell_type": "markdown",
   "metadata": {},
   "source": [
    "Bar Graph for Covid"
   ]
  },
  {
   "cell_type": "code",
   "execution_count": 19,
   "metadata": {},
   "outputs": [],
   "source": [
    "select_state_covid = dcc_dropdown(selectstate_covid_unique,selectstate_covid_unique[0],'state_covid')\n",
    "#select_unemprate = dcc_dropdown(selectunemprate_unique,selectunemprate_unique[0],'rate')\n",
    "\n",
    "unemp_bar_covid = dcc.Graph(id = 'figure_2_covidbar')\n",
    "\n",
    "@app.callback(\n",
    "        Output(\"figure_2_covidbar\", \"figure\"), \n",
    "        [Input(\"state_covid\", \"value\")]\n",
    ")\n",
    "\n",
    "def update_unemp_absolute_graph_covid(selected_state):\n",
    "        \n",
    "        unempl_covid_g =empl_covid_rate[empl_covid_rate['State'] == selected_state] \n",
    "    \n",
    "        employ_rate_covid = px.bar(unempl_covid_g,\n",
    "                  x = 'observation_date',\n",
    "                  y = 'Labor_Rate_Values',\n",
    "                  color = 'Indicator',\n",
    "                  title=  'Employent Rate in ' + selected_state + '(Covid)'\n",
    "                  )\n",
    "        employ_rate_covid.update_xaxes(title='Year')\n",
    "        employ_rate_covid.update_yaxes(title='Employment Rate')\n",
    "        return employ_rate_covid "
   ]
  },
  {
   "cell_type": "markdown",
   "metadata": {},
   "source": [
    "Covid tab"
   ]
  },
  {
   "cell_type": "code",
   "execution_count": 20,
   "metadata": {},
   "outputs": [],
   "source": [
    "drop_down_4_tab = dbc.Card([\n",
    "    card(\"Covid Analysis by state and Employment type\"),\n",
    "    dbc.Row([\n",
    "           dbc.Col(dropdown(\"Select State\",dcc_dropdown(selectstate_covid_unique,selectstate_covid_unique[0],'state_covid')),width=5),\n",
    "           dbc.Col(dropdown(\"Unemployment Levels\",dcc_dropdown(selectunemprate_covid_unique,selectunemprate_covid_unique[1],'rate_covid')),width=5)\n",
    "                ]),\n",
    "    dbc.Row([\n",
    "           tab_graph(\"Unemployment Rate by State-Covid\",unemp_rate_covid),\n",
    "           tab_graph(\"Employment Rate by State-Covid\",unemp_bar_covid)\n",
    "    ])\n",
    "    \n",
    "])"
   ]
  },
  {
   "cell_type": "code",
   "execution_count": 21,
   "metadata": {},
   "outputs": [
    {
     "data": {
      "text/html": [
       "<div>\n",
       "<style scoped>\n",
       "    .dataframe tbody tr th:only-of-type {\n",
       "        vertical-align: middle;\n",
       "    }\n",
       "\n",
       "    .dataframe tbody tr th {\n",
       "        vertical-align: top;\n",
       "    }\n",
       "\n",
       "    .dataframe thead th {\n",
       "        text-align: right;\n",
       "    }\n",
       "</style>\n",
       "<table border=\"1\" class=\"dataframe\">\n",
       "  <thead>\n",
       "    <tr style=\"text-align: right;\">\n",
       "      <th></th>\n",
       "      <th>observation_date</th>\n",
       "      <th>Labor_Rate_Names</th>\n",
       "      <th>Labor_Rate_Values</th>\n",
       "      <th>State</th>\n",
       "      <th>DISCWORK</th>\n",
       "      <th>ALLMARGAT</th>\n",
       "      <th>CIVLF</th>\n",
       "      <th>EMPLOY</th>\n",
       "      <th>INVOLPTEMP</th>\n",
       "      <th>UNEMPLOY</th>\n",
       "      <th>UNEMP15</th>\n",
       "      <th>JOBLOS</th>\n",
       "      <th>unemployement_levels</th>\n",
       "      <th>Indicator</th>\n",
       "    </tr>\n",
       "  </thead>\n",
       "  <tbody>\n",
       "    <tr>\n",
       "      <th>0</th>\n",
       "      <td>2004-01-01</td>\n",
       "      <td>All Marginally Attached Workers</td>\n",
       "      <td>1.323962</td>\n",
       "      <td>NewYork</td>\n",
       "      <td>43000</td>\n",
       "      <td>124700</td>\n",
       "      <td>9418700</td>\n",
       "      <td>8809300</td>\n",
       "      <td>260600</td>\n",
       "      <td>609400</td>\n",
       "      <td>282300</td>\n",
       "      <td>345300</td>\n",
       "      <td>Unemployemnt Level 1</td>\n",
       "      <td>Before Recession</td>\n",
       "    </tr>\n",
       "    <tr>\n",
       "      <th>1443</th>\n",
       "      <td>2004-01-01</td>\n",
       "      <td>Civilians Unemployed for min 15 Weeks</td>\n",
       "      <td>2.289082</td>\n",
       "      <td>Texas</td>\n",
       "      <td>35300</td>\n",
       "      <td>106800</td>\n",
       "      <td>10978200</td>\n",
       "      <td>10252900</td>\n",
       "      <td>438400</td>\n",
       "      <td>725200</td>\n",
       "      <td>251300</td>\n",
       "      <td>368400</td>\n",
       "      <td>Unemployemnt Level 2</td>\n",
       "      <td>Before Recession</td>\n",
       "    </tr>\n",
       "    <tr>\n",
       "      <th>1442</th>\n",
       "      <td>2004-01-01</td>\n",
       "      <td>Employed Involuntary Part-Time</td>\n",
       "      <td>3.993369</td>\n",
       "      <td>Texas</td>\n",
       "      <td>35300</td>\n",
       "      <td>106800</td>\n",
       "      <td>10978200</td>\n",
       "      <td>10252900</td>\n",
       "      <td>438400</td>\n",
       "      <td>725200</td>\n",
       "      <td>251300</td>\n",
       "      <td>368400</td>\n",
       "      <td>Unemployemnt Level 1</td>\n",
       "      <td>Before Recession</td>\n",
       "    </tr>\n",
       "    <tr>\n",
       "      <th>1441</th>\n",
       "      <td>2004-01-01</td>\n",
       "      <td>All Employed Workers</td>\n",
       "      <td>93.393270</td>\n",
       "      <td>Texas</td>\n",
       "      <td>35300</td>\n",
       "      <td>106800</td>\n",
       "      <td>10978200</td>\n",
       "      <td>10252900</td>\n",
       "      <td>438400</td>\n",
       "      <td>725200</td>\n",
       "      <td>251300</td>\n",
       "      <td>368400</td>\n",
       "      <td>All Employed Workers</td>\n",
       "      <td>Before Recession</td>\n",
       "    </tr>\n",
       "    <tr>\n",
       "      <th>1440</th>\n",
       "      <td>2004-01-01</td>\n",
       "      <td>All Marginally Attached Workers</td>\n",
       "      <td>0.972837</td>\n",
       "      <td>Texas</td>\n",
       "      <td>35300</td>\n",
       "      <td>106800</td>\n",
       "      <td>10978200</td>\n",
       "      <td>10252900</td>\n",
       "      <td>438400</td>\n",
       "      <td>725200</td>\n",
       "      <td>251300</td>\n",
       "      <td>368400</td>\n",
       "      <td>Unemployemnt Level 1</td>\n",
       "      <td>Before Recession</td>\n",
       "    </tr>\n",
       "  </tbody>\n",
       "</table>\n",
       "</div>"
      ],
      "text/plain": [
       "     observation_date                       Labor_Rate_Names  \\\n",
       "0          2004-01-01        All Marginally Attached Workers   \n",
       "1443       2004-01-01  Civilians Unemployed for min 15 Weeks   \n",
       "1442       2004-01-01         Employed Involuntary Part-Time   \n",
       "1441       2004-01-01                   All Employed Workers   \n",
       "1440       2004-01-01        All Marginally Attached Workers   \n",
       "\n",
       "      Labor_Rate_Values    State  DISCWORK  ALLMARGAT     CIVLF    EMPLOY  \\\n",
       "0              1.323962  NewYork     43000     124700   9418700   8809300   \n",
       "1443           2.289082    Texas     35300     106800  10978200  10252900   \n",
       "1442           3.993369    Texas     35300     106800  10978200  10252900   \n",
       "1441          93.393270    Texas     35300     106800  10978200  10252900   \n",
       "1440           0.972837    Texas     35300     106800  10978200  10252900   \n",
       "\n",
       "      INVOLPTEMP  UNEMPLOY  UNEMP15  JOBLOS  unemployement_levels  \\\n",
       "0         260600    609400   282300  345300  Unemployemnt Level 1   \n",
       "1443      438400    725200   251300  368400  Unemployemnt Level 2   \n",
       "1442      438400    725200   251300  368400  Unemployemnt Level 1   \n",
       "1441      438400    725200   251300  368400  All Employed Workers   \n",
       "1440      438400    725200   251300  368400  Unemployemnt Level 1   \n",
       "\n",
       "             Indicator  \n",
       "0     Before Recession  \n",
       "1443  Before Recession  \n",
       "1442  Before Recession  \n",
       "1441  Before Recession  \n",
       "1440  Before Recession  "
      ]
     },
     "execution_count": 21,
     "metadata": {},
     "output_type": "execute_result"
    }
   ],
   "source": [
    "unempl_covid.head()\n",
    "unempl_recess.head()\n",
    "emp_analysis = list(unempl_covid['Labor_Rate_Names'].unique())\n",
    "emp_analysis\n",
    "unempl_recess.head()"
   ]
  },
  {
   "cell_type": "markdown",
   "metadata": {},
   "source": [
    "Analysis Tab Recession Line Graph"
   ]
  },
  {
   "cell_type": "code",
   "execution_count": 22,
   "metadata": {},
   "outputs": [],
   "source": [
    "emp_analysis_drop = dcc_dropdown(emp_analysis,emp_analysis[0],'emp_type_analysis')\n",
    "#select_unemprate = dcc_dropdown(selectunemprate_unique,selectunemprate_unique[0],'rate')\n",
    "\n",
    "emp_analysis_graph = dcc.Graph(id = 'figure_1_analysis')\n",
    "\n",
    "@app.callback(\n",
    "        Output(\"figure_1_analysis\", \"figure\"), \n",
    "        [Input(\"emp_type_analysis\", \"value\")]\n",
    ")\n",
    "\n",
    "def update_emp_analysis_graph(selected_emp_type):\n",
    "        \n",
    "        unempl_recess_fig =unempl_recess[unempl_recess['Labor_Rate_Names'] == selected_emp_type] \n",
    "    \n",
    "        employ_rate_recession_all = px.line(unempl_recess_fig,\n",
    "                  x = 'observation_date',\n",
    "                  y = 'Labor_Rate_Values',\n",
    "                  color = 'State',\n",
    "                  symbol = 'State',\n",
    "                  title=  'State-wise ' + selected_emp_type + ' Comparision'\n",
    "                  )\n",
    "        employ_rate_recession_all.update_xaxes(title='Year')\n",
    "        employ_rate_recession_all.update_yaxes(title= 'Unemployment Rate')\n",
    "        return employ_rate_recession_all"
   ]
  },
  {
   "cell_type": "markdown",
   "metadata": {},
   "source": [
    "Analysis Tab Covid Line Graph"
   ]
  },
  {
   "cell_type": "code",
   "execution_count": 23,
   "metadata": {},
   "outputs": [],
   "source": [
    "emp_analysis_drop_covid = dcc_dropdown(emp_analysis,emp_analysis[0],'emp_type_analysis')\n",
    "#select_unemprate = dcc_dropdown(selectunemprate_unique,selectunemprate_unique[0],'rate')\n",
    "\n",
    "emp_analysis_graph_covid = dcc.Graph(id = 'figure_2_analysis_covid')\n",
    "\n",
    "@app.callback(\n",
    "        Output(\"figure_2_analysis_covid\", \"figure\"), \n",
    "        [Input(\"emp_type_analysis\", \"value\")]\n",
    ")\n",
    "\n",
    "def update_emp_analysis_graph_covid(selected_emp_type):\n",
    "        \n",
    "        unempl_covid_fig =unempl_covid[unempl_covid['Labor_Rate_Names'] == selected_emp_type] \n",
    "    \n",
    "        employ_rate_covid_all = px.line(unempl_covid_fig,\n",
    "                  x = 'observation_date',\n",
    "                  y = 'Labor_Rate_Values',\n",
    "                  color = 'State',\n",
    "                  symbol = 'State',\n",
    "                  title=  'State-wise ' + selected_emp_type + ' Comparision'\n",
    "                  )\n",
    "        employ_rate_covid_all.update_xaxes(title='Year')\n",
    "        employ_rate_covid_all.update_yaxes(title= 'Unemployment Rate')\n",
    "        return employ_rate_covid_all"
   ]
  },
  {
   "cell_type": "markdown",
   "metadata": {},
   "source": [
    "Analysis Recession Box Plot "
   ]
  },
  {
   "cell_type": "code",
   "execution_count": 24,
   "metadata": {},
   "outputs": [],
   "source": [
    "emp_analysis_drop = dcc_dropdown(emp_analysis,emp_analysis[0],'emp_type_analysis')\n",
    "#select_unemprate = dcc_dropdown(selectunemprate_unique,selectunemprate_unique[0],'rate')\n",
    "\n",
    "emp_analysis_graph_box = dcc.Graph(id = 'figure_3_analysis_box')\n",
    "\n",
    "@app.callback(\n",
    "        Output(\"figure_3_analysis_box\", \"figure\"), \n",
    "        [Input(\"emp_type_analysis\", \"value\")]\n",
    ")\n",
    "def update_emp_analysis_graph_box(selected_emp_type):\n",
    "        \n",
    "        unempl_recess_fig_box =unempl_recess[unempl_recess['Labor_Rate_Names'] == selected_emp_type] \n",
    "        unempl_recess_fig_box = unempl_recess_fig_box[(unempl_recess_fig_box['observation_date'] >='2008') & (unempl_recess_fig_box['observation_date'] <='2010')]\n",
    "        employ_rate_recession_box = px.box(unempl_recess_fig_box,\n",
    "                  x = 'State',\n",
    "                  y = 'Labor_Rate_Values',\n",
    "                  color = 'State',\n",
    "                  notched= True,\n",
    "                  title=  'State-wise ' + selected_emp_type + ' (2008-2010)'\n",
    "                  )\n",
    "        employ_rate_recession_box.update_xaxes(title='Year')\n",
    "        employ_rate_recession_box.update_yaxes(title= 'Unemployment Rate')\n",
    "        return employ_rate_recession_box"
   ]
  },
  {
   "cell_type": "code",
   "execution_count": 25,
   "metadata": {},
   "outputs": [
    {
     "data": {
      "text/html": [
       "<div>\n",
       "<style scoped>\n",
       "    .dataframe tbody tr th:only-of-type {\n",
       "        vertical-align: middle;\n",
       "    }\n",
       "\n",
       "    .dataframe tbody tr th {\n",
       "        vertical-align: top;\n",
       "    }\n",
       "\n",
       "    .dataframe thead th {\n",
       "        text-align: right;\n",
       "    }\n",
       "</style>\n",
       "<table border=\"1\" class=\"dataframe\">\n",
       "  <thead>\n",
       "    <tr style=\"text-align: right;\">\n",
       "      <th></th>\n",
       "      <th>observation_date</th>\n",
       "      <th>Labor_Rate_Names</th>\n",
       "      <th>Labor_Rate_Values</th>\n",
       "      <th>State</th>\n",
       "      <th>DISCWORK</th>\n",
       "      <th>ALLMARGAT</th>\n",
       "      <th>CIVLF</th>\n",
       "      <th>EMPLOY</th>\n",
       "      <th>INVOLPTEMP</th>\n",
       "      <th>UNEMPLOY</th>\n",
       "      <th>UNEMP15</th>\n",
       "      <th>JOBLOS</th>\n",
       "      <th>unemployement_levels</th>\n",
       "    </tr>\n",
       "  </thead>\n",
       "  <tbody>\n",
       "    <tr>\n",
       "      <th>865</th>\n",
       "      <td>2020-01-01</td>\n",
       "      <td>All Employed Workers</td>\n",
       "      <td>96.810373</td>\n",
       "      <td>Florida</td>\n",
       "      <td>31400</td>\n",
       "      <td>96700</td>\n",
       "      <td>10396200</td>\n",
       "      <td>10064600</td>\n",
       "      <td>311800</td>\n",
       "      <td>331600</td>\n",
       "      <td>127500</td>\n",
       "      <td>147100</td>\n",
       "      <td>All Employed Workers</td>\n",
       "    </tr>\n",
       "    <tr>\n",
       "      <th>864</th>\n",
       "      <td>2020-01-01</td>\n",
       "      <td>All Marginally Attached Workers</td>\n",
       "      <td>0.930148</td>\n",
       "      <td>Florida</td>\n",
       "      <td>31400</td>\n",
       "      <td>96700</td>\n",
       "      <td>10396200</td>\n",
       "      <td>10064600</td>\n",
       "      <td>311800</td>\n",
       "      <td>331600</td>\n",
       "      <td>127500</td>\n",
       "      <td>147100</td>\n",
       "      <td>Unemployemnt Level 1</td>\n",
       "    </tr>\n",
       "    <tr>\n",
       "      <th>867</th>\n",
       "      <td>2020-01-01</td>\n",
       "      <td>Civilians Unemployed for min 15 Weeks</td>\n",
       "      <td>1.226410</td>\n",
       "      <td>Florida</td>\n",
       "      <td>31400</td>\n",
       "      <td>96700</td>\n",
       "      <td>10396200</td>\n",
       "      <td>10064600</td>\n",
       "      <td>311800</td>\n",
       "      <td>331600</td>\n",
       "      <td>127500</td>\n",
       "      <td>147100</td>\n",
       "      <td>Unemployemnt Level 2</td>\n",
       "    </tr>\n",
       "    <tr>\n",
       "      <th>868</th>\n",
       "      <td>2020-01-01</td>\n",
       "      <td>Total Unemployment Workers</td>\n",
       "      <td>3.189627</td>\n",
       "      <td>Florida</td>\n",
       "      <td>31400</td>\n",
       "      <td>96700</td>\n",
       "      <td>10396200</td>\n",
       "      <td>10064600</td>\n",
       "      <td>311800</td>\n",
       "      <td>331600</td>\n",
       "      <td>127500</td>\n",
       "      <td>147100</td>\n",
       "      <td>Total Unemployment Workers</td>\n",
       "    </tr>\n",
       "    <tr>\n",
       "      <th>869</th>\n",
       "      <td>2020-01-01</td>\n",
       "      <td>Job losers</td>\n",
       "      <td>1.414940</td>\n",
       "      <td>Florida</td>\n",
       "      <td>31400</td>\n",
       "      <td>96700</td>\n",
       "      <td>10396200</td>\n",
       "      <td>10064600</td>\n",
       "      <td>311800</td>\n",
       "      <td>331600</td>\n",
       "      <td>127500</td>\n",
       "      <td>147100</td>\n",
       "      <td>Unemployemnt Level 2</td>\n",
       "    </tr>\n",
       "  </tbody>\n",
       "</table>\n",
       "</div>"
      ],
      "text/plain": [
       "    observation_date                       Labor_Rate_Names  \\\n",
       "865       2020-01-01                   All Employed Workers   \n",
       "864       2020-01-01        All Marginally Attached Workers   \n",
       "867       2020-01-01  Civilians Unemployed for min 15 Weeks   \n",
       "868       2020-01-01             Total Unemployment Workers   \n",
       "869       2020-01-01                             Job losers   \n",
       "\n",
       "     Labor_Rate_Values    State  DISCWORK  ALLMARGAT     CIVLF    EMPLOY  \\\n",
       "865          96.810373  Florida     31400      96700  10396200  10064600   \n",
       "864           0.930148  Florida     31400      96700  10396200  10064600   \n",
       "867           1.226410  Florida     31400      96700  10396200  10064600   \n",
       "868           3.189627  Florida     31400      96700  10396200  10064600   \n",
       "869           1.414940  Florida     31400      96700  10396200  10064600   \n",
       "\n",
       "     INVOLPTEMP  UNEMPLOY  UNEMP15  JOBLOS        unemployement_levels  \n",
       "865      311800    331600   127500  147100        All Employed Workers  \n",
       "864      311800    331600   127500  147100        Unemployemnt Level 1  \n",
       "867      311800    331600   127500  147100        Unemployemnt Level 2  \n",
       "868      311800    331600   127500  147100  Total Unemployment Workers  \n",
       "869      311800    331600   127500  147100        Unemployemnt Level 2  "
      ]
     },
     "execution_count": 25,
     "metadata": {},
     "output_type": "execute_result"
    }
   ],
   "source": [
    "test = unempl[(unempl['observation_date'] >='2020') & (unempl['observation_date'] <='2021')]\n",
    "test.head()"
   ]
  },
  {
   "cell_type": "markdown",
   "metadata": {},
   "source": [
    "Analysis Tab Covid box Plot"
   ]
  },
  {
   "cell_type": "code",
   "execution_count": 26,
   "metadata": {},
   "outputs": [],
   "source": [
    "emp_analysis_drop = dcc_dropdown(emp_analysis,emp_analysis[0],'emp_type_analysis')\n",
    "#select_unemprate = dcc_dropdown(selectunemprate_unique,selectunemprate_unique[0],'rate')\n",
    "\n",
    "emp_analysis_graph_box_covid = dcc.Graph(id = 'figure_4_analysis_box')\n",
    "\n",
    "@app.callback(\n",
    "        Output(\"figure_4_analysis_box\", \"figure\"), \n",
    "        [Input(\"emp_type_analysis\", \"value\")]\n",
    ")\n",
    "def update_emp_analysis_graph_box(selected_emp_type):\n",
    "        \n",
    "        unempl_covid_fig_box =unempl_covid[unempl_covid['Labor_Rate_Names'] == selected_emp_type] \n",
    "        unempl_covid_fig_box = unempl_covid_fig_box[(unempl_covid_fig_box['observation_date'] >='2020') & (unempl_covid_fig_box['observation_date'] <='2021')]\n",
    "        employ_rate_covid_box = px.box(unempl_covid_fig_box,\n",
    "                  x = 'State',\n",
    "                  y = 'Labor_Rate_Values',\n",
    "                  color = 'State',\n",
    "                  notched= True,\n",
    "                  title=  'State-wise ' + selected_emp_type + ' (2020-2021)'\n",
    "                  )\n",
    "        employ_rate_covid_box.update_xaxes(title='Year')\n",
    "        employ_rate_covid_box.update_yaxes(title= 'Unemployment Rate')\n",
    "        return employ_rate_covid_box"
   ]
  },
  {
   "cell_type": "markdown",
   "metadata": {},
   "source": [
    "Dimension-1 Analysis Tab"
   ]
  },
  {
   "cell_type": "code",
   "execution_count": 27,
   "metadata": {},
   "outputs": [],
   "source": [
    "drop_down_5_tab = dbc.Card([\n",
    "    card(\"Unemployment Analysis by State (Recession Vs Covid)\"),\n",
    "    dbc.Row([\n",
    "                dbc.Col(dropdown(\"Unemployment Levels\",dcc_dropdown(emp_analysis,emp_analysis[0],'emp_type_analysis')),width=5)\n",
    "                ]),\n",
    "    dbc.Row([\n",
    "                dbc.Col(html.Div(tab_graph(\"Unemployment Type Comparision(Recession)\",emp_analysis_graph)),width=6),\n",
    "                dbc.Col(html.Div(tab_graph(\"Unemployment Type Comparision(Covid)\",emp_analysis_graph_covid)),width=6)\n",
    "    ]),\n",
    "    dbc.Row([\n",
    "                dbc.Col(html.Div(tab_graph(\"Unemployment Median Comparision(Recession)\",emp_analysis_graph_box)),width=6),\n",
    "                dbc.Col(html.Div(tab_graph(\"Unemployment Median Comparision(Covid)\",emp_analysis_graph_box_covid)),width=6)\n",
    "    ])\n",
    "])"
   ]
  },
  {
   "cell_type": "markdown",
   "metadata": {},
   "source": [
    "## Housing Dimention"
   ]
  },
  {
   "cell_type": "code",
   "execution_count": 28,
   "metadata": {},
   "outputs": [
    {
     "name": "stdout",
     "output_type": "stream",
     "text": [
      "<class 'pandas.core.frame.DataFrame'>\n",
      "Index: 2312 entries, 1397 to 2023\n",
      "Data columns (total 4 columns):\n",
      " #   Column            Non-Null Count  Dtype         \n",
      "---  ------            --------------  -----         \n",
      " 0   observation_date  2312 non-null   datetime64[ns]\n",
      " 1   State             2312 non-null   object        \n",
      " 2   Housing Types     2312 non-null   object        \n",
      " 3   House Values      2312 non-null   float64       \n",
      "dtypes: datetime64[ns](1), float64(1), object(2)\n",
      "memory usage: 90.3+ KB\n"
     ]
    }
   ],
   "source": [
    "housing_hpi = pd.read_csv('Housing_Output_Hpi.csv')\n",
    "housing_tier = pd.read_csv('Housing_Output 2_top_bottom.csv')\n",
    "housing_hpi['observation_date'] = pd.to_datetime(housing_hpi['observation_date'],format = '%d-%m-%Y')\n",
    "housing_hpi = housing_hpi.sort_values('observation_date')\n",
    "housing_tier['observation_date'] = pd.to_datetime(housing_tier['observation_date'],format = '%d-%m-%Y')\n",
    "housing_tier = housing_tier.sort_values('observation_date')\n",
    "#housing_hpi.tail(10)\n",
    "#housing_tier.head()\n",
    "housing_tier.rename(columns = {'RegionName':'State'},inplace=True)\n",
    "housing_tier['Housing Types'] = housing_tier['Housing Types'].replace({'Top Quantile House Vales':'Top Quantile House Price',\n",
    "                                                                       'Bottom Quantile House Values':'Bottom Quantile House Price'})\n",
    "housing_hpi['State'] = housing_hpi['State'].replace({'NewYork':'New York'})\n",
    "housing_tier.info()"
   ]
  },
  {
   "cell_type": "code",
   "execution_count": 29,
   "metadata": {},
   "outputs": [
    {
     "data": {
      "text/html": [
       "<div>\n",
       "<style scoped>\n",
       "    .dataframe tbody tr th:only-of-type {\n",
       "        vertical-align: middle;\n",
       "    }\n",
       "\n",
       "    .dataframe tbody tr th {\n",
       "        vertical-align: top;\n",
       "    }\n",
       "\n",
       "    .dataframe thead th {\n",
       "        text-align: right;\n",
       "    }\n",
       "</style>\n",
       "<table border=\"1\" class=\"dataframe\">\n",
       "  <thead>\n",
       "    <tr style=\"text-align: right;\">\n",
       "      <th></th>\n",
       "      <th>observation_date</th>\n",
       "      <th>State</th>\n",
       "      <th>Housing</th>\n",
       "      <th>Housing Values</th>\n",
       "    </tr>\n",
       "  </thead>\n",
       "  <tbody>\n",
       "    <tr>\n",
       "      <th>0</th>\n",
       "      <td>2000-01-01</td>\n",
       "      <td>California</td>\n",
       "      <td>HPI</td>\n",
       "      <td>260.97000</td>\n",
       "    </tr>\n",
       "    <tr>\n",
       "      <th>11</th>\n",
       "      <td>2000-01-01</td>\n",
       "      <td>Texas</td>\n",
       "      <td>Total Personal income</td>\n",
       "      <td>575999.00000</td>\n",
       "    </tr>\n",
       "    <tr>\n",
       "      <th>10</th>\n",
       "      <td>2000-01-01</td>\n",
       "      <td>Texas</td>\n",
       "      <td>Housing Permits</td>\n",
       "      <td>10623.76652</td>\n",
       "    </tr>\n",
       "    <tr>\n",
       "      <th>9</th>\n",
       "      <td>2000-01-01</td>\n",
       "      <td>Texas</td>\n",
       "      <td>HPI</td>\n",
       "      <td>158.95000</td>\n",
       "    </tr>\n",
       "    <tr>\n",
       "      <th>7</th>\n",
       "      <td>2000-01-01</td>\n",
       "      <td>New York</td>\n",
       "      <td>Housing Permits</td>\n",
       "      <td>2246.00000</td>\n",
       "    </tr>\n",
       "  </tbody>\n",
       "</table>\n",
       "</div>"
      ],
      "text/plain": [
       "   observation_date       State                Housing  Housing Values\n",
       "0        2000-01-01  California                    HPI       260.97000\n",
       "11       2000-01-01       Texas  Total Personal income    575999.00000\n",
       "10       2000-01-01       Texas        Housing Permits     10623.76652\n",
       "9        2000-01-01       Texas                    HPI       158.95000\n",
       "7        2000-01-01    New York        Housing Permits      2246.00000"
      ]
     },
     "execution_count": 29,
     "metadata": {},
     "output_type": "execute_result"
    }
   ],
   "source": [
    "housing_hpi.head()\n",
    "#housing_tier.head()"
   ]
  },
  {
   "cell_type": "code",
   "execution_count": 30,
   "metadata": {},
   "outputs": [
    {
     "name": "stderr",
     "output_type": "stream",
     "text": [
      "C:\\Users\\Karthi\\AppData\\Local\\Temp\\ipykernel_11596\\4209488860.py:13: SettingWithCopyWarning:\n",
      "\n",
      "\n",
      "A value is trying to be set on a copy of a slice from a DataFrame.\n",
      "Try using .loc[row_indexer,col_indexer] = value instead\n",
      "\n",
      "See the caveats in the documentation: https://pandas.pydata.org/pandas-docs/stable/user_guide/indexing.html#returning-a-view-versus-a-copy\n",
      "\n",
      "C:\\Users\\Karthi\\AppData\\Local\\Temp\\ipykernel_11596\\4209488860.py:14: SettingWithCopyWarning:\n",
      "\n",
      "\n",
      "A value is trying to be set on a copy of a slice from a DataFrame.\n",
      "Try using .loc[row_indexer,col_indexer] = value instead\n",
      "\n",
      "See the caveats in the documentation: https://pandas.pydata.org/pandas-docs/stable/user_guide/indexing.html#returning-a-view-versus-a-copy\n",
      "\n"
     ]
    },
    {
     "data": {
      "text/html": [
       "<div>\n",
       "<style scoped>\n",
       "    .dataframe tbody tr th:only-of-type {\n",
       "        vertical-align: middle;\n",
       "    }\n",
       "\n",
       "    .dataframe tbody tr th {\n",
       "        vertical-align: top;\n",
       "    }\n",
       "\n",
       "    .dataframe thead th {\n",
       "        text-align: right;\n",
       "    }\n",
       "</style>\n",
       "<table border=\"1\" class=\"dataframe\">\n",
       "  <thead>\n",
       "    <tr style=\"text-align: right;\">\n",
       "      <th></th>\n",
       "      <th>observation_date</th>\n",
       "      <th>State</th>\n",
       "      <th>Housing Types</th>\n",
       "      <th>House Values</th>\n",
       "      <th>Indicator</th>\n",
       "    </tr>\n",
       "  </thead>\n",
       "  <tbody>\n",
       "    <tr>\n",
       "      <th>1405</th>\n",
       "      <td>2004-01-31</td>\n",
       "      <td>Florida</td>\n",
       "      <td>Top Quantile House Price</td>\n",
       "      <td>307123.00000</td>\n",
       "      <td>Pre Recession</td>\n",
       "    </tr>\n",
       "    <tr>\n",
       "      <th>1404</th>\n",
       "      <td>2004-01-31</td>\n",
       "      <td>Florida</td>\n",
       "      <td>Bottom Quantile House Price</td>\n",
       "      <td>77814.93308</td>\n",
       "      <td>Pre Recession</td>\n",
       "    </tr>\n",
       "    <tr>\n",
       "      <th>1983</th>\n",
       "      <td>2004-01-31</td>\n",
       "      <td>New York</td>\n",
       "      <td>Top Quantile House Price</td>\n",
       "      <td>505443.66320</td>\n",
       "      <td>Pre Recession</td>\n",
       "    </tr>\n",
       "    <tr>\n",
       "      <th>1982</th>\n",
       "      <td>2004-01-31</td>\n",
       "      <td>New York</td>\n",
       "      <td>Bottom Quantile House Price</td>\n",
       "      <td>92969.27195</td>\n",
       "      <td>Pre Recession</td>\n",
       "    </tr>\n",
       "    <tr>\n",
       "      <th>826</th>\n",
       "      <td>2004-01-31</td>\n",
       "      <td>Texas</td>\n",
       "      <td>Bottom Quantile House Price</td>\n",
       "      <td>62464.88463</td>\n",
       "      <td>Pre Recession</td>\n",
       "    </tr>\n",
       "  </tbody>\n",
       "</table>\n",
       "</div>"
      ],
      "text/plain": [
       "     observation_date     State                Housing Types  House Values  \\\n",
       "1405       2004-01-31   Florida     Top Quantile House Price  307123.00000   \n",
       "1404       2004-01-31   Florida  Bottom Quantile House Price   77814.93308   \n",
       "1983       2004-01-31  New York     Top Quantile House Price  505443.66320   \n",
       "1982       2004-01-31  New York  Bottom Quantile House Price   92969.27195   \n",
       "826        2004-01-31     Texas  Bottom Quantile House Price   62464.88463   \n",
       "\n",
       "          Indicator  \n",
       "1405  Pre Recession  \n",
       "1404  Pre Recession  \n",
       "1983  Pre Recession  \n",
       "1982  Pre Recession  \n",
       "826   Pre Recession  "
      ]
     },
     "execution_count": 30,
     "metadata": {},
     "output_type": "execute_result"
    }
   ],
   "source": [
    "housing_hpi_recess = housing_hpi[(housing_hpi['observation_date'] >= '2004') & (housing_hpi['observation_date'] <= '2014')]\n",
    "housing_tier_recess = housing_tier[(housing_tier['observation_date'] >= '2004') & (housing_tier['observation_date'] <= '2014')]\n",
    "def indicator(num):\n",
    "        if num.year <= 2007:\n",
    "            return \"Pre Recession\"\n",
    " \n",
    "        elif num.year >= 2008 and num.year < 2012:\n",
    "            return \"During Recession\"\n",
    " \n",
    "        else:\n",
    "            return \"Post Recession\"\n",
    "\n",
    "housing_hpi_recess['Indicator'] = housing_hpi_recess['observation_date'].apply(lambda date : indicator(date))\n",
    "housing_tier_recess['Indicator'] = housing_tier_recess['observation_date'].apply(lambda date : indicator(date))\n",
    "\n",
    "housing_hpi_recess.tail()\n",
    "housing_tier_recess.head()"
   ]
  },
  {
   "cell_type": "code",
   "execution_count": 31,
   "metadata": {},
   "outputs": [
    {
     "data": {
      "text/plain": [
       "'Post Recession'"
      ]
     },
     "execution_count": 31,
     "metadata": {},
     "output_type": "execute_result"
    }
   ],
   "source": [
    "#selectunemprate_unique = list(unempl_recess_rate['unemployement_levels'].unique())\n",
    "housing_state = list(housing_hpi_recess['State'].sort_values().unique())\n",
    "#housing_tier_recess['State'].sort_values().unique() #== housing_hpi_recess['State'].sort_values().unique()\n",
    "list(housing_hpi_recess['Indicator'].sort_values().unique())[1]"
   ]
  },
  {
   "cell_type": "markdown",
   "metadata": {},
   "source": [
    "Function for Creating Line graph"
   ]
  },
  {
   "cell_type": "code",
   "execution_count": 32,
   "metadata": {},
   "outputs": [],
   "source": [
    "def line_graph_house(df,selected_state,cat_column,x,y):    \n",
    "    df =df[(df['State'] == selected_state)] \n",
    "    df_pre = df[df['Indicator'] == list(df['Indicator'].sort_values().unique())[2]]  \n",
    "    df_dur = df[df['Indicator'] == list(df['Indicator'].sort_values().unique())[0]] \n",
    "    df_post = df[df['Indicator'] == list(df['Indicator'].sort_values().unique())[1]]\n",
    "    fig = make_subplots(rows=1, cols=3,shared_yaxes=True,subplot_titles=(list(df['Indicator'].sort_values().unique())[2],list(df['Indicator'].sort_values().unique())[0],list(df['Indicator'].sort_values().unique())[1]),x_title=\"Year\",\n",
    "                        y_title=\"House Price\")\n",
    "        \n",
    "    for type in df_pre[cat_column].unique():\n",
    "        data_1 = df_pre[df_pre[cat_column] == type]\n",
    "        fig.add_trace(go.Scatter(x=data_1[x], y=data_1[y], mode='lines',name = type),\n",
    "                                row=1, col=1)\n",
    "        \n",
    "    for type2 in df_dur[cat_column].unique():\n",
    "        data_2 = df_dur[df_dur[cat_column] == type2]\n",
    "        fig.add_trace(go.Scatter(x=data_2[x], y=data_2[y], mode='lines',name = type2),\n",
    "                                row=1, col=2)\n",
    "        \n",
    "    for type3 in df_post[cat_column].unique():\n",
    "        data_3 = df_post[df_post[cat_column] == type3]\n",
    "        fig.add_trace(go.Scatter(x=data_3[x], y=data_3[y], mode='lines',name = type3),\n",
    "                                row=1, col=3)\n",
    "    fig.update_layout(title='House Price values' + ' in ' + selected_state, showlegend=True)            \n",
    "    \n",
    "    return fig"
   ]
  },
  {
   "cell_type": "code",
   "execution_count": 33,
   "metadata": {},
   "outputs": [
    {
     "data": {
      "application/vnd.plotly.v1+json": {
       "config": {
        "plotlyServerURL": "https://plot.ly"
       },
       "data": [
        {
         "mode": "lines",
         "name": "Bottom Quantile House Price",
         "type": "scatter",
         "x": [
          "2004-01-31T00:00:00",
          "2004-02-29T00:00:00",
          "2004-03-31T00:00:00",
          "2004-04-30T00:00:00",
          "2004-05-31T00:00:00",
          "2004-06-30T00:00:00",
          "2004-07-31T00:00:00",
          "2004-08-31T00:00:00",
          "2004-09-30T00:00:00",
          "2004-10-31T00:00:00",
          "2004-11-30T00:00:00",
          "2004-12-31T00:00:00",
          "2005-01-31T00:00:00",
          "2005-02-28T00:00:00",
          "2005-03-31T00:00:00",
          "2005-04-30T00:00:00",
          "2005-05-31T00:00:00",
          "2005-06-30T00:00:00",
          "2005-07-31T00:00:00",
          "2005-08-31T00:00:00",
          "2005-09-30T00:00:00",
          "2005-10-31T00:00:00",
          "2005-11-30T00:00:00",
          "2005-12-31T00:00:00",
          "2006-01-31T00:00:00",
          "2006-02-28T00:00:00",
          "2006-03-31T00:00:00",
          "2006-04-30T00:00:00",
          "2006-05-31T00:00:00",
          "2006-06-30T00:00:00",
          "2006-07-31T00:00:00",
          "2006-08-31T00:00:00",
          "2006-09-30T00:00:00",
          "2006-10-31T00:00:00",
          "2006-11-30T00:00:00",
          "2006-12-31T00:00:00",
          "2007-01-31T00:00:00",
          "2007-02-28T00:00:00",
          "2007-03-31T00:00:00",
          "2007-04-30T00:00:00",
          "2007-05-31T00:00:00",
          "2007-06-30T00:00:00",
          "2007-07-31T00:00:00",
          "2007-08-31T00:00:00",
          "2007-09-30T00:00:00",
          "2007-10-31T00:00:00",
          "2007-11-30T00:00:00",
          "2007-12-31T00:00:00"
         ],
         "xaxis": "x",
         "y": [
          62464.88463,
          62911.02985,
          63591.31133,
          64271.35676,
          64863.47853,
          65288.85779,
          65690.20284,
          66057.77963,
          66456.11734,
          66825.69829,
          67151.51289,
          67434.56765,
          67738.11808,
          68008.02377,
          68257.86736,
          68468.70063,
          68693.66264,
          68916.0449,
          69128.59119,
          69337.49191,
          69565.31076,
          69766.08605,
          69985.20711,
          70179.92399,
          70344.88864,
          70506.5856,
          70686.06384,
          70942.26126,
          71281.39083,
          71648.83719,
          72020.94759,
          72348.00379,
          72707.53853,
          73124.88315,
          73536.30041,
          73922.37483,
          74152.71246,
          74265.90168,
          74301.44569,
          74465.80614,
          74706.43651,
          74990.24831,
          75223.70754,
          75467.9961,
          75717.81054,
          75944.67214,
          76148.03265,
          76324.62481
         ],
         "yaxis": "y"
        },
        {
         "mode": "lines",
         "name": "Top Quantile House Price",
         "type": "scatter",
         "x": [
          "2004-01-31T00:00:00",
          "2004-02-29T00:00:00",
          "2004-03-31T00:00:00",
          "2004-04-30T00:00:00",
          "2004-05-31T00:00:00",
          "2004-06-30T00:00:00",
          "2004-07-31T00:00:00",
          "2004-08-31T00:00:00",
          "2004-09-30T00:00:00",
          "2004-10-31T00:00:00",
          "2004-11-30T00:00:00",
          "2004-12-31T00:00:00",
          "2005-01-31T00:00:00",
          "2005-02-28T00:00:00",
          "2005-03-31T00:00:00",
          "2005-04-30T00:00:00",
          "2005-05-31T00:00:00",
          "2005-06-30T00:00:00",
          "2005-07-31T00:00:00",
          "2005-08-31T00:00:00",
          "2005-09-30T00:00:00",
          "2005-10-31T00:00:00",
          "2005-11-30T00:00:00",
          "2005-12-31T00:00:00",
          "2006-01-31T00:00:00",
          "2006-02-28T00:00:00",
          "2006-03-31T00:00:00",
          "2006-04-30T00:00:00",
          "2006-05-31T00:00:00",
          "2006-06-30T00:00:00",
          "2006-07-31T00:00:00",
          "2006-08-31T00:00:00",
          "2006-09-30T00:00:00",
          "2006-10-31T00:00:00",
          "2006-11-30T00:00:00",
          "2006-12-31T00:00:00",
          "2007-01-31T00:00:00",
          "2007-02-28T00:00:00",
          "2007-03-31T00:00:00",
          "2007-04-30T00:00:00",
          "2007-05-31T00:00:00",
          "2007-06-30T00:00:00",
          "2007-07-31T00:00:00",
          "2007-08-31T00:00:00",
          "2007-09-30T00:00:00",
          "2007-10-31T00:00:00",
          "2007-11-30T00:00:00",
          "2007-12-31T00:00:00"
         ],
         "xaxis": "x",
         "y": [
          225551.3894,
          226908.1695,
          229088.6794,
          231263.9515,
          233048,
          234195.5007,
          235298.4437,
          236329.3849,
          237508.5681,
          238567.3757,
          239466,
          240217.9552,
          241031.1484,
          241747.9394,
          242390.3938,
          242962.3165,
          243614.3827,
          244345.8615,
          245046.2348,
          245710.6141,
          246381.9575,
          246918.1118,
          247510.9042,
          247991.4158,
          248375.2168,
          248738.179,
          249165.2296,
          249862.2968,
          250827.5057,
          251896.4443,
          252977.9836,
          253961.7821,
          255000.0279,
          256234.223,
          257391.8962,
          258529.8766,
          259098.5497,
          259250.0829,
          259100.3959,
          259354.498,
          259939.6612,
          260737.3401,
          261447.4359,
          262192.458,
          262927.3987,
          263598.9963,
          264166.2888,
          264712.9411
         ],
         "yaxis": "y"
        },
        {
         "mode": "lines",
         "name": "Bottom Quantile House Price",
         "type": "scatter",
         "x": [
          "2008-01-31T00:00:00",
          "2008-02-29T00:00:00",
          "2008-03-31T00:00:00",
          "2008-04-30T00:00:00",
          "2008-05-31T00:00:00",
          "2008-06-30T00:00:00",
          "2008-07-31T00:00:00",
          "2008-08-31T00:00:00",
          "2008-09-30T00:00:00",
          "2008-10-31T00:00:00",
          "2008-11-30T00:00:00",
          "2008-12-31T00:00:00",
          "2009-01-31T00:00:00",
          "2009-02-28T00:00:00",
          "2009-03-31T00:00:00",
          "2009-04-30T00:00:00",
          "2009-05-31T00:00:00",
          "2009-06-30T00:00:00",
          "2009-07-31T00:00:00",
          "2009-08-31T00:00:00",
          "2009-09-30T00:00:00",
          "2009-10-31T00:00:00",
          "2009-11-30T00:00:00",
          "2009-12-31T00:00:00",
          "2010-01-31T00:00:00",
          "2010-02-28T00:00:00",
          "2010-03-31T00:00:00",
          "2010-04-30T00:00:00",
          "2010-05-31T00:00:00",
          "2010-06-30T00:00:00",
          "2010-07-31T00:00:00",
          "2010-08-31T00:00:00",
          "2010-09-30T00:00:00",
          "2010-10-31T00:00:00",
          "2010-11-30T00:00:00",
          "2010-12-31T00:00:00",
          "2011-01-31T00:00:00",
          "2011-02-28T00:00:00",
          "2011-03-31T00:00:00",
          "2011-04-30T00:00:00",
          "2011-05-31T00:00:00",
          "2011-06-30T00:00:00",
          "2011-07-31T00:00:00",
          "2011-08-31T00:00:00",
          "2011-09-30T00:00:00",
          "2011-10-31T00:00:00",
          "2011-11-30T00:00:00",
          "2011-12-31T00:00:00"
         ],
         "xaxis": "x2",
         "y": [
          76267.78658,
          76078.25215,
          75811.99862,
          75686.80107,
          75604.56326,
          75520.07128,
          75435.98603,
          75236.40467,
          74956.58659,
          74637.16226,
          74343.24619,
          74082.99329,
          73826.94978,
          73672.16637,
          73590.32539,
          73573.97319,
          73569.4496,
          73541.13816,
          73518.93967,
          73424.04612,
          73310.46546,
          73177.5317,
          73181.83277,
          73243.91412,
          73280.61189,
          73272.08879,
          73271.99673,
          73349.49787,
          73454.40396,
          73493.33834,
          73389.89035,
          73167.93553,
          72888.974,
          72609.63666,
          72317.36598,
          72062.27207,
          71812.89868,
          71553.19727,
          71300.72,
          71070.39949,
          70889.15414,
          70716.20784,
          70628.9399,
          70565.48787,
          70536.79295,
          70476.70153,
          70385.29732,
          70279.24889
         ],
         "yaxis": "y2"
        },
        {
         "mode": "lines",
         "name": "Top Quantile House Price",
         "type": "scatter",
         "x": [
          "2008-01-31T00:00:00",
          "2008-02-29T00:00:00",
          "2008-03-31T00:00:00",
          "2008-04-30T00:00:00",
          "2008-05-31T00:00:00",
          "2008-06-30T00:00:00",
          "2008-07-31T00:00:00",
          "2008-08-31T00:00:00",
          "2008-09-30T00:00:00",
          "2008-10-31T00:00:00",
          "2008-11-30T00:00:00",
          "2008-12-31T00:00:00",
          "2009-01-31T00:00:00",
          "2009-02-28T00:00:00",
          "2009-03-31T00:00:00",
          "2009-04-30T00:00:00",
          "2009-05-31T00:00:00",
          "2009-06-30T00:00:00",
          "2009-07-31T00:00:00",
          "2009-08-31T00:00:00",
          "2009-09-30T00:00:00",
          "2009-10-31T00:00:00",
          "2009-11-30T00:00:00",
          "2009-12-31T00:00:00",
          "2010-01-31T00:00:00",
          "2010-02-28T00:00:00",
          "2010-03-31T00:00:00",
          "2010-04-30T00:00:00",
          "2010-05-31T00:00:00",
          "2010-06-30T00:00:00",
          "2010-07-31T00:00:00",
          "2010-08-31T00:00:00",
          "2010-09-30T00:00:00",
          "2010-10-31T00:00:00",
          "2010-11-30T00:00:00",
          "2010-12-31T00:00:00",
          "2011-01-31T00:00:00",
          "2011-02-28T00:00:00",
          "2011-03-31T00:00:00",
          "2011-04-30T00:00:00",
          "2011-05-31T00:00:00",
          "2011-06-30T00:00:00",
          "2011-07-31T00:00:00",
          "2011-08-31T00:00:00",
          "2011-09-30T00:00:00",
          "2011-10-31T00:00:00",
          "2011-11-30T00:00:00",
          "2011-12-31T00:00:00"
         ],
         "xaxis": "x2",
         "y": [
          264440.209,
          263736.8802,
          262748.5018,
          262291.8699,
          262047.7019,
          261830.209,
          261684.288,
          261176.2498,
          260394.8435,
          259409.3142,
          258415.5007,
          257499.9238,
          256669.4222,
          256228.9131,
          256044.2457,
          256001.1788,
          255996.7396,
          255936.2046,
          255923.6226,
          255617.7535,
          255197.1081,
          254655.1105,
          254651.925,
          254831.9899,
          254931.3922,
          254903.9106,
          254965.159,
          255315,
          255693,
          255796.2316,
          255389.6294,
          254561.1835,
          253559.2912,
          252549.112,
          251508.0815,
          250634,
          249942.2464,
          249271.0502,
          248636.9263,
          248054.757,
          247643.3653,
          247253.2171,
          247100.7201,
          246992.531,
          246945.9976,
          246745.3763,
          246438.345,
          246089.8031
         ],
         "yaxis": "y2"
        },
        {
         "mode": "lines",
         "name": "Top Quantile House Price",
         "type": "scatter",
         "x": [
          "2012-01-31T00:00:00",
          "2012-02-29T00:00:00",
          "2012-03-31T00:00:00",
          "2012-04-30T00:00:00",
          "2012-05-31T00:00:00",
          "2012-06-30T00:00:00",
          "2012-07-31T00:00:00",
          "2012-08-31T00:00:00",
          "2012-09-30T00:00:00",
          "2012-10-31T00:00:00",
          "2012-11-30T00:00:00",
          "2012-12-31T00:00:00",
          "2013-01-31T00:00:00",
          "2013-02-28T00:00:00",
          "2013-03-31T00:00:00",
          "2013-04-30T00:00:00",
          "2013-05-31T00:00:00",
          "2013-06-30T00:00:00",
          "2013-07-31T00:00:00",
          "2013-08-31T00:00:00",
          "2013-09-30T00:00:00",
          "2013-10-31T00:00:00",
          "2013-11-30T00:00:00",
          "2013-12-31T00:00:00"
         ],
         "xaxis": "x3",
         "y": [
          246014.4583,
          246417.083,
          247113.4672,
          247836.3447,
          248553.5025,
          249439.054,
          250430.4488,
          251447.6234,
          252344.1395,
          253170.7701,
          254087.2861,
          255086.8047,
          256491.5162,
          258044.242,
          259591.3509,
          260946.1345,
          262426.5249,
          264396.1325,
          266340.3996,
          268263.7765,
          269949.5697,
          271769.586,
          273310.3881,
          274751.7901
         ],
         "yaxis": "y3"
        },
        {
         "mode": "lines",
         "name": "Bottom Quantile House Price",
         "type": "scatter",
         "x": [
          "2012-01-31T00:00:00",
          "2012-02-29T00:00:00",
          "2012-03-31T00:00:00",
          "2012-04-30T00:00:00",
          "2012-05-31T00:00:00",
          "2012-06-30T00:00:00",
          "2012-07-31T00:00:00",
          "2012-08-31T00:00:00",
          "2012-09-30T00:00:00",
          "2012-10-31T00:00:00",
          "2012-11-30T00:00:00",
          "2012-12-31T00:00:00",
          "2013-01-31T00:00:00",
          "2013-02-28T00:00:00",
          "2013-03-31T00:00:00",
          "2013-04-30T00:00:00",
          "2013-05-31T00:00:00",
          "2013-06-30T00:00:00",
          "2013-07-31T00:00:00",
          "2013-08-31T00:00:00",
          "2013-09-30T00:00:00",
          "2013-10-31T00:00:00",
          "2013-11-30T00:00:00",
          "2013-12-31T00:00:00"
         ],
         "xaxis": "x3",
         "y": [
          70229.86706,
          70350.47911,
          70526.53036,
          70721.36973,
          70947.41762,
          71236.3178,
          71582.36179,
          71803.6461,
          71974.9576,
          72002.05374,
          71977.30045,
          71991.32545,
          72248.48606,
          72635.51046,
          73129.29453,
          73584.49948,
          74114.99348,
          74723.68526,
          75222.52574,
          75765.15195,
          76105.36535,
          76545.43431,
          76908.50698,
          77404.2121
         ],
         "yaxis": "y3"
        }
       ],
       "layout": {
        "annotations": [
         {
          "font": {
           "size": 16
          },
          "showarrow": false,
          "text": "Pre Recession",
          "x": 0.14444444444444446,
          "xanchor": "center",
          "xref": "paper",
          "y": 1,
          "yanchor": "bottom",
          "yref": "paper"
         },
         {
          "font": {
           "size": 16
          },
          "showarrow": false,
          "text": "During Recession",
          "x": 0.5,
          "xanchor": "center",
          "xref": "paper",
          "y": 1,
          "yanchor": "bottom",
          "yref": "paper"
         },
         {
          "font": {
           "size": 16
          },
          "showarrow": false,
          "text": "Post Recession",
          "x": 0.8555555555555556,
          "xanchor": "center",
          "xref": "paper",
          "y": 1,
          "yanchor": "bottom",
          "yref": "paper"
         },
         {
          "font": {
           "size": 16
          },
          "showarrow": false,
          "text": "Year",
          "x": 0.5,
          "xanchor": "center",
          "xref": "paper",
          "y": 0,
          "yanchor": "top",
          "yref": "paper",
          "yshift": -30
         },
         {
          "font": {
           "size": 16
          },
          "showarrow": false,
          "text": "House Price",
          "textangle": -90,
          "x": 0,
          "xanchor": "right",
          "xref": "paper",
          "xshift": -40,
          "y": 0.5,
          "yanchor": "middle",
          "yref": "paper"
         }
        ],
        "showlegend": true,
        "template": {
         "data": {
          "bar": [
           {
            "error_x": {
             "color": "#2a3f5f"
            },
            "error_y": {
             "color": "#2a3f5f"
            },
            "marker": {
             "line": {
              "color": "#E5ECF6",
              "width": 0.5
             },
             "pattern": {
              "fillmode": "overlay",
              "size": 10,
              "solidity": 0.2
             }
            },
            "type": "bar"
           }
          ],
          "barpolar": [
           {
            "marker": {
             "line": {
              "color": "#E5ECF6",
              "width": 0.5
             },
             "pattern": {
              "fillmode": "overlay",
              "size": 10,
              "solidity": 0.2
             }
            },
            "type": "barpolar"
           }
          ],
          "carpet": [
           {
            "aaxis": {
             "endlinecolor": "#2a3f5f",
             "gridcolor": "white",
             "linecolor": "white",
             "minorgridcolor": "white",
             "startlinecolor": "#2a3f5f"
            },
            "baxis": {
             "endlinecolor": "#2a3f5f",
             "gridcolor": "white",
             "linecolor": "white",
             "minorgridcolor": "white",
             "startlinecolor": "#2a3f5f"
            },
            "type": "carpet"
           }
          ],
          "choropleth": [
           {
            "colorbar": {
             "outlinewidth": 0,
             "ticks": ""
            },
            "type": "choropleth"
           }
          ],
          "contour": [
           {
            "colorbar": {
             "outlinewidth": 0,
             "ticks": ""
            },
            "colorscale": [
             [
              0,
              "#0d0887"
             ],
             [
              0.1111111111111111,
              "#46039f"
             ],
             [
              0.2222222222222222,
              "#7201a8"
             ],
             [
              0.3333333333333333,
              "#9c179e"
             ],
             [
              0.4444444444444444,
              "#bd3786"
             ],
             [
              0.5555555555555556,
              "#d8576b"
             ],
             [
              0.6666666666666666,
              "#ed7953"
             ],
             [
              0.7777777777777778,
              "#fb9f3a"
             ],
             [
              0.8888888888888888,
              "#fdca26"
             ],
             [
              1,
              "#f0f921"
             ]
            ],
            "type": "contour"
           }
          ],
          "contourcarpet": [
           {
            "colorbar": {
             "outlinewidth": 0,
             "ticks": ""
            },
            "type": "contourcarpet"
           }
          ],
          "heatmap": [
           {
            "colorbar": {
             "outlinewidth": 0,
             "ticks": ""
            },
            "colorscale": [
             [
              0,
              "#0d0887"
             ],
             [
              0.1111111111111111,
              "#46039f"
             ],
             [
              0.2222222222222222,
              "#7201a8"
             ],
             [
              0.3333333333333333,
              "#9c179e"
             ],
             [
              0.4444444444444444,
              "#bd3786"
             ],
             [
              0.5555555555555556,
              "#d8576b"
             ],
             [
              0.6666666666666666,
              "#ed7953"
             ],
             [
              0.7777777777777778,
              "#fb9f3a"
             ],
             [
              0.8888888888888888,
              "#fdca26"
             ],
             [
              1,
              "#f0f921"
             ]
            ],
            "type": "heatmap"
           }
          ],
          "heatmapgl": [
           {
            "colorbar": {
             "outlinewidth": 0,
             "ticks": ""
            },
            "colorscale": [
             [
              0,
              "#0d0887"
             ],
             [
              0.1111111111111111,
              "#46039f"
             ],
             [
              0.2222222222222222,
              "#7201a8"
             ],
             [
              0.3333333333333333,
              "#9c179e"
             ],
             [
              0.4444444444444444,
              "#bd3786"
             ],
             [
              0.5555555555555556,
              "#d8576b"
             ],
             [
              0.6666666666666666,
              "#ed7953"
             ],
             [
              0.7777777777777778,
              "#fb9f3a"
             ],
             [
              0.8888888888888888,
              "#fdca26"
             ],
             [
              1,
              "#f0f921"
             ]
            ],
            "type": "heatmapgl"
           }
          ],
          "histogram": [
           {
            "marker": {
             "pattern": {
              "fillmode": "overlay",
              "size": 10,
              "solidity": 0.2
             }
            },
            "type": "histogram"
           }
          ],
          "histogram2d": [
           {
            "colorbar": {
             "outlinewidth": 0,
             "ticks": ""
            },
            "colorscale": [
             [
              0,
              "#0d0887"
             ],
             [
              0.1111111111111111,
              "#46039f"
             ],
             [
              0.2222222222222222,
              "#7201a8"
             ],
             [
              0.3333333333333333,
              "#9c179e"
             ],
             [
              0.4444444444444444,
              "#bd3786"
             ],
             [
              0.5555555555555556,
              "#d8576b"
             ],
             [
              0.6666666666666666,
              "#ed7953"
             ],
             [
              0.7777777777777778,
              "#fb9f3a"
             ],
             [
              0.8888888888888888,
              "#fdca26"
             ],
             [
              1,
              "#f0f921"
             ]
            ],
            "type": "histogram2d"
           }
          ],
          "histogram2dcontour": [
           {
            "colorbar": {
             "outlinewidth": 0,
             "ticks": ""
            },
            "colorscale": [
             [
              0,
              "#0d0887"
             ],
             [
              0.1111111111111111,
              "#46039f"
             ],
             [
              0.2222222222222222,
              "#7201a8"
             ],
             [
              0.3333333333333333,
              "#9c179e"
             ],
             [
              0.4444444444444444,
              "#bd3786"
             ],
             [
              0.5555555555555556,
              "#d8576b"
             ],
             [
              0.6666666666666666,
              "#ed7953"
             ],
             [
              0.7777777777777778,
              "#fb9f3a"
             ],
             [
              0.8888888888888888,
              "#fdca26"
             ],
             [
              1,
              "#f0f921"
             ]
            ],
            "type": "histogram2dcontour"
           }
          ],
          "mesh3d": [
           {
            "colorbar": {
             "outlinewidth": 0,
             "ticks": ""
            },
            "type": "mesh3d"
           }
          ],
          "parcoords": [
           {
            "line": {
             "colorbar": {
              "outlinewidth": 0,
              "ticks": ""
             }
            },
            "type": "parcoords"
           }
          ],
          "pie": [
           {
            "automargin": true,
            "type": "pie"
           }
          ],
          "scatter": [
           {
            "fillpattern": {
             "fillmode": "overlay",
             "size": 10,
             "solidity": 0.2
            },
            "type": "scatter"
           }
          ],
          "scatter3d": [
           {
            "line": {
             "colorbar": {
              "outlinewidth": 0,
              "ticks": ""
             }
            },
            "marker": {
             "colorbar": {
              "outlinewidth": 0,
              "ticks": ""
             }
            },
            "type": "scatter3d"
           }
          ],
          "scattercarpet": [
           {
            "marker": {
             "colorbar": {
              "outlinewidth": 0,
              "ticks": ""
             }
            },
            "type": "scattercarpet"
           }
          ],
          "scattergeo": [
           {
            "marker": {
             "colorbar": {
              "outlinewidth": 0,
              "ticks": ""
             }
            },
            "type": "scattergeo"
           }
          ],
          "scattergl": [
           {
            "marker": {
             "colorbar": {
              "outlinewidth": 0,
              "ticks": ""
             }
            },
            "type": "scattergl"
           }
          ],
          "scattermapbox": [
           {
            "marker": {
             "colorbar": {
              "outlinewidth": 0,
              "ticks": ""
             }
            },
            "type": "scattermapbox"
           }
          ],
          "scatterpolar": [
           {
            "marker": {
             "colorbar": {
              "outlinewidth": 0,
              "ticks": ""
             }
            },
            "type": "scatterpolar"
           }
          ],
          "scatterpolargl": [
           {
            "marker": {
             "colorbar": {
              "outlinewidth": 0,
              "ticks": ""
             }
            },
            "type": "scatterpolargl"
           }
          ],
          "scatterternary": [
           {
            "marker": {
             "colorbar": {
              "outlinewidth": 0,
              "ticks": ""
             }
            },
            "type": "scatterternary"
           }
          ],
          "surface": [
           {
            "colorbar": {
             "outlinewidth": 0,
             "ticks": ""
            },
            "colorscale": [
             [
              0,
              "#0d0887"
             ],
             [
              0.1111111111111111,
              "#46039f"
             ],
             [
              0.2222222222222222,
              "#7201a8"
             ],
             [
              0.3333333333333333,
              "#9c179e"
             ],
             [
              0.4444444444444444,
              "#bd3786"
             ],
             [
              0.5555555555555556,
              "#d8576b"
             ],
             [
              0.6666666666666666,
              "#ed7953"
             ],
             [
              0.7777777777777778,
              "#fb9f3a"
             ],
             [
              0.8888888888888888,
              "#fdca26"
             ],
             [
              1,
              "#f0f921"
             ]
            ],
            "type": "surface"
           }
          ],
          "table": [
           {
            "cells": {
             "fill": {
              "color": "#EBF0F8"
             },
             "line": {
              "color": "white"
             }
            },
            "header": {
             "fill": {
              "color": "#C8D4E3"
             },
             "line": {
              "color": "white"
             }
            },
            "type": "table"
           }
          ]
         },
         "layout": {
          "annotationdefaults": {
           "arrowcolor": "#2a3f5f",
           "arrowhead": 0,
           "arrowwidth": 1
          },
          "autotypenumbers": "strict",
          "coloraxis": {
           "colorbar": {
            "outlinewidth": 0,
            "ticks": ""
           }
          },
          "colorscale": {
           "diverging": [
            [
             0,
             "#8e0152"
            ],
            [
             0.1,
             "#c51b7d"
            ],
            [
             0.2,
             "#de77ae"
            ],
            [
             0.3,
             "#f1b6da"
            ],
            [
             0.4,
             "#fde0ef"
            ],
            [
             0.5,
             "#f7f7f7"
            ],
            [
             0.6,
             "#e6f5d0"
            ],
            [
             0.7,
             "#b8e186"
            ],
            [
             0.8,
             "#7fbc41"
            ],
            [
             0.9,
             "#4d9221"
            ],
            [
             1,
             "#276419"
            ]
           ],
           "sequential": [
            [
             0,
             "#0d0887"
            ],
            [
             0.1111111111111111,
             "#46039f"
            ],
            [
             0.2222222222222222,
             "#7201a8"
            ],
            [
             0.3333333333333333,
             "#9c179e"
            ],
            [
             0.4444444444444444,
             "#bd3786"
            ],
            [
             0.5555555555555556,
             "#d8576b"
            ],
            [
             0.6666666666666666,
             "#ed7953"
            ],
            [
             0.7777777777777778,
             "#fb9f3a"
            ],
            [
             0.8888888888888888,
             "#fdca26"
            ],
            [
             1,
             "#f0f921"
            ]
           ],
           "sequentialminus": [
            [
             0,
             "#0d0887"
            ],
            [
             0.1111111111111111,
             "#46039f"
            ],
            [
             0.2222222222222222,
             "#7201a8"
            ],
            [
             0.3333333333333333,
             "#9c179e"
            ],
            [
             0.4444444444444444,
             "#bd3786"
            ],
            [
             0.5555555555555556,
             "#d8576b"
            ],
            [
             0.6666666666666666,
             "#ed7953"
            ],
            [
             0.7777777777777778,
             "#fb9f3a"
            ],
            [
             0.8888888888888888,
             "#fdca26"
            ],
            [
             1,
             "#f0f921"
            ]
           ]
          },
          "colorway": [
           "#636efa",
           "#EF553B",
           "#00cc96",
           "#ab63fa",
           "#FFA15A",
           "#19d3f3",
           "#FF6692",
           "#B6E880",
           "#FF97FF",
           "#FECB52"
          ],
          "font": {
           "color": "#2a3f5f"
          },
          "geo": {
           "bgcolor": "white",
           "lakecolor": "white",
           "landcolor": "#E5ECF6",
           "showlakes": true,
           "showland": true,
           "subunitcolor": "white"
          },
          "hoverlabel": {
           "align": "left"
          },
          "hovermode": "closest",
          "mapbox": {
           "style": "light"
          },
          "paper_bgcolor": "white",
          "plot_bgcolor": "#E5ECF6",
          "polar": {
           "angularaxis": {
            "gridcolor": "white",
            "linecolor": "white",
            "ticks": ""
           },
           "bgcolor": "#E5ECF6",
           "radialaxis": {
            "gridcolor": "white",
            "linecolor": "white",
            "ticks": ""
           }
          },
          "scene": {
           "xaxis": {
            "backgroundcolor": "#E5ECF6",
            "gridcolor": "white",
            "gridwidth": 2,
            "linecolor": "white",
            "showbackground": true,
            "ticks": "",
            "zerolinecolor": "white"
           },
           "yaxis": {
            "backgroundcolor": "#E5ECF6",
            "gridcolor": "white",
            "gridwidth": 2,
            "linecolor": "white",
            "showbackground": true,
            "ticks": "",
            "zerolinecolor": "white"
           },
           "zaxis": {
            "backgroundcolor": "#E5ECF6",
            "gridcolor": "white",
            "gridwidth": 2,
            "linecolor": "white",
            "showbackground": true,
            "ticks": "",
            "zerolinecolor": "white"
           }
          },
          "shapedefaults": {
           "line": {
            "color": "#2a3f5f"
           }
          },
          "ternary": {
           "aaxis": {
            "gridcolor": "white",
            "linecolor": "white",
            "ticks": ""
           },
           "baxis": {
            "gridcolor": "white",
            "linecolor": "white",
            "ticks": ""
           },
           "bgcolor": "#E5ECF6",
           "caxis": {
            "gridcolor": "white",
            "linecolor": "white",
            "ticks": ""
           }
          },
          "title": {
           "x": 0.05
          },
          "xaxis": {
           "automargin": true,
           "gridcolor": "white",
           "linecolor": "white",
           "ticks": "",
           "title": {
            "standoff": 15
           },
           "zerolinecolor": "white",
           "zerolinewidth": 2
          },
          "yaxis": {
           "automargin": true,
           "gridcolor": "white",
           "linecolor": "white",
           "ticks": "",
           "title": {
            "standoff": 15
           },
           "zerolinecolor": "white",
           "zerolinewidth": 2
          }
         }
        },
        "title": {
         "text": "House Price values in Texas"
        },
        "xaxis": {
         "anchor": "y",
         "domain": [
          0,
          0.2888888888888889
         ]
        },
        "xaxis2": {
         "anchor": "y2",
         "domain": [
          0.35555555555555557,
          0.6444444444444445
         ]
        },
        "xaxis3": {
         "anchor": "y3",
         "domain": [
          0.7111111111111111,
          1
         ]
        },
        "yaxis": {
         "anchor": "x",
         "domain": [
          0,
          1
         ]
        },
        "yaxis2": {
         "anchor": "x2",
         "domain": [
          0,
          1
         ],
         "matches": "y",
         "showticklabels": false
        },
        "yaxis3": {
         "anchor": "x3",
         "domain": [
          0,
          1
         ],
         "matches": "y",
         "showticklabels": false
        }
       }
      }
     },
     "metadata": {},
     "output_type": "display_data"
    }
   ],
   "source": [
    "line_graph_house(housing_tier_recess,\n",
    "                 'Texas',\n",
    "                 'Housing Types',\n",
    "                 'observation_date',\n",
    "                 'House Values')"
   ]
  },
  {
   "cell_type": "markdown",
   "metadata": {},
   "source": [
    "Function for creating Bar graph Home dimention "
   ]
  },
  {
   "cell_type": "code",
   "execution_count": 34,
   "metadata": {},
   "outputs": [],
   "source": [
    "def bar_graph_house(df,selected_state,cat,x,y):\n",
    "      df =df[(df['State'] == selected_state) & (df['Housing'] == cat)] \n",
    "      df_fig = px.bar(df,\n",
    "                  x = x,\n",
    "                  y = y,\n",
    "                  color = 'Indicator',\n",
    "                  title= 'Housing Permits' +'in ' + selected_state\n",
    "                  )\n",
    "      df_fig.update_layout(   xaxis=dict(title='Year' ),\n",
    "                              yaxis=dict(title='Number of Housing Permits')\n",
    "      )\n",
    "      return df_fig"
   ]
  },
  {
   "cell_type": "markdown",
   "metadata": {},
   "source": [
    "Function for creating Line graph_hpi Home dimention "
   ]
  },
  {
   "cell_type": "code",
   "execution_count": 35,
   "metadata": {},
   "outputs": [],
   "source": [
    "def hpiline_graph_house(df,selected_state,cat,x,y):\n",
    "      df =df[(df['State'] == selected_state) & (df['Housing'] == cat)] \n",
    "      df_fig = px.line(df,\n",
    "                  x = x,\n",
    "                  y = y,\n",
    "                  color = 'Indicator',\n",
    "                  symbol= 'Indicator',\n",
    "                  title= 'House Price Index ' +'in ' + selected_state\n",
    "                  )\n",
    "      df_fig.update_layout(   xaxis=dict(title='Year' ),\n",
    "                              yaxis=dict(title='House Price Index')\n",
    "      )\n",
    "      return df_fig"
   ]
  },
  {
   "cell_type": "code",
   "execution_count": 36,
   "metadata": {},
   "outputs": [
    {
     "data": {
      "application/vnd.plotly.v1+json": {
       "config": {
        "plotlyServerURL": "https://plot.ly"
       },
       "data": [
        {
         "hovertemplate": "Indicator=Pre Recession<br>observation_date=%{x}<br>Housing Values=%{y}<extra></extra>",
         "legendgroup": "Pre Recession",
         "line": {
          "color": "#636efa",
          "dash": "solid"
         },
         "marker": {
          "symbol": "circle"
         },
         "mode": "lines+markers",
         "name": "Pre Recession",
         "orientation": "v",
         "showlegend": true,
         "type": "scatter",
         "x": [
          "2004-01-01T00:00:00",
          "2004-04-01T00:00:00",
          "2004-07-01T00:00:00",
          "2004-10-01T00:00:00",
          "2005-01-01T00:00:00",
          "2005-04-01T00:00:00",
          "2005-07-01T00:00:00",
          "2005-10-01T00:00:00",
          "2006-01-01T00:00:00",
          "2006-04-01T00:00:00",
          "2006-07-01T00:00:00",
          "2006-10-01T00:00:00",
          "2007-01-01T00:00:00",
          "2007-04-01T00:00:00",
          "2007-07-01T00:00:00",
          "2007-10-01T00:00:00"
         ],
         "xaxis": "x",
         "y": [
          187.46,
          189.37,
          190.87,
          193.07,
          194.06,
          197.22,
          200.39,
          202.73,
          205.14,
          208.37,
          211.46,
          214.36,
          217.15,
          220.79,
          221.53,
          223.18
         ],
         "yaxis": "y"
        },
        {
         "hovertemplate": "Indicator=During Recession<br>observation_date=%{x}<br>Housing Values=%{y}<extra></extra>",
         "legendgroup": "During Recession",
         "line": {
          "color": "#EF553B",
          "dash": "solid"
         },
         "marker": {
          "symbol": "diamond"
         },
         "mode": "lines+markers",
         "name": "During Recession",
         "orientation": "v",
         "showlegend": true,
         "type": "scatter",
         "x": [
          "2008-01-01T00:00:00",
          "2008-04-01T00:00:00",
          "2008-07-01T00:00:00",
          "2008-10-01T00:00:00",
          "2009-01-01T00:00:00",
          "2009-04-01T00:00:00",
          "2009-07-01T00:00:00",
          "2009-10-01T00:00:00",
          "2010-01-01T00:00:00",
          "2010-04-01T00:00:00",
          "2010-07-01T00:00:00",
          "2010-10-01T00:00:00",
          "2011-01-01T00:00:00",
          "2011-04-01T00:00:00",
          "2011-07-01T00:00:00",
          "2011-10-01T00:00:00"
         ],
         "xaxis": "x",
         "y": [
          224.43,
          225.14,
          224.37,
          224.75,
          227.4,
          225.89,
          223.69,
          223.12,
          221.68,
          221.88,
          223.26,
          222.26,
          218.99,
          217.95,
          219.79,
          219.97
         ],
         "yaxis": "y"
        },
        {
         "hovertemplate": "Indicator=Post Recession<br>observation_date=%{x}<br>Housing Values=%{y}<extra></extra>",
         "legendgroup": "Post Recession",
         "line": {
          "color": "#00cc96",
          "dash": "solid"
         },
         "marker": {
          "symbol": "square"
         },
         "mode": "lines+markers",
         "name": "Post Recession",
         "orientation": "v",
         "showlegend": true,
         "type": "scatter",
         "x": [
          "2012-01-01T00:00:00",
          "2012-04-01T00:00:00",
          "2012-07-01T00:00:00",
          "2012-10-01T00:00:00",
          "2013-01-01T00:00:00",
          "2013-04-01T00:00:00",
          "2013-07-01T00:00:00",
          "2013-10-01T00:00:00",
          "2014-01-01T00:00:00"
         ],
         "xaxis": "x",
         "y": [
          219.87,
          221.37,
          223.33,
          224.93,
          226.6,
          230.67,
          234.56,
          237.29,
          241.28
         ],
         "yaxis": "y"
        }
       ],
       "layout": {
        "legend": {
         "title": {
          "text": "Indicator"
         },
         "tracegroupgap": 0
        },
        "template": {
         "data": {
          "bar": [
           {
            "error_x": {
             "color": "#2a3f5f"
            },
            "error_y": {
             "color": "#2a3f5f"
            },
            "marker": {
             "line": {
              "color": "#E5ECF6",
              "width": 0.5
             },
             "pattern": {
              "fillmode": "overlay",
              "size": 10,
              "solidity": 0.2
             }
            },
            "type": "bar"
           }
          ],
          "barpolar": [
           {
            "marker": {
             "line": {
              "color": "#E5ECF6",
              "width": 0.5
             },
             "pattern": {
              "fillmode": "overlay",
              "size": 10,
              "solidity": 0.2
             }
            },
            "type": "barpolar"
           }
          ],
          "carpet": [
           {
            "aaxis": {
             "endlinecolor": "#2a3f5f",
             "gridcolor": "white",
             "linecolor": "white",
             "minorgridcolor": "white",
             "startlinecolor": "#2a3f5f"
            },
            "baxis": {
             "endlinecolor": "#2a3f5f",
             "gridcolor": "white",
             "linecolor": "white",
             "minorgridcolor": "white",
             "startlinecolor": "#2a3f5f"
            },
            "type": "carpet"
           }
          ],
          "choropleth": [
           {
            "colorbar": {
             "outlinewidth": 0,
             "ticks": ""
            },
            "type": "choropleth"
           }
          ],
          "contour": [
           {
            "colorbar": {
             "outlinewidth": 0,
             "ticks": ""
            },
            "colorscale": [
             [
              0,
              "#0d0887"
             ],
             [
              0.1111111111111111,
              "#46039f"
             ],
             [
              0.2222222222222222,
              "#7201a8"
             ],
             [
              0.3333333333333333,
              "#9c179e"
             ],
             [
              0.4444444444444444,
              "#bd3786"
             ],
             [
              0.5555555555555556,
              "#d8576b"
             ],
             [
              0.6666666666666666,
              "#ed7953"
             ],
             [
              0.7777777777777778,
              "#fb9f3a"
             ],
             [
              0.8888888888888888,
              "#fdca26"
             ],
             [
              1,
              "#f0f921"
             ]
            ],
            "type": "contour"
           }
          ],
          "contourcarpet": [
           {
            "colorbar": {
             "outlinewidth": 0,
             "ticks": ""
            },
            "type": "contourcarpet"
           }
          ],
          "heatmap": [
           {
            "colorbar": {
             "outlinewidth": 0,
             "ticks": ""
            },
            "colorscale": [
             [
              0,
              "#0d0887"
             ],
             [
              0.1111111111111111,
              "#46039f"
             ],
             [
              0.2222222222222222,
              "#7201a8"
             ],
             [
              0.3333333333333333,
              "#9c179e"
             ],
             [
              0.4444444444444444,
              "#bd3786"
             ],
             [
              0.5555555555555556,
              "#d8576b"
             ],
             [
              0.6666666666666666,
              "#ed7953"
             ],
             [
              0.7777777777777778,
              "#fb9f3a"
             ],
             [
              0.8888888888888888,
              "#fdca26"
             ],
             [
              1,
              "#f0f921"
             ]
            ],
            "type": "heatmap"
           }
          ],
          "heatmapgl": [
           {
            "colorbar": {
             "outlinewidth": 0,
             "ticks": ""
            },
            "colorscale": [
             [
              0,
              "#0d0887"
             ],
             [
              0.1111111111111111,
              "#46039f"
             ],
             [
              0.2222222222222222,
              "#7201a8"
             ],
             [
              0.3333333333333333,
              "#9c179e"
             ],
             [
              0.4444444444444444,
              "#bd3786"
             ],
             [
              0.5555555555555556,
              "#d8576b"
             ],
             [
              0.6666666666666666,
              "#ed7953"
             ],
             [
              0.7777777777777778,
              "#fb9f3a"
             ],
             [
              0.8888888888888888,
              "#fdca26"
             ],
             [
              1,
              "#f0f921"
             ]
            ],
            "type": "heatmapgl"
           }
          ],
          "histogram": [
           {
            "marker": {
             "pattern": {
              "fillmode": "overlay",
              "size": 10,
              "solidity": 0.2
             }
            },
            "type": "histogram"
           }
          ],
          "histogram2d": [
           {
            "colorbar": {
             "outlinewidth": 0,
             "ticks": ""
            },
            "colorscale": [
             [
              0,
              "#0d0887"
             ],
             [
              0.1111111111111111,
              "#46039f"
             ],
             [
              0.2222222222222222,
              "#7201a8"
             ],
             [
              0.3333333333333333,
              "#9c179e"
             ],
             [
              0.4444444444444444,
              "#bd3786"
             ],
             [
              0.5555555555555556,
              "#d8576b"
             ],
             [
              0.6666666666666666,
              "#ed7953"
             ],
             [
              0.7777777777777778,
              "#fb9f3a"
             ],
             [
              0.8888888888888888,
              "#fdca26"
             ],
             [
              1,
              "#f0f921"
             ]
            ],
            "type": "histogram2d"
           }
          ],
          "histogram2dcontour": [
           {
            "colorbar": {
             "outlinewidth": 0,
             "ticks": ""
            },
            "colorscale": [
             [
              0,
              "#0d0887"
             ],
             [
              0.1111111111111111,
              "#46039f"
             ],
             [
              0.2222222222222222,
              "#7201a8"
             ],
             [
              0.3333333333333333,
              "#9c179e"
             ],
             [
              0.4444444444444444,
              "#bd3786"
             ],
             [
              0.5555555555555556,
              "#d8576b"
             ],
             [
              0.6666666666666666,
              "#ed7953"
             ],
             [
              0.7777777777777778,
              "#fb9f3a"
             ],
             [
              0.8888888888888888,
              "#fdca26"
             ],
             [
              1,
              "#f0f921"
             ]
            ],
            "type": "histogram2dcontour"
           }
          ],
          "mesh3d": [
           {
            "colorbar": {
             "outlinewidth": 0,
             "ticks": ""
            },
            "type": "mesh3d"
           }
          ],
          "parcoords": [
           {
            "line": {
             "colorbar": {
              "outlinewidth": 0,
              "ticks": ""
             }
            },
            "type": "parcoords"
           }
          ],
          "pie": [
           {
            "automargin": true,
            "type": "pie"
           }
          ],
          "scatter": [
           {
            "fillpattern": {
             "fillmode": "overlay",
             "size": 10,
             "solidity": 0.2
            },
            "type": "scatter"
           }
          ],
          "scatter3d": [
           {
            "line": {
             "colorbar": {
              "outlinewidth": 0,
              "ticks": ""
             }
            },
            "marker": {
             "colorbar": {
              "outlinewidth": 0,
              "ticks": ""
             }
            },
            "type": "scatter3d"
           }
          ],
          "scattercarpet": [
           {
            "marker": {
             "colorbar": {
              "outlinewidth": 0,
              "ticks": ""
             }
            },
            "type": "scattercarpet"
           }
          ],
          "scattergeo": [
           {
            "marker": {
             "colorbar": {
              "outlinewidth": 0,
              "ticks": ""
             }
            },
            "type": "scattergeo"
           }
          ],
          "scattergl": [
           {
            "marker": {
             "colorbar": {
              "outlinewidth": 0,
              "ticks": ""
             }
            },
            "type": "scattergl"
           }
          ],
          "scattermapbox": [
           {
            "marker": {
             "colorbar": {
              "outlinewidth": 0,
              "ticks": ""
             }
            },
            "type": "scattermapbox"
           }
          ],
          "scatterpolar": [
           {
            "marker": {
             "colorbar": {
              "outlinewidth": 0,
              "ticks": ""
             }
            },
            "type": "scatterpolar"
           }
          ],
          "scatterpolargl": [
           {
            "marker": {
             "colorbar": {
              "outlinewidth": 0,
              "ticks": ""
             }
            },
            "type": "scatterpolargl"
           }
          ],
          "scatterternary": [
           {
            "marker": {
             "colorbar": {
              "outlinewidth": 0,
              "ticks": ""
             }
            },
            "type": "scatterternary"
           }
          ],
          "surface": [
           {
            "colorbar": {
             "outlinewidth": 0,
             "ticks": ""
            },
            "colorscale": [
             [
              0,
              "#0d0887"
             ],
             [
              0.1111111111111111,
              "#46039f"
             ],
             [
              0.2222222222222222,
              "#7201a8"
             ],
             [
              0.3333333333333333,
              "#9c179e"
             ],
             [
              0.4444444444444444,
              "#bd3786"
             ],
             [
              0.5555555555555556,
              "#d8576b"
             ],
             [
              0.6666666666666666,
              "#ed7953"
             ],
             [
              0.7777777777777778,
              "#fb9f3a"
             ],
             [
              0.8888888888888888,
              "#fdca26"
             ],
             [
              1,
              "#f0f921"
             ]
            ],
            "type": "surface"
           }
          ],
          "table": [
           {
            "cells": {
             "fill": {
              "color": "#EBF0F8"
             },
             "line": {
              "color": "white"
             }
            },
            "header": {
             "fill": {
              "color": "#C8D4E3"
             },
             "line": {
              "color": "white"
             }
            },
            "type": "table"
           }
          ]
         },
         "layout": {
          "annotationdefaults": {
           "arrowcolor": "#2a3f5f",
           "arrowhead": 0,
           "arrowwidth": 1
          },
          "autotypenumbers": "strict",
          "coloraxis": {
           "colorbar": {
            "outlinewidth": 0,
            "ticks": ""
           }
          },
          "colorscale": {
           "diverging": [
            [
             0,
             "#8e0152"
            ],
            [
             0.1,
             "#c51b7d"
            ],
            [
             0.2,
             "#de77ae"
            ],
            [
             0.3,
             "#f1b6da"
            ],
            [
             0.4,
             "#fde0ef"
            ],
            [
             0.5,
             "#f7f7f7"
            ],
            [
             0.6,
             "#e6f5d0"
            ],
            [
             0.7,
             "#b8e186"
            ],
            [
             0.8,
             "#7fbc41"
            ],
            [
             0.9,
             "#4d9221"
            ],
            [
             1,
             "#276419"
            ]
           ],
           "sequential": [
            [
             0,
             "#0d0887"
            ],
            [
             0.1111111111111111,
             "#46039f"
            ],
            [
             0.2222222222222222,
             "#7201a8"
            ],
            [
             0.3333333333333333,
             "#9c179e"
            ],
            [
             0.4444444444444444,
             "#bd3786"
            ],
            [
             0.5555555555555556,
             "#d8576b"
            ],
            [
             0.6666666666666666,
             "#ed7953"
            ],
            [
             0.7777777777777778,
             "#fb9f3a"
            ],
            [
             0.8888888888888888,
             "#fdca26"
            ],
            [
             1,
             "#f0f921"
            ]
           ],
           "sequentialminus": [
            [
             0,
             "#0d0887"
            ],
            [
             0.1111111111111111,
             "#46039f"
            ],
            [
             0.2222222222222222,
             "#7201a8"
            ],
            [
             0.3333333333333333,
             "#9c179e"
            ],
            [
             0.4444444444444444,
             "#bd3786"
            ],
            [
             0.5555555555555556,
             "#d8576b"
            ],
            [
             0.6666666666666666,
             "#ed7953"
            ],
            [
             0.7777777777777778,
             "#fb9f3a"
            ],
            [
             0.8888888888888888,
             "#fdca26"
            ],
            [
             1,
             "#f0f921"
            ]
           ]
          },
          "colorway": [
           "#636efa",
           "#EF553B",
           "#00cc96",
           "#ab63fa",
           "#FFA15A",
           "#19d3f3",
           "#FF6692",
           "#B6E880",
           "#FF97FF",
           "#FECB52"
          ],
          "font": {
           "color": "#2a3f5f"
          },
          "geo": {
           "bgcolor": "white",
           "lakecolor": "white",
           "landcolor": "#E5ECF6",
           "showlakes": true,
           "showland": true,
           "subunitcolor": "white"
          },
          "hoverlabel": {
           "align": "left"
          },
          "hovermode": "closest",
          "mapbox": {
           "style": "light"
          },
          "paper_bgcolor": "white",
          "plot_bgcolor": "#E5ECF6",
          "polar": {
           "angularaxis": {
            "gridcolor": "white",
            "linecolor": "white",
            "ticks": ""
           },
           "bgcolor": "#E5ECF6",
           "radialaxis": {
            "gridcolor": "white",
            "linecolor": "white",
            "ticks": ""
           }
          },
          "scene": {
           "xaxis": {
            "backgroundcolor": "#E5ECF6",
            "gridcolor": "white",
            "gridwidth": 2,
            "linecolor": "white",
            "showbackground": true,
            "ticks": "",
            "zerolinecolor": "white"
           },
           "yaxis": {
            "backgroundcolor": "#E5ECF6",
            "gridcolor": "white",
            "gridwidth": 2,
            "linecolor": "white",
            "showbackground": true,
            "ticks": "",
            "zerolinecolor": "white"
           },
           "zaxis": {
            "backgroundcolor": "#E5ECF6",
            "gridcolor": "white",
            "gridwidth": 2,
            "linecolor": "white",
            "showbackground": true,
            "ticks": "",
            "zerolinecolor": "white"
           }
          },
          "shapedefaults": {
           "line": {
            "color": "#2a3f5f"
           }
          },
          "ternary": {
           "aaxis": {
            "gridcolor": "white",
            "linecolor": "white",
            "ticks": ""
           },
           "baxis": {
            "gridcolor": "white",
            "linecolor": "white",
            "ticks": ""
           },
           "bgcolor": "#E5ECF6",
           "caxis": {
            "gridcolor": "white",
            "linecolor": "white",
            "ticks": ""
           }
          },
          "title": {
           "x": 0.05
          },
          "xaxis": {
           "automargin": true,
           "gridcolor": "white",
           "linecolor": "white",
           "ticks": "",
           "title": {
            "standoff": 15
           },
           "zerolinecolor": "white",
           "zerolinewidth": 2
          },
          "yaxis": {
           "automargin": true,
           "gridcolor": "white",
           "linecolor": "white",
           "ticks": "",
           "title": {
            "standoff": 15
           },
           "zerolinecolor": "white",
           "zerolinewidth": 2
          }
         }
        },
        "title": {
         "text": "House Price Index in Texas"
        },
        "xaxis": {
         "anchor": "y",
         "domain": [
          0,
          1
         ],
         "title": {
          "text": "Year"
         }
        },
        "yaxis": {
         "anchor": "x",
         "domain": [
          0,
          1
         ],
         "title": {
          "text": "House Price Index"
         }
        }
       }
      }
     },
     "metadata": {},
     "output_type": "display_data"
    }
   ],
   "source": [
    "hpiline_graph_house(housing_hpi_recess,\n",
    "                'Texas',\n",
    "                'HPI',\n",
    "                'observation_date',\n",
    "                'Housing Values')"
   ]
  },
  {
   "cell_type": "code",
   "execution_count": 37,
   "metadata": {},
   "outputs": [
    {
     "data": {
      "application/vnd.plotly.v1+json": {
       "config": {
        "plotlyServerURL": "https://plot.ly"
       },
       "data": [
        {
         "alignmentgroup": "True",
         "hovertemplate": "Indicator=Pre Recession<br>observation_date=%{x}<br>Housing Values=%{y}<extra></extra>",
         "legendgroup": "Pre Recession",
         "marker": {
          "color": "#636efa",
          "pattern": {
           "shape": ""
          }
         },
         "name": "Pre Recession",
         "offsetgroup": "Pre Recession",
         "orientation": "v",
         "showlegend": true,
         "textposition": "auto",
         "type": "bar",
         "x": [
          "2004-01-01T00:00:00",
          "2004-04-01T00:00:00",
          "2004-07-01T00:00:00",
          "2004-10-01T00:00:00",
          "2005-01-01T00:00:00",
          "2005-04-01T00:00:00",
          "2005-07-01T00:00:00",
          "2005-10-01T00:00:00",
          "2006-01-01T00:00:00",
          "2006-04-01T00:00:00",
          "2006-07-01T00:00:00",
          "2006-10-01T00:00:00",
          "2007-01-01T00:00:00",
          "2007-04-01T00:00:00",
          "2007-07-01T00:00:00",
          "2007-10-01T00:00:00"
         ],
         "xaxis": "x",
         "y": [
          14013.206805567,
          15295.757144285,
          14893.732715273,
          14988.129908212,
          17110.452619656,
          16914.179826305,
          17509.907350138,
          17948.403189728,
          20191.099432751,
          18044.826847348,
          16306.036304024,
          16788.157162236,
          14350.903002546,
          13184.554546125,
          15333.028334639,
          13928.161264324
         ],
         "yaxis": "y"
        },
        {
         "alignmentgroup": "True",
         "hovertemplate": "Indicator=During Recession<br>observation_date=%{x}<br>Housing Values=%{y}<extra></extra>",
         "legendgroup": "During Recession",
         "marker": {
          "color": "#EF553B",
          "pattern": {
           "shape": ""
          }
         },
         "name": "During Recession",
         "offsetgroup": "During Recession",
         "orientation": "v",
         "showlegend": true,
         "textposition": "auto",
         "type": "bar",
         "x": [
          "2008-01-01T00:00:00",
          "2008-04-01T00:00:00",
          "2008-07-01T00:00:00",
          "2008-10-01T00:00:00",
          "2009-01-01T00:00:00",
          "2009-04-01T00:00:00",
          "2009-07-01T00:00:00",
          "2009-10-01T00:00:00",
          "2010-01-01T00:00:00",
          "2010-04-01T00:00:00",
          "2010-07-01T00:00:00",
          "2010-10-01T00:00:00",
          "2011-01-01T00:00:00",
          "2011-04-01T00:00:00",
          "2011-07-01T00:00:00",
          "2011-10-01T00:00:00"
         ],
         "xaxis": "x",
         "y": [
          12898.366766676,
          11965.057088612,
          10769.74419192,
          9532.004723851,
          6891.837237159,
          6678.803053252,
          7106.767919737,
          5898.184658059,
          6970.837530745,
          7390.131012965,
          6777.687336742,
          5474.640647765,
          5976.504273651,
          7489.13549947,
          7736.499206792,
          8678.152656565
         ],
         "yaxis": "y"
        },
        {
         "alignmentgroup": "True",
         "hovertemplate": "Indicator=Post Recession<br>observation_date=%{x}<br>Housing Values=%{y}<extra></extra>",
         "legendgroup": "Post Recession",
         "marker": {
          "color": "#00cc96",
          "pattern": {
           "shape": ""
          }
         },
         "name": "Post Recession",
         "offsetgroup": "Post Recession",
         "orientation": "v",
         "showlegend": true,
         "textposition": "auto",
         "type": "bar",
         "x": [
          "2012-01-01T00:00:00",
          "2012-04-01T00:00:00",
          "2012-07-01T00:00:00",
          "2012-10-01T00:00:00",
          "2013-01-01T00:00:00",
          "2013-04-01T00:00:00",
          "2013-07-01T00:00:00",
          "2013-10-01T00:00:00",
          "2014-01-01T00:00:00"
         ],
         "xaxis": "x",
         "y": [
          9876.83481015,
          9331.470189307,
          11221.464171544,
          12133.704054855,
          12290.373185591,
          12668.819726049,
          11969.700430339,
          15536.750843553,
          13722.366514329
         ],
         "yaxis": "y"
        }
       ],
       "layout": {
        "barmode": "relative",
        "legend": {
         "title": {
          "text": "Indicator"
         },
         "tracegroupgap": 0
        },
        "template": {
         "data": {
          "bar": [
           {
            "error_x": {
             "color": "#2a3f5f"
            },
            "error_y": {
             "color": "#2a3f5f"
            },
            "marker": {
             "line": {
              "color": "#E5ECF6",
              "width": 0.5
             },
             "pattern": {
              "fillmode": "overlay",
              "size": 10,
              "solidity": 0.2
             }
            },
            "type": "bar"
           }
          ],
          "barpolar": [
           {
            "marker": {
             "line": {
              "color": "#E5ECF6",
              "width": 0.5
             },
             "pattern": {
              "fillmode": "overlay",
              "size": 10,
              "solidity": 0.2
             }
            },
            "type": "barpolar"
           }
          ],
          "carpet": [
           {
            "aaxis": {
             "endlinecolor": "#2a3f5f",
             "gridcolor": "white",
             "linecolor": "white",
             "minorgridcolor": "white",
             "startlinecolor": "#2a3f5f"
            },
            "baxis": {
             "endlinecolor": "#2a3f5f",
             "gridcolor": "white",
             "linecolor": "white",
             "minorgridcolor": "white",
             "startlinecolor": "#2a3f5f"
            },
            "type": "carpet"
           }
          ],
          "choropleth": [
           {
            "colorbar": {
             "outlinewidth": 0,
             "ticks": ""
            },
            "type": "choropleth"
           }
          ],
          "contour": [
           {
            "colorbar": {
             "outlinewidth": 0,
             "ticks": ""
            },
            "colorscale": [
             [
              0,
              "#0d0887"
             ],
             [
              0.1111111111111111,
              "#46039f"
             ],
             [
              0.2222222222222222,
              "#7201a8"
             ],
             [
              0.3333333333333333,
              "#9c179e"
             ],
             [
              0.4444444444444444,
              "#bd3786"
             ],
             [
              0.5555555555555556,
              "#d8576b"
             ],
             [
              0.6666666666666666,
              "#ed7953"
             ],
             [
              0.7777777777777778,
              "#fb9f3a"
             ],
             [
              0.8888888888888888,
              "#fdca26"
             ],
             [
              1,
              "#f0f921"
             ]
            ],
            "type": "contour"
           }
          ],
          "contourcarpet": [
           {
            "colorbar": {
             "outlinewidth": 0,
             "ticks": ""
            },
            "type": "contourcarpet"
           }
          ],
          "heatmap": [
           {
            "colorbar": {
             "outlinewidth": 0,
             "ticks": ""
            },
            "colorscale": [
             [
              0,
              "#0d0887"
             ],
             [
              0.1111111111111111,
              "#46039f"
             ],
             [
              0.2222222222222222,
              "#7201a8"
             ],
             [
              0.3333333333333333,
              "#9c179e"
             ],
             [
              0.4444444444444444,
              "#bd3786"
             ],
             [
              0.5555555555555556,
              "#d8576b"
             ],
             [
              0.6666666666666666,
              "#ed7953"
             ],
             [
              0.7777777777777778,
              "#fb9f3a"
             ],
             [
              0.8888888888888888,
              "#fdca26"
             ],
             [
              1,
              "#f0f921"
             ]
            ],
            "type": "heatmap"
           }
          ],
          "heatmapgl": [
           {
            "colorbar": {
             "outlinewidth": 0,
             "ticks": ""
            },
            "colorscale": [
             [
              0,
              "#0d0887"
             ],
             [
              0.1111111111111111,
              "#46039f"
             ],
             [
              0.2222222222222222,
              "#7201a8"
             ],
             [
              0.3333333333333333,
              "#9c179e"
             ],
             [
              0.4444444444444444,
              "#bd3786"
             ],
             [
              0.5555555555555556,
              "#d8576b"
             ],
             [
              0.6666666666666666,
              "#ed7953"
             ],
             [
              0.7777777777777778,
              "#fb9f3a"
             ],
             [
              0.8888888888888888,
              "#fdca26"
             ],
             [
              1,
              "#f0f921"
             ]
            ],
            "type": "heatmapgl"
           }
          ],
          "histogram": [
           {
            "marker": {
             "pattern": {
              "fillmode": "overlay",
              "size": 10,
              "solidity": 0.2
             }
            },
            "type": "histogram"
           }
          ],
          "histogram2d": [
           {
            "colorbar": {
             "outlinewidth": 0,
             "ticks": ""
            },
            "colorscale": [
             [
              0,
              "#0d0887"
             ],
             [
              0.1111111111111111,
              "#46039f"
             ],
             [
              0.2222222222222222,
              "#7201a8"
             ],
             [
              0.3333333333333333,
              "#9c179e"
             ],
             [
              0.4444444444444444,
              "#bd3786"
             ],
             [
              0.5555555555555556,
              "#d8576b"
             ],
             [
              0.6666666666666666,
              "#ed7953"
             ],
             [
              0.7777777777777778,
              "#fb9f3a"
             ],
             [
              0.8888888888888888,
              "#fdca26"
             ],
             [
              1,
              "#f0f921"
             ]
            ],
            "type": "histogram2d"
           }
          ],
          "histogram2dcontour": [
           {
            "colorbar": {
             "outlinewidth": 0,
             "ticks": ""
            },
            "colorscale": [
             [
              0,
              "#0d0887"
             ],
             [
              0.1111111111111111,
              "#46039f"
             ],
             [
              0.2222222222222222,
              "#7201a8"
             ],
             [
              0.3333333333333333,
              "#9c179e"
             ],
             [
              0.4444444444444444,
              "#bd3786"
             ],
             [
              0.5555555555555556,
              "#d8576b"
             ],
             [
              0.6666666666666666,
              "#ed7953"
             ],
             [
              0.7777777777777778,
              "#fb9f3a"
             ],
             [
              0.8888888888888888,
              "#fdca26"
             ],
             [
              1,
              "#f0f921"
             ]
            ],
            "type": "histogram2dcontour"
           }
          ],
          "mesh3d": [
           {
            "colorbar": {
             "outlinewidth": 0,
             "ticks": ""
            },
            "type": "mesh3d"
           }
          ],
          "parcoords": [
           {
            "line": {
             "colorbar": {
              "outlinewidth": 0,
              "ticks": ""
             }
            },
            "type": "parcoords"
           }
          ],
          "pie": [
           {
            "automargin": true,
            "type": "pie"
           }
          ],
          "scatter": [
           {
            "fillpattern": {
             "fillmode": "overlay",
             "size": 10,
             "solidity": 0.2
            },
            "type": "scatter"
           }
          ],
          "scatter3d": [
           {
            "line": {
             "colorbar": {
              "outlinewidth": 0,
              "ticks": ""
             }
            },
            "marker": {
             "colorbar": {
              "outlinewidth": 0,
              "ticks": ""
             }
            },
            "type": "scatter3d"
           }
          ],
          "scattercarpet": [
           {
            "marker": {
             "colorbar": {
              "outlinewidth": 0,
              "ticks": ""
             }
            },
            "type": "scattercarpet"
           }
          ],
          "scattergeo": [
           {
            "marker": {
             "colorbar": {
              "outlinewidth": 0,
              "ticks": ""
             }
            },
            "type": "scattergeo"
           }
          ],
          "scattergl": [
           {
            "marker": {
             "colorbar": {
              "outlinewidth": 0,
              "ticks": ""
             }
            },
            "type": "scattergl"
           }
          ],
          "scattermapbox": [
           {
            "marker": {
             "colorbar": {
              "outlinewidth": 0,
              "ticks": ""
             }
            },
            "type": "scattermapbox"
           }
          ],
          "scatterpolar": [
           {
            "marker": {
             "colorbar": {
              "outlinewidth": 0,
              "ticks": ""
             }
            },
            "type": "scatterpolar"
           }
          ],
          "scatterpolargl": [
           {
            "marker": {
             "colorbar": {
              "outlinewidth": 0,
              "ticks": ""
             }
            },
            "type": "scatterpolargl"
           }
          ],
          "scatterternary": [
           {
            "marker": {
             "colorbar": {
              "outlinewidth": 0,
              "ticks": ""
             }
            },
            "type": "scatterternary"
           }
          ],
          "surface": [
           {
            "colorbar": {
             "outlinewidth": 0,
             "ticks": ""
            },
            "colorscale": [
             [
              0,
              "#0d0887"
             ],
             [
              0.1111111111111111,
              "#46039f"
             ],
             [
              0.2222222222222222,
              "#7201a8"
             ],
             [
              0.3333333333333333,
              "#9c179e"
             ],
             [
              0.4444444444444444,
              "#bd3786"
             ],
             [
              0.5555555555555556,
              "#d8576b"
             ],
             [
              0.6666666666666666,
              "#ed7953"
             ],
             [
              0.7777777777777778,
              "#fb9f3a"
             ],
             [
              0.8888888888888888,
              "#fdca26"
             ],
             [
              1,
              "#f0f921"
             ]
            ],
            "type": "surface"
           }
          ],
          "table": [
           {
            "cells": {
             "fill": {
              "color": "#EBF0F8"
             },
             "line": {
              "color": "white"
             }
            },
            "header": {
             "fill": {
              "color": "#C8D4E3"
             },
             "line": {
              "color": "white"
             }
            },
            "type": "table"
           }
          ]
         },
         "layout": {
          "annotationdefaults": {
           "arrowcolor": "#2a3f5f",
           "arrowhead": 0,
           "arrowwidth": 1
          },
          "autotypenumbers": "strict",
          "coloraxis": {
           "colorbar": {
            "outlinewidth": 0,
            "ticks": ""
           }
          },
          "colorscale": {
           "diverging": [
            [
             0,
             "#8e0152"
            ],
            [
             0.1,
             "#c51b7d"
            ],
            [
             0.2,
             "#de77ae"
            ],
            [
             0.3,
             "#f1b6da"
            ],
            [
             0.4,
             "#fde0ef"
            ],
            [
             0.5,
             "#f7f7f7"
            ],
            [
             0.6,
             "#e6f5d0"
            ],
            [
             0.7,
             "#b8e186"
            ],
            [
             0.8,
             "#7fbc41"
            ],
            [
             0.9,
             "#4d9221"
            ],
            [
             1,
             "#276419"
            ]
           ],
           "sequential": [
            [
             0,
             "#0d0887"
            ],
            [
             0.1111111111111111,
             "#46039f"
            ],
            [
             0.2222222222222222,
             "#7201a8"
            ],
            [
             0.3333333333333333,
             "#9c179e"
            ],
            [
             0.4444444444444444,
             "#bd3786"
            ],
            [
             0.5555555555555556,
             "#d8576b"
            ],
            [
             0.6666666666666666,
             "#ed7953"
            ],
            [
             0.7777777777777778,
             "#fb9f3a"
            ],
            [
             0.8888888888888888,
             "#fdca26"
            ],
            [
             1,
             "#f0f921"
            ]
           ],
           "sequentialminus": [
            [
             0,
             "#0d0887"
            ],
            [
             0.1111111111111111,
             "#46039f"
            ],
            [
             0.2222222222222222,
             "#7201a8"
            ],
            [
             0.3333333333333333,
             "#9c179e"
            ],
            [
             0.4444444444444444,
             "#bd3786"
            ],
            [
             0.5555555555555556,
             "#d8576b"
            ],
            [
             0.6666666666666666,
             "#ed7953"
            ],
            [
             0.7777777777777778,
             "#fb9f3a"
            ],
            [
             0.8888888888888888,
             "#fdca26"
            ],
            [
             1,
             "#f0f921"
            ]
           ]
          },
          "colorway": [
           "#636efa",
           "#EF553B",
           "#00cc96",
           "#ab63fa",
           "#FFA15A",
           "#19d3f3",
           "#FF6692",
           "#B6E880",
           "#FF97FF",
           "#FECB52"
          ],
          "font": {
           "color": "#2a3f5f"
          },
          "geo": {
           "bgcolor": "white",
           "lakecolor": "white",
           "landcolor": "#E5ECF6",
           "showlakes": true,
           "showland": true,
           "subunitcolor": "white"
          },
          "hoverlabel": {
           "align": "left"
          },
          "hovermode": "closest",
          "mapbox": {
           "style": "light"
          },
          "paper_bgcolor": "white",
          "plot_bgcolor": "#E5ECF6",
          "polar": {
           "angularaxis": {
            "gridcolor": "white",
            "linecolor": "white",
            "ticks": ""
           },
           "bgcolor": "#E5ECF6",
           "radialaxis": {
            "gridcolor": "white",
            "linecolor": "white",
            "ticks": ""
           }
          },
          "scene": {
           "xaxis": {
            "backgroundcolor": "#E5ECF6",
            "gridcolor": "white",
            "gridwidth": 2,
            "linecolor": "white",
            "showbackground": true,
            "ticks": "",
            "zerolinecolor": "white"
           },
           "yaxis": {
            "backgroundcolor": "#E5ECF6",
            "gridcolor": "white",
            "gridwidth": 2,
            "linecolor": "white",
            "showbackground": true,
            "ticks": "",
            "zerolinecolor": "white"
           },
           "zaxis": {
            "backgroundcolor": "#E5ECF6",
            "gridcolor": "white",
            "gridwidth": 2,
            "linecolor": "white",
            "showbackground": true,
            "ticks": "",
            "zerolinecolor": "white"
           }
          },
          "shapedefaults": {
           "line": {
            "color": "#2a3f5f"
           }
          },
          "ternary": {
           "aaxis": {
            "gridcolor": "white",
            "linecolor": "white",
            "ticks": ""
           },
           "baxis": {
            "gridcolor": "white",
            "linecolor": "white",
            "ticks": ""
           },
           "bgcolor": "#E5ECF6",
           "caxis": {
            "gridcolor": "white",
            "linecolor": "white",
            "ticks": ""
           }
          },
          "title": {
           "x": 0.05
          },
          "xaxis": {
           "automargin": true,
           "gridcolor": "white",
           "linecolor": "white",
           "ticks": "",
           "title": {
            "standoff": 15
           },
           "zerolinecolor": "white",
           "zerolinewidth": 2
          },
          "yaxis": {
           "automargin": true,
           "gridcolor": "white",
           "linecolor": "white",
           "ticks": "",
           "title": {
            "standoff": 15
           },
           "zerolinecolor": "white",
           "zerolinewidth": 2
          }
         }
        },
        "title": {
         "text": "Housing Permitsin Texas"
        },
        "xaxis": {
         "anchor": "y",
         "domain": [
          0,
          1
         ],
         "title": {
          "text": "Year"
         }
        },
        "yaxis": {
         "anchor": "x",
         "domain": [
          0,
          1
         ],
         "title": {
          "text": "Number of Housing Permits"
         }
        }
       }
      }
     },
     "metadata": {},
     "output_type": "display_data"
    }
   ],
   "source": [
    "bar_graph_house(housing_hpi_recess,\n",
    "                'Texas',\n",
    "                'Housing Permits',\n",
    "                'observation_date',\n",
    "                'Housing Values')"
   ]
  },
  {
   "cell_type": "markdown",
   "metadata": {},
   "source": [
    "Recessoin Line Graph"
   ]
  },
  {
   "cell_type": "code",
   "execution_count": 38,
   "metadata": {},
   "outputs": [],
   "source": [
    "select_housing_state = dcc_dropdown(housing_state,housing_state[0],'Home_Recession')\n",
    "#select_unemprate = dcc_dropdown(selectunemprate_unique,selectunemprate_unique[0],'rate')\n",
    "\n",
    "line_home_recess = dcc.Graph(id = 'figure_line_recess')\n",
    "\n",
    "@app.callback(\n",
    "        Output(\"figure_line_recess\", \"figure\"), \n",
    "        [Input(\"Home_Recession\", \"value\")]\n",
    ")\n",
    "def update_line_home_recess(selected_state):\n",
    "    return line_graph_house(housing_tier_recess,\n",
    "                 selected_state,\n",
    "                 'Housing Types',\n",
    "                 'observation_date',\n",
    "                 'House Values')"
   ]
  },
  {
   "cell_type": "markdown",
   "metadata": {},
   "source": [
    "Recession Bar Graph"
   ]
  },
  {
   "cell_type": "code",
   "execution_count": 39,
   "metadata": {},
   "outputs": [],
   "source": [
    "select_housing_state = dcc_dropdown(housing_state,housing_state[0],'Home_Recession')\n",
    "#select_unemprate = dcc_dropdown(selectunemprate_unique,selectunemprate_unique[0],'rate')\n",
    "\n",
    "bar_home_recess = dcc.Graph(id = 'figure_bar_recess')\n",
    "\n",
    "@app.callback(\n",
    "        Output(\"figure_bar_recess\", \"figure\"), \n",
    "        [Input(\"Home_Recession\", \"value\")]\n",
    ")\n",
    "def update_bar_home_recess(selected_state):\n",
    "    return bar_graph_house(housing_hpi_recess,\n",
    "                selected_state,\n",
    "                'Housing Permits',\n",
    "                'observation_date',\n",
    "                'Housing Values')"
   ]
  },
  {
   "cell_type": "markdown",
   "metadata": {},
   "source": [
    "Recession HPI Line graph"
   ]
  },
  {
   "cell_type": "code",
   "execution_count": 40,
   "metadata": {},
   "outputs": [],
   "source": [
    "select_housing_state = dcc_dropdown(housing_state,housing_state[0],'Home_Recession')\n",
    "#select_unemprate = dcc_dropdown(selectunemprate_unique,selectunemprate_unique[0],'rate')\n",
    "\n",
    "line_hpi_home_recess = dcc.Graph(id = 'figure_Line_hpi_recess')\n",
    "\n",
    "@app.callback(\n",
    "        Output(\"figure_Line_hpi_recess\", \"figure\"), \n",
    "        [Input(\"Home_Recession\", \"value\")]\n",
    ")\n",
    "def update_line_hpi_home_recess(selected_state):\n",
    "    return hpiline_graph_house(housing_hpi_recess,\n",
    "                selected_state,\n",
    "                'HPI',\n",
    "                'observation_date',\n",
    "                'Housing Values')"
   ]
  },
  {
   "cell_type": "markdown",
   "metadata": {},
   "source": [
    "Home recession Tab"
   ]
  },
  {
   "cell_type": "code",
   "execution_count": 41,
   "metadata": {},
   "outputs": [],
   "source": [
    "drop_down_6_tab = dbc.Card([\n",
    "    card(\"Home Dimention Analysis(recession)\"),\n",
    "    dbc.Row([\n",
    "           dbc.Col(dropdown(\"Select State\",dcc_dropdown(housing_state,housing_state[0],'Home_Recession')),width=5)\n",
    "                ]),\n",
    "    dbc.Row([\n",
    "           tab_graph(\"Home Top/Bottom Tire Prices by State\",line_home_recess),\n",
    "    ]),\n",
    "    dbc.Row([\n",
    "                dbc.Col(html.Div(tab_graph(\"House Price State (Recession)\",line_hpi_home_recess)),width=6),\n",
    "                dbc.Col(html.Div(tab_graph(\"Hosuing Permits by State (Recession)\",bar_home_recess)),width=6)\n",
    "    ])\n",
    "])"
   ]
  },
  {
   "cell_type": "code",
   "execution_count": 42,
   "metadata": {},
   "outputs": [
    {
     "name": "stderr",
     "output_type": "stream",
     "text": [
      "C:\\Users\\Karthi\\AppData\\Local\\Temp\\ipykernel_11596\\1430797336.py:13: SettingWithCopyWarning:\n",
      "\n",
      "\n",
      "A value is trying to be set on a copy of a slice from a DataFrame.\n",
      "Try using .loc[row_indexer,col_indexer] = value instead\n",
      "\n",
      "See the caveats in the documentation: https://pandas.pydata.org/pandas-docs/stable/user_guide/indexing.html#returning-a-view-versus-a-copy\n",
      "\n",
      "C:\\Users\\Karthi\\AppData\\Local\\Temp\\ipykernel_11596\\1430797336.py:14: SettingWithCopyWarning:\n",
      "\n",
      "\n",
      "A value is trying to be set on a copy of a slice from a DataFrame.\n",
      "Try using .loc[row_indexer,col_indexer] = value instead\n",
      "\n",
      "See the caveats in the documentation: https://pandas.pydata.org/pandas-docs/stable/user_guide/indexing.html#returning-a-view-versus-a-copy\n",
      "\n"
     ]
    },
    {
     "data": {
      "text/html": [
       "<div>\n",
       "<style scoped>\n",
       "    .dataframe tbody tr th:only-of-type {\n",
       "        vertical-align: middle;\n",
       "    }\n",
       "\n",
       "    .dataframe tbody tr th {\n",
       "        vertical-align: top;\n",
       "    }\n",
       "\n",
       "    .dataframe thead th {\n",
       "        text-align: right;\n",
       "    }\n",
       "</style>\n",
       "<table border=\"1\" class=\"dataframe\">\n",
       "  <thead>\n",
       "    <tr style=\"text-align: right;\">\n",
       "      <th></th>\n",
       "      <th>observation_date</th>\n",
       "      <th>State</th>\n",
       "      <th>Housing Types</th>\n",
       "      <th>House Values</th>\n",
       "      <th>Indicator</th>\n",
       "    </tr>\n",
       "  </thead>\n",
       "  <tbody>\n",
       "    <tr>\n",
       "      <th>1434</th>\n",
       "      <td>2019-01-31</td>\n",
       "      <td>Florida</td>\n",
       "      <td>Bottom Quantile House Price</td>\n",
       "      <td>1.402707e+05</td>\n",
       "      <td>Pre Covid</td>\n",
       "    </tr>\n",
       "    <tr>\n",
       "      <th>1435</th>\n",
       "      <td>2019-01-31</td>\n",
       "      <td>Florida</td>\n",
       "      <td>Top Quantile House Price</td>\n",
       "      <td>4.090990e+05</td>\n",
       "      <td>Pre Covid</td>\n",
       "    </tr>\n",
       "    <tr>\n",
       "      <th>2012</th>\n",
       "      <td>2019-01-31</td>\n",
       "      <td>New York</td>\n",
       "      <td>Bottom Quantile House Price</td>\n",
       "      <td>1.384782e+05</td>\n",
       "      <td>Pre Covid</td>\n",
       "    </tr>\n",
       "    <tr>\n",
       "      <th>279</th>\n",
       "      <td>2019-01-31</td>\n",
       "      <td>California</td>\n",
       "      <td>Top Quantile House Price</td>\n",
       "      <td>1.003007e+06</td>\n",
       "      <td>Pre Covid</td>\n",
       "    </tr>\n",
       "    <tr>\n",
       "      <th>278</th>\n",
       "      <td>2019-01-31</td>\n",
       "      <td>California</td>\n",
       "      <td>Bottom Quantile House Price</td>\n",
       "      <td>3.115810e+05</td>\n",
       "      <td>Pre Covid</td>\n",
       "    </tr>\n",
       "  </tbody>\n",
       "</table>\n",
       "</div>"
      ],
      "text/plain": [
       "     observation_date       State                Housing Types  House Values  \\\n",
       "1434       2019-01-31     Florida  Bottom Quantile House Price  1.402707e+05   \n",
       "1435       2019-01-31     Florida     Top Quantile House Price  4.090990e+05   \n",
       "2012       2019-01-31    New York  Bottom Quantile House Price  1.384782e+05   \n",
       "279        2019-01-31  California     Top Quantile House Price  1.003007e+06   \n",
       "278        2019-01-31  California  Bottom Quantile House Price  3.115810e+05   \n",
       "\n",
       "      Indicator  \n",
       "1434  Pre Covid  \n",
       "1435  Pre Covid  \n",
       "2012  Pre Covid  \n",
       "279   Pre Covid  \n",
       "278   Pre Covid  "
      ]
     },
     "execution_count": 42,
     "metadata": {},
     "output_type": "execute_result"
    }
   ],
   "source": [
    "housing_hpi_covid = housing_hpi[(housing_hpi['observation_date'] >= '2019') & (housing_hpi['observation_date'] <= '2022')]\n",
    "housing_tier_covid = housing_tier[(housing_tier['observation_date'] >= '2019') & (housing_tier['observation_date'] <= '2022')]\n",
    "def indicator(num):\n",
    "        if num.year <= 2019:\n",
    "            return \"Pre Covid\"\n",
    " \n",
    "        elif num.year >= 2019 and num.year < 2021:\n",
    "            return \"During Covid\"\n",
    " \n",
    "        else:\n",
    "            return \"Post Covid\"\n",
    "\n",
    "housing_hpi_covid['Indicator'] = housing_hpi_covid['observation_date'].apply(lambda date : indicator(date))\n",
    "housing_tier_covid['Indicator'] = housing_tier_covid['observation_date'].apply(lambda date : indicator(date))\n",
    "\n",
    "housing_hpi_covid.tail()\n",
    "housing_tier_covid.head()"
   ]
  },
  {
   "cell_type": "markdown",
   "metadata": {},
   "source": [
    "Covid Line Graph"
   ]
  },
  {
   "cell_type": "code",
   "execution_count": 43,
   "metadata": {},
   "outputs": [],
   "source": [
    "select_housing_state = dcc_dropdown(housing_state,housing_state[0],'Home_covid')\n",
    "#select_unemprate = dcc_dropdown(selectunemprate_unique,selectunemprate_unique[0],'rate')\n",
    "\n",
    "line_home_covid = dcc.Graph(id = 'figure_line_covid')\n",
    "\n",
    "@app.callback(\n",
    "        Output(\"figure_line_covid\", \"figure\"), \n",
    "        [Input(\"Home_covid\", \"value\")]\n",
    ")\n",
    "def update_line_home_covid(selected_state):\n",
    "    return line_graph_house(housing_tier_covid,\n",
    "                 selected_state,\n",
    "                 'Housing Types',\n",
    "                 'observation_date',\n",
    "                 'House Values')"
   ]
  },
  {
   "cell_type": "markdown",
   "metadata": {},
   "source": [
    "Covid bar graph"
   ]
  },
  {
   "cell_type": "code",
   "execution_count": 44,
   "metadata": {},
   "outputs": [],
   "source": [
    "select_housing_state = dcc_dropdown(housing_state,housing_state[0],'Home_covid')\n",
    "#select_unemprate = dcc_dropdown(selectunemprate_unique,selectunemprate_unique[0],'rate')\n",
    "\n",
    "bar_home_covid = dcc.Graph(id = 'figure_bar_covid')\n",
    "\n",
    "@app.callback(\n",
    "        Output(\"figure_bar_covid\", \"figure\"), \n",
    "        [Input(\"Home_covid\", \"value\")]\n",
    ")\n",
    "def update_bar_home_covid(selected_state):\n",
    "    return bar_graph_house(housing_hpi_covid,\n",
    "                selected_state,\n",
    "                'Housing Permits',\n",
    "                'observation_date',\n",
    "                'Housing Values')"
   ]
  },
  {
   "cell_type": "markdown",
   "metadata": {},
   "source": [
    "Covid HPI line Graph"
   ]
  },
  {
   "cell_type": "code",
   "execution_count": 45,
   "metadata": {},
   "outputs": [],
   "source": [
    "select_housing_state = dcc_dropdown(housing_state,housing_state[0],'Home_covid')\n",
    "#select_unemprate = dcc_dropdown(selectunemprate_unique,selectunemprate_unique[0],'rate')\n",
    "\n",
    "line_hpi_home_covid = dcc.Graph(id = 'figure_Line_hpi_covid')\n",
    "\n",
    "@app.callback(\n",
    "        Output(\"figure_Line_hpi_covid\", \"figure\"), \n",
    "        [Input(\"Home_covid\", \"value\")]\n",
    ")\n",
    "def update_line_hpi_home_covid(selected_state):\n",
    "    return hpiline_graph_house(housing_hpi_covid,\n",
    "                selected_state,\n",
    "                'HPI',\n",
    "                'observation_date',\n",
    "                'Housing Values')"
   ]
  },
  {
   "cell_type": "markdown",
   "metadata": {},
   "source": [
    "Home Covid tab"
   ]
  },
  {
   "cell_type": "code",
   "execution_count": 46,
   "metadata": {},
   "outputs": [],
   "source": [
    "drop_down_7_tab = dbc.Card([\n",
    "    card(\"Home Dimention Analysis(Covid)\"),\n",
    "    dbc.Row([\n",
    "           dbc.Col(dropdown(\"Select State\",dcc_dropdown(housing_state,housing_state[0],'Home_covid')),width=5)\n",
    "                ]),\n",
    "    dbc.Row([\n",
    "           tab_graph(\"Home Top/Bottom Tire Prices by State\",line_home_covid),\n",
    "    ]),\n",
    "    dbc.Row([\n",
    "                dbc.Col(html.Div(tab_graph(\"House Price State (Covid)\",line_hpi_home_covid)),width=6),\n",
    "                dbc.Col(html.Div(tab_graph(\"Hosuing Permits by State (Covid)\",bar_home_covid)),width=6)\n",
    "    ])\n",
    "])"
   ]
  },
  {
   "cell_type": "markdown",
   "metadata": {},
   "source": [
    "Tab Home Analysis"
   ]
  },
  {
   "cell_type": "code",
   "execution_count": 47,
   "metadata": {},
   "outputs": [],
   "source": [
    "def home_analy_line(df,select_home_type,cat,x,y):\n",
    "    df =df[df[cat] == select_home_type] \n",
    "    \n",
    "    anay_all = px.line(df,\n",
    "                  x = x,\n",
    "                  y = y,\n",
    "                  color = 'State',\n",
    "                  symbol = 'State',\n",
    "                  title=  'State-wise ' + select_home_type + ' Comparision'\n",
    "                  )\n",
    "    return anay_all"
   ]
  },
  {
   "cell_type": "code",
   "execution_count": 48,
   "metadata": {},
   "outputs": [
    {
     "data": {
      "application/vnd.plotly.v1+json": {
       "config": {
        "plotlyServerURL": "https://plot.ly"
       },
       "data": [
        {
         "hovertemplate": "State=Florida<br>observation_date=%{x}<br>House Values=%{y}<extra></extra>",
         "legendgroup": "Florida",
         "line": {
          "color": "#636efa",
          "dash": "solid"
         },
         "marker": {
          "symbol": "circle"
         },
         "mode": "lines+markers",
         "name": "Florida",
         "orientation": "v",
         "showlegend": true,
         "type": "scatter",
         "x": [
          "2004-01-31T00:00:00",
          "2004-02-29T00:00:00",
          "2004-03-31T00:00:00",
          "2004-04-30T00:00:00",
          "2004-05-31T00:00:00",
          "2004-06-30T00:00:00",
          "2004-07-31T00:00:00",
          "2004-08-31T00:00:00",
          "2004-09-30T00:00:00",
          "2004-10-31T00:00:00",
          "2004-11-30T00:00:00",
          "2004-12-31T00:00:00",
          "2005-01-31T00:00:00",
          "2005-02-28T00:00:00",
          "2005-03-31T00:00:00",
          "2005-04-30T00:00:00",
          "2005-05-31T00:00:00",
          "2005-06-30T00:00:00",
          "2005-07-31T00:00:00",
          "2005-08-31T00:00:00",
          "2005-09-30T00:00:00",
          "2005-10-31T00:00:00",
          "2005-11-30T00:00:00",
          "2005-12-31T00:00:00",
          "2006-01-31T00:00:00",
          "2006-02-28T00:00:00",
          "2006-03-31T00:00:00",
          "2006-04-30T00:00:00",
          "2006-05-31T00:00:00",
          "2006-06-30T00:00:00",
          "2006-07-31T00:00:00",
          "2006-08-31T00:00:00",
          "2006-09-30T00:00:00",
          "2006-10-31T00:00:00",
          "2006-11-30T00:00:00",
          "2006-12-31T00:00:00",
          "2007-01-31T00:00:00",
          "2007-02-28T00:00:00",
          "2007-03-31T00:00:00",
          "2007-04-30T00:00:00",
          "2007-05-31T00:00:00",
          "2007-06-30T00:00:00",
          "2007-07-31T00:00:00",
          "2007-08-31T00:00:00",
          "2007-09-30T00:00:00",
          "2007-10-31T00:00:00",
          "2007-11-30T00:00:00",
          "2007-12-31T00:00:00",
          "2008-01-31T00:00:00",
          "2008-02-29T00:00:00",
          "2008-03-31T00:00:00",
          "2008-04-30T00:00:00",
          "2008-05-31T00:00:00",
          "2008-06-30T00:00:00",
          "2008-07-31T00:00:00",
          "2008-08-31T00:00:00",
          "2008-09-30T00:00:00",
          "2008-10-31T00:00:00",
          "2008-11-30T00:00:00",
          "2008-12-31T00:00:00",
          "2009-01-31T00:00:00",
          "2009-02-28T00:00:00",
          "2009-03-31T00:00:00",
          "2009-04-30T00:00:00",
          "2009-05-31T00:00:00",
          "2009-06-30T00:00:00",
          "2009-07-31T00:00:00",
          "2009-08-31T00:00:00",
          "2009-09-30T00:00:00",
          "2009-10-31T00:00:00",
          "2009-11-30T00:00:00",
          "2009-12-31T00:00:00",
          "2010-01-31T00:00:00",
          "2010-02-28T00:00:00",
          "2010-03-31T00:00:00",
          "2010-04-30T00:00:00",
          "2010-05-31T00:00:00",
          "2010-06-30T00:00:00",
          "2010-07-31T00:00:00",
          "2010-08-31T00:00:00",
          "2010-09-30T00:00:00",
          "2010-10-31T00:00:00",
          "2010-11-30T00:00:00",
          "2010-12-31T00:00:00",
          "2011-01-31T00:00:00",
          "2011-02-28T00:00:00",
          "2011-03-31T00:00:00",
          "2011-04-30T00:00:00",
          "2011-05-31T00:00:00",
          "2011-06-30T00:00:00",
          "2011-07-31T00:00:00",
          "2011-08-31T00:00:00",
          "2011-09-30T00:00:00",
          "2011-10-31T00:00:00",
          "2011-11-30T00:00:00",
          "2011-12-31T00:00:00",
          "2012-01-31T00:00:00",
          "2012-02-29T00:00:00",
          "2012-03-31T00:00:00",
          "2012-04-30T00:00:00",
          "2012-05-31T00:00:00",
          "2012-06-30T00:00:00",
          "2012-07-31T00:00:00",
          "2012-08-31T00:00:00",
          "2012-09-30T00:00:00",
          "2012-10-31T00:00:00",
          "2012-11-30T00:00:00",
          "2012-12-31T00:00:00",
          "2013-01-31T00:00:00",
          "2013-02-28T00:00:00",
          "2013-03-31T00:00:00",
          "2013-04-30T00:00:00",
          "2013-05-31T00:00:00",
          "2013-06-30T00:00:00",
          "2013-07-31T00:00:00",
          "2013-08-31T00:00:00",
          "2013-09-30T00:00:00",
          "2013-10-31T00:00:00",
          "2013-11-30T00:00:00",
          "2013-12-31T00:00:00"
         ],
         "xaxis": "x",
         "y": [
          307123,
          309979.5348,
          313089.9068,
          316574.0154,
          320675.5034,
          325341.1692,
          330542.5046,
          336247.0839,
          342071,
          347680.3616,
          352949,
          358315.3666,
          363802.1226,
          369659,
          376152.6311,
          383728.7919,
          392164.048,
          401225.3324,
          410862.5867,
          420703.6536,
          430219.1485,
          438813.8685,
          446573,
          453731.3297,
          460411.9849,
          466614.0852,
          473070.7806,
          480242.191,
          487082.1693,
          492839.9095,
          496693.5126,
          499085.9163,
          499901.9332,
          499529.3687,
          498651.8251,
          497063.3301,
          495081.7069,
          492936.3214,
          490408.3694,
          487435.3286,
          483622.7442,
          479031.8979,
          473609.7776,
          467669.2476,
          461576.6777,
          455493.6103,
          449038.0115,
          442486.3373,
          435177.6107,
          427984.1152,
          420346.5747,
          413008.1388,
          405203.9145,
          397716.307,
          390183.5107,
          382481.2117,
          374643.3542,
          366680.6107,
          358898.6586,
          351495.1746,
          344553.7053,
          338425.2832,
          332640.2488,
          326986.4617,
          321585.6873,
          316620.7464,
          312445.6451,
          308568.8559,
          304967.976,
          301890.0363,
          299856.7524,
          298354.7966,
          297315.13,
          296470.3544,
          295991.6196,
          295569.8531,
          294892.6947,
          293717.197,
          292034.6443,
          289953.8922,
          287689.5812,
          285293.3364,
          282879.3744,
          280636.3513,
          278390.7766,
          276326.6737,
          274187.1047,
          272143.3611,
          270029.0295,
          268090.9027,
          266265.3011,
          264804.7898,
          263708.6572,
          263094.3263,
          262817.3343,
          262686.127,
          262804,
          263085.3764,
          263561.1507,
          264272.8753,
          265132.6386,
          266326.9279,
          267592.4973,
          268901.9164,
          270144.8841,
          271531.2168,
          273389.7228,
          275810.7902,
          278661.0466,
          281485,
          284220.7182,
          286929.9392,
          290044.6913,
          293251.7703,
          296321.4047,
          299167.8088,
          301963.1129,
          304804.6168,
          307321.1694,
          309933.8474
         ],
         "yaxis": "y"
        },
        {
         "hovertemplate": "State=New York<br>observation_date=%{x}<br>House Values=%{y}<extra></extra>",
         "legendgroup": "New York",
         "line": {
          "color": "#EF553B",
          "dash": "solid"
         },
         "marker": {
          "symbol": "diamond"
         },
         "mode": "lines+markers",
         "name": "New York",
         "orientation": "v",
         "showlegend": true,
         "type": "scatter",
         "x": [
          "2004-01-31T00:00:00",
          "2004-02-29T00:00:00",
          "2004-03-31T00:00:00",
          "2004-04-30T00:00:00",
          "2004-05-31T00:00:00",
          "2004-06-30T00:00:00",
          "2004-07-31T00:00:00",
          "2004-08-31T00:00:00",
          "2004-09-30T00:00:00",
          "2004-10-31T00:00:00",
          "2004-11-30T00:00:00",
          "2004-12-31T00:00:00",
          "2005-01-31T00:00:00",
          "2005-02-28T00:00:00",
          "2005-03-31T00:00:00",
          "2005-04-30T00:00:00",
          "2005-05-31T00:00:00",
          "2005-06-30T00:00:00",
          "2005-07-31T00:00:00",
          "2005-08-31T00:00:00",
          "2005-09-30T00:00:00",
          "2005-10-31T00:00:00",
          "2005-11-30T00:00:00",
          "2005-12-31T00:00:00",
          "2006-01-31T00:00:00",
          "2006-02-28T00:00:00",
          "2006-03-31T00:00:00",
          "2006-04-30T00:00:00",
          "2006-05-31T00:00:00",
          "2006-06-30T00:00:00",
          "2006-07-31T00:00:00",
          "2006-08-31T00:00:00",
          "2006-09-30T00:00:00",
          "2006-10-31T00:00:00",
          "2006-11-30T00:00:00",
          "2006-12-31T00:00:00",
          "2007-01-31T00:00:00",
          "2007-02-28T00:00:00",
          "2007-03-31T00:00:00",
          "2007-04-30T00:00:00",
          "2007-05-31T00:00:00",
          "2007-06-30T00:00:00",
          "2007-07-31T00:00:00",
          "2007-08-31T00:00:00",
          "2007-09-30T00:00:00",
          "2007-10-31T00:00:00",
          "2007-11-30T00:00:00",
          "2007-12-31T00:00:00",
          "2008-01-31T00:00:00",
          "2008-02-29T00:00:00",
          "2008-03-31T00:00:00",
          "2008-04-30T00:00:00",
          "2008-05-31T00:00:00",
          "2008-06-30T00:00:00",
          "2008-07-31T00:00:00",
          "2008-08-31T00:00:00",
          "2008-09-30T00:00:00",
          "2008-10-31T00:00:00",
          "2008-11-30T00:00:00",
          "2008-12-31T00:00:00",
          "2009-01-31T00:00:00",
          "2009-02-28T00:00:00",
          "2009-03-31T00:00:00",
          "2009-04-30T00:00:00",
          "2009-05-31T00:00:00",
          "2009-06-30T00:00:00",
          "2009-07-31T00:00:00",
          "2009-08-31T00:00:00",
          "2009-09-30T00:00:00",
          "2009-10-31T00:00:00",
          "2009-11-30T00:00:00",
          "2009-12-31T00:00:00",
          "2010-01-31T00:00:00",
          "2010-02-28T00:00:00",
          "2010-03-31T00:00:00",
          "2010-04-30T00:00:00",
          "2010-05-31T00:00:00",
          "2010-06-30T00:00:00",
          "2010-07-31T00:00:00",
          "2010-08-31T00:00:00",
          "2010-09-30T00:00:00",
          "2010-10-31T00:00:00",
          "2010-11-30T00:00:00",
          "2010-12-31T00:00:00",
          "2011-01-31T00:00:00",
          "2011-02-28T00:00:00",
          "2011-03-31T00:00:00",
          "2011-04-30T00:00:00",
          "2011-05-31T00:00:00",
          "2011-06-30T00:00:00",
          "2011-07-31T00:00:00",
          "2011-08-31T00:00:00",
          "2011-09-30T00:00:00",
          "2011-10-31T00:00:00",
          "2011-11-30T00:00:00",
          "2011-12-31T00:00:00",
          "2012-01-31T00:00:00",
          "2012-02-29T00:00:00",
          "2012-03-31T00:00:00",
          "2012-04-30T00:00:00",
          "2012-05-31T00:00:00",
          "2012-06-30T00:00:00",
          "2012-07-31T00:00:00",
          "2012-08-31T00:00:00",
          "2012-09-30T00:00:00",
          "2012-10-31T00:00:00",
          "2012-11-30T00:00:00",
          "2012-12-31T00:00:00",
          "2013-01-31T00:00:00",
          "2013-02-28T00:00:00",
          "2013-03-31T00:00:00",
          "2013-04-30T00:00:00",
          "2013-05-31T00:00:00",
          "2013-06-30T00:00:00",
          "2013-07-31T00:00:00",
          "2013-08-31T00:00:00",
          "2013-09-30T00:00:00",
          "2013-10-31T00:00:00",
          "2013-11-30T00:00:00",
          "2013-12-31T00:00:00"
         ],
         "xaxis": "x",
         "y": [
          505443.6632,
          509601,
          513365.8737,
          516786.3951,
          520682.1229,
          525408.9464,
          530951.8133,
          536872.8395,
          543132.4098,
          549306.9484,
          555250.1172,
          560785.7693,
          565986.6923,
          571133.7262,
          576159.9698,
          581571.3152,
          587327,
          593073.4292,
          598934.1963,
          605009,
          611385.7236,
          617920.1479,
          623637.9047,
          629527.329,
          634929.7595,
          640204.3211,
          644242.0997,
          647334.9001,
          650129.662,
          653042.199,
          655574.9598,
          657510.1051,
          658134.0389,
          657851.6598,
          656710.6279,
          655538.0792,
          654477.7701,
          653548,
          653653,
          653230.0829,
          653276.058,
          652268.4135,
          651404.2174,
          650663.1783,
          649690.0381,
          649504.098,
          649271.2,
          648998.071,
          648636.2215,
          647687,
          646495.5106,
          645163.4021,
          643143.1153,
          640890.2748,
          637898.803,
          634964.8297,
          631784.8369,
          628129.8306,
          624102.8589,
          620017.6234,
          615568.7837,
          611288.8132,
          607414.384,
          604146.3123,
          601490.7819,
          598597.6872,
          595647.3253,
          592196.3653,
          589297.6013,
          586885.8194,
          585376.9608,
          584135,
          583392.808,
          583121.4875,
          582960,
          583502.8221,
          584019.3277,
          585438.5583,
          586656.9362,
          587294.6251,
          586911.5735,
          585524.231,
          583685.7038,
          581391.553,
          579576.0736,
          578160.5074,
          577587.0061,
          576801.1702,
          575950,
          574503.5167,
          573145.7401,
          571758.9849,
          570380.1227,
          568850.902,
          567174.3814,
          565710,
          564233.5531,
          563376.4114,
          563223.4973,
          563924.1422,
          565449.121,
          566920.8052,
          568521.702,
          569291.7118,
          570166.3895,
          570209.7833,
          570324.8158,
          570018.9552,
          570642.3256,
          571647.3592,
          573031.9452,
          574200.2592,
          575757.0814,
          578428.3315,
          581636.2093,
          584995.4322,
          588228.2856,
          591766.7755,
          595130.3348,
          597452.9352
         ],
         "yaxis": "y"
        },
        {
         "hovertemplate": "State=Texas<br>observation_date=%{x}<br>House Values=%{y}<extra></extra>",
         "legendgroup": "Texas",
         "line": {
          "color": "#00cc96",
          "dash": "solid"
         },
         "marker": {
          "symbol": "square"
         },
         "mode": "lines+markers",
         "name": "Texas",
         "orientation": "v",
         "showlegend": true,
         "type": "scatter",
         "x": [
          "2004-01-31T00:00:00",
          "2004-02-29T00:00:00",
          "2004-03-31T00:00:00",
          "2004-04-30T00:00:00",
          "2004-05-31T00:00:00",
          "2004-06-30T00:00:00",
          "2004-07-31T00:00:00",
          "2004-08-31T00:00:00",
          "2004-09-30T00:00:00",
          "2004-10-31T00:00:00",
          "2004-11-30T00:00:00",
          "2004-12-31T00:00:00",
          "2005-01-31T00:00:00",
          "2005-02-28T00:00:00",
          "2005-03-31T00:00:00",
          "2005-04-30T00:00:00",
          "2005-05-31T00:00:00",
          "2005-06-30T00:00:00",
          "2005-07-31T00:00:00",
          "2005-08-31T00:00:00",
          "2005-09-30T00:00:00",
          "2005-10-31T00:00:00",
          "2005-11-30T00:00:00",
          "2005-12-31T00:00:00",
          "2006-01-31T00:00:00",
          "2006-02-28T00:00:00",
          "2006-03-31T00:00:00",
          "2006-04-30T00:00:00",
          "2006-05-31T00:00:00",
          "2006-06-30T00:00:00",
          "2006-07-31T00:00:00",
          "2006-08-31T00:00:00",
          "2006-09-30T00:00:00",
          "2006-10-31T00:00:00",
          "2006-11-30T00:00:00",
          "2006-12-31T00:00:00",
          "2007-01-31T00:00:00",
          "2007-02-28T00:00:00",
          "2007-03-31T00:00:00",
          "2007-04-30T00:00:00",
          "2007-05-31T00:00:00",
          "2007-06-30T00:00:00",
          "2007-07-31T00:00:00",
          "2007-08-31T00:00:00",
          "2007-09-30T00:00:00",
          "2007-10-31T00:00:00",
          "2007-11-30T00:00:00",
          "2007-12-31T00:00:00",
          "2008-01-31T00:00:00",
          "2008-02-29T00:00:00",
          "2008-03-31T00:00:00",
          "2008-04-30T00:00:00",
          "2008-05-31T00:00:00",
          "2008-06-30T00:00:00",
          "2008-07-31T00:00:00",
          "2008-08-31T00:00:00",
          "2008-09-30T00:00:00",
          "2008-10-31T00:00:00",
          "2008-11-30T00:00:00",
          "2008-12-31T00:00:00",
          "2009-01-31T00:00:00",
          "2009-02-28T00:00:00",
          "2009-03-31T00:00:00",
          "2009-04-30T00:00:00",
          "2009-05-31T00:00:00",
          "2009-06-30T00:00:00",
          "2009-07-31T00:00:00",
          "2009-08-31T00:00:00",
          "2009-09-30T00:00:00",
          "2009-10-31T00:00:00",
          "2009-11-30T00:00:00",
          "2009-12-31T00:00:00",
          "2010-01-31T00:00:00",
          "2010-02-28T00:00:00",
          "2010-03-31T00:00:00",
          "2010-04-30T00:00:00",
          "2010-05-31T00:00:00",
          "2010-06-30T00:00:00",
          "2010-07-31T00:00:00",
          "2010-08-31T00:00:00",
          "2010-09-30T00:00:00",
          "2010-10-31T00:00:00",
          "2010-11-30T00:00:00",
          "2010-12-31T00:00:00",
          "2011-01-31T00:00:00",
          "2011-02-28T00:00:00",
          "2011-03-31T00:00:00",
          "2011-04-30T00:00:00",
          "2011-05-31T00:00:00",
          "2011-06-30T00:00:00",
          "2011-07-31T00:00:00",
          "2011-08-31T00:00:00",
          "2011-09-30T00:00:00",
          "2011-10-31T00:00:00",
          "2011-11-30T00:00:00",
          "2011-12-31T00:00:00",
          "2012-01-31T00:00:00",
          "2012-02-29T00:00:00",
          "2012-03-31T00:00:00",
          "2012-04-30T00:00:00",
          "2012-05-31T00:00:00",
          "2012-06-30T00:00:00",
          "2012-07-31T00:00:00",
          "2012-08-31T00:00:00",
          "2012-09-30T00:00:00",
          "2012-10-31T00:00:00",
          "2012-11-30T00:00:00",
          "2012-12-31T00:00:00",
          "2013-01-31T00:00:00",
          "2013-02-28T00:00:00",
          "2013-03-31T00:00:00",
          "2013-04-30T00:00:00",
          "2013-05-31T00:00:00",
          "2013-06-30T00:00:00",
          "2013-07-31T00:00:00",
          "2013-08-31T00:00:00",
          "2013-09-30T00:00:00",
          "2013-10-31T00:00:00",
          "2013-11-30T00:00:00",
          "2013-12-31T00:00:00"
         ],
         "xaxis": "x",
         "y": [
          225551.3894,
          226908.1695,
          229088.6794,
          231263.9515,
          233048,
          234195.5007,
          235298.4437,
          236329.3849,
          237508.5681,
          238567.3757,
          239466,
          240217.9552,
          241031.1484,
          241747.9394,
          242390.3938,
          242962.3165,
          243614.3827,
          244345.8615,
          245046.2348,
          245710.6141,
          246381.9575,
          246918.1118,
          247510.9042,
          247991.4158,
          248375.2168,
          248738.179,
          249165.2296,
          249862.2968,
          250827.5057,
          251896.4443,
          252977.9836,
          253961.7821,
          255000.0279,
          256234.223,
          257391.8962,
          258529.8766,
          259098.5497,
          259250.0829,
          259100.3959,
          259354.498,
          259939.6612,
          260737.3401,
          261447.4359,
          262192.458,
          262927.3987,
          263598.9963,
          264166.2888,
          264712.9411,
          264440.209,
          263736.8802,
          262748.5018,
          262291.8699,
          262047.7019,
          261830.209,
          261684.288,
          261176.2498,
          260394.8435,
          259409.3142,
          258415.5007,
          257499.9238,
          256669.4222,
          256228.9131,
          256044.2457,
          256001.1788,
          255996.7396,
          255936.2046,
          255923.6226,
          255617.7535,
          255197.1081,
          254655.1105,
          254651.925,
          254831.9899,
          254931.3922,
          254903.9106,
          254965.159,
          255315,
          255693,
          255796.2316,
          255389.6294,
          254561.1835,
          253559.2912,
          252549.112,
          251508.0815,
          250634,
          249942.2464,
          249271.0502,
          248636.9263,
          248054.757,
          247643.3653,
          247253.2171,
          247100.7201,
          246992.531,
          246945.9976,
          246745.3763,
          246438.345,
          246089.8031,
          246014.4583,
          246417.083,
          247113.4672,
          247836.3447,
          248553.5025,
          249439.054,
          250430.4488,
          251447.6234,
          252344.1395,
          253170.7701,
          254087.2861,
          255086.8047,
          256491.5162,
          258044.242,
          259591.3509,
          260946.1345,
          262426.5249,
          264396.1325,
          266340.3996,
          268263.7765,
          269949.5697,
          271769.586,
          273310.3881,
          274751.7901
         ],
         "yaxis": "y"
        },
        {
         "hovertemplate": "State=California<br>observation_date=%{x}<br>House Values=%{y}<extra></extra>",
         "legendgroup": "California",
         "line": {
          "color": "#ab63fa",
          "dash": "solid"
         },
         "marker": {
          "symbol": "x"
         },
         "mode": "lines+markers",
         "name": "California",
         "orientation": "v",
         "showlegend": true,
         "type": "scatter",
         "x": [
          "2004-01-31T00:00:00",
          "2004-02-29T00:00:00",
          "2004-03-31T00:00:00",
          "2004-04-30T00:00:00",
          "2004-05-31T00:00:00",
          "2004-06-30T00:00:00",
          "2004-07-31T00:00:00",
          "2004-08-31T00:00:00",
          "2004-09-30T00:00:00",
          "2004-10-31T00:00:00",
          "2004-11-30T00:00:00",
          "2004-12-31T00:00:00",
          "2005-01-31T00:00:00",
          "2005-02-28T00:00:00",
          "2005-03-31T00:00:00",
          "2005-04-30T00:00:00",
          "2005-05-31T00:00:00",
          "2005-06-30T00:00:00",
          "2005-07-31T00:00:00",
          "2005-08-31T00:00:00",
          "2005-09-30T00:00:00",
          "2005-10-31T00:00:00",
          "2005-11-30T00:00:00",
          "2005-12-31T00:00:00",
          "2006-01-31T00:00:00",
          "2006-02-28T00:00:00",
          "2006-03-31T00:00:00",
          "2006-04-30T00:00:00",
          "2006-05-31T00:00:00",
          "2006-06-30T00:00:00",
          "2006-07-31T00:00:00",
          "2006-08-31T00:00:00",
          "2006-09-30T00:00:00",
          "2006-10-31T00:00:00",
          "2006-11-30T00:00:00",
          "2006-12-31T00:00:00",
          "2007-01-31T00:00:00",
          "2007-02-28T00:00:00",
          "2007-03-31T00:00:00",
          "2007-04-30T00:00:00",
          "2007-05-31T00:00:00",
          "2007-06-30T00:00:00",
          "2007-07-31T00:00:00",
          "2007-08-31T00:00:00",
          "2007-09-30T00:00:00",
          "2007-10-31T00:00:00",
          "2007-11-30T00:00:00",
          "2007-12-31T00:00:00",
          "2008-01-31T00:00:00",
          "2008-02-29T00:00:00",
          "2008-03-31T00:00:00",
          "2008-04-30T00:00:00",
          "2008-05-31T00:00:00",
          "2008-06-30T00:00:00",
          "2008-07-31T00:00:00",
          "2008-08-31T00:00:00",
          "2008-09-30T00:00:00",
          "2008-10-31T00:00:00",
          "2008-11-30T00:00:00",
          "2008-12-31T00:00:00",
          "2009-01-31T00:00:00",
          "2009-02-28T00:00:00",
          "2009-03-31T00:00:00",
          "2009-04-30T00:00:00",
          "2009-05-31T00:00:00",
          "2009-06-30T00:00:00",
          "2009-07-31T00:00:00",
          "2009-08-31T00:00:00",
          "2009-09-30T00:00:00",
          "2009-10-31T00:00:00",
          "2009-11-30T00:00:00",
          "2009-12-31T00:00:00",
          "2010-01-31T00:00:00",
          "2010-02-28T00:00:00",
          "2010-03-31T00:00:00",
          "2010-04-30T00:00:00",
          "2010-05-31T00:00:00",
          "2010-06-30T00:00:00",
          "2010-07-31T00:00:00",
          "2010-08-31T00:00:00",
          "2010-09-30T00:00:00",
          "2010-10-31T00:00:00",
          "2010-11-30T00:00:00",
          "2010-12-31T00:00:00",
          "2011-01-31T00:00:00",
          "2011-02-28T00:00:00",
          "2011-03-31T00:00:00",
          "2011-04-30T00:00:00",
          "2011-05-31T00:00:00",
          "2011-06-30T00:00:00",
          "2011-07-31T00:00:00",
          "2011-08-31T00:00:00",
          "2011-09-30T00:00:00",
          "2011-10-31T00:00:00",
          "2011-11-30T00:00:00",
          "2011-12-31T00:00:00",
          "2012-01-31T00:00:00",
          "2012-02-29T00:00:00",
          "2012-03-31T00:00:00",
          "2012-04-30T00:00:00",
          "2012-05-31T00:00:00",
          "2012-06-30T00:00:00",
          "2012-07-31T00:00:00",
          "2012-08-31T00:00:00",
          "2012-09-30T00:00:00",
          "2012-10-31T00:00:00",
          "2012-11-30T00:00:00",
          "2012-12-31T00:00:00",
          "2013-01-31T00:00:00",
          "2013-02-28T00:00:00",
          "2013-03-31T00:00:00",
          "2013-04-30T00:00:00",
          "2013-05-31T00:00:00",
          "2013-06-30T00:00:00",
          "2013-07-31T00:00:00",
          "2013-08-31T00:00:00",
          "2013-09-30T00:00:00",
          "2013-10-31T00:00:00",
          "2013-11-30T00:00:00",
          "2013-12-31T00:00:00"
         ],
         "xaxis": "x",
         "y": [
          615833.404,
          624596.3622,
          634729.5159,
          646230.8688,
          659417.2173,
          673897.2965,
          688376.7248,
          701748.8313,
          714039,
          725798.2926,
          736306.1018,
          746804.0759,
          756478.2358,
          766934.073,
          778121.8647,
          790392.3172,
          802449.2669,
          813222.4648,
          823549.7625,
          833891.4498,
          844328.5933,
          854404.9009,
          862396.0139,
          869457.7438,
          875255.2834,
          880423.1627,
          885051.4242,
          889127.9825,
          893008.4132,
          895546.9865,
          896044.8968,
          895479.5297,
          893313.0912,
          890934.6508,
          888423.4401,
          886277.1489,
          884549.4864,
          882616.5949,
          880014.9909,
          876610,
          871470.5982,
          865585.6346,
          858268.2904,
          850833,
          842445.3203,
          833621.4914,
          824803.3135,
          815027.4456,
          804977.0463,
          793018.9176,
          779361.3342,
          764226.5775,
          748658,
          733807,
          718959.2692,
          704704.391,
          691311.0809,
          679193.1814,
          666625.4405,
          654568.3785,
          642781.0352,
          634387,
          627016.2571,
          620448,
          614291.5908,
          609085.4923,
          605271.6489,
          601429.157,
          598304,
          596959.6823,
          599305.5367,
          603722.1745,
          607854,
          609666.4252,
          611836.1005,
          614312.3169,
          616796,
          616215,
          613364.8343,
          609403.9511,
          605252.7611,
          600959.6888,
          596725.7839,
          593570,
          591253.7162,
          589169,
          586583,
          583776.865,
          579355.1759,
          575858.9277,
          572890.3869,
          569570.5423,
          565350.2871,
          560828.8834,
          558815.6059,
          557671.1985,
          557018.0366,
          555952,
          554884.4558,
          554433.2521,
          555406.5672,
          557881.2472,
          561480.7383,
          567278.2467,
          574721.1472,
          583651.7763,
          592903.9724,
          602318.2724,
          610910,
          617659,
          622982.6674,
          629132.7935,
          637903.3482,
          648739.4447,
          659367.5238,
          669188.0149,
          678891.3845,
          688980.1374,
          698084.4476,
          706120.7209
         ],
         "yaxis": "y"
        }
       ],
       "layout": {
        "legend": {
         "title": {
          "text": "State"
         },
         "tracegroupgap": 0
        },
        "template": {
         "data": {
          "bar": [
           {
            "error_x": {
             "color": "#2a3f5f"
            },
            "error_y": {
             "color": "#2a3f5f"
            },
            "marker": {
             "line": {
              "color": "#E5ECF6",
              "width": 0.5
             },
             "pattern": {
              "fillmode": "overlay",
              "size": 10,
              "solidity": 0.2
             }
            },
            "type": "bar"
           }
          ],
          "barpolar": [
           {
            "marker": {
             "line": {
              "color": "#E5ECF6",
              "width": 0.5
             },
             "pattern": {
              "fillmode": "overlay",
              "size": 10,
              "solidity": 0.2
             }
            },
            "type": "barpolar"
           }
          ],
          "carpet": [
           {
            "aaxis": {
             "endlinecolor": "#2a3f5f",
             "gridcolor": "white",
             "linecolor": "white",
             "minorgridcolor": "white",
             "startlinecolor": "#2a3f5f"
            },
            "baxis": {
             "endlinecolor": "#2a3f5f",
             "gridcolor": "white",
             "linecolor": "white",
             "minorgridcolor": "white",
             "startlinecolor": "#2a3f5f"
            },
            "type": "carpet"
           }
          ],
          "choropleth": [
           {
            "colorbar": {
             "outlinewidth": 0,
             "ticks": ""
            },
            "type": "choropleth"
           }
          ],
          "contour": [
           {
            "colorbar": {
             "outlinewidth": 0,
             "ticks": ""
            },
            "colorscale": [
             [
              0,
              "#0d0887"
             ],
             [
              0.1111111111111111,
              "#46039f"
             ],
             [
              0.2222222222222222,
              "#7201a8"
             ],
             [
              0.3333333333333333,
              "#9c179e"
             ],
             [
              0.4444444444444444,
              "#bd3786"
             ],
             [
              0.5555555555555556,
              "#d8576b"
             ],
             [
              0.6666666666666666,
              "#ed7953"
             ],
             [
              0.7777777777777778,
              "#fb9f3a"
             ],
             [
              0.8888888888888888,
              "#fdca26"
             ],
             [
              1,
              "#f0f921"
             ]
            ],
            "type": "contour"
           }
          ],
          "contourcarpet": [
           {
            "colorbar": {
             "outlinewidth": 0,
             "ticks": ""
            },
            "type": "contourcarpet"
           }
          ],
          "heatmap": [
           {
            "colorbar": {
             "outlinewidth": 0,
             "ticks": ""
            },
            "colorscale": [
             [
              0,
              "#0d0887"
             ],
             [
              0.1111111111111111,
              "#46039f"
             ],
             [
              0.2222222222222222,
              "#7201a8"
             ],
             [
              0.3333333333333333,
              "#9c179e"
             ],
             [
              0.4444444444444444,
              "#bd3786"
             ],
             [
              0.5555555555555556,
              "#d8576b"
             ],
             [
              0.6666666666666666,
              "#ed7953"
             ],
             [
              0.7777777777777778,
              "#fb9f3a"
             ],
             [
              0.8888888888888888,
              "#fdca26"
             ],
             [
              1,
              "#f0f921"
             ]
            ],
            "type": "heatmap"
           }
          ],
          "heatmapgl": [
           {
            "colorbar": {
             "outlinewidth": 0,
             "ticks": ""
            },
            "colorscale": [
             [
              0,
              "#0d0887"
             ],
             [
              0.1111111111111111,
              "#46039f"
             ],
             [
              0.2222222222222222,
              "#7201a8"
             ],
             [
              0.3333333333333333,
              "#9c179e"
             ],
             [
              0.4444444444444444,
              "#bd3786"
             ],
             [
              0.5555555555555556,
              "#d8576b"
             ],
             [
              0.6666666666666666,
              "#ed7953"
             ],
             [
              0.7777777777777778,
              "#fb9f3a"
             ],
             [
              0.8888888888888888,
              "#fdca26"
             ],
             [
              1,
              "#f0f921"
             ]
            ],
            "type": "heatmapgl"
           }
          ],
          "histogram": [
           {
            "marker": {
             "pattern": {
              "fillmode": "overlay",
              "size": 10,
              "solidity": 0.2
             }
            },
            "type": "histogram"
           }
          ],
          "histogram2d": [
           {
            "colorbar": {
             "outlinewidth": 0,
             "ticks": ""
            },
            "colorscale": [
             [
              0,
              "#0d0887"
             ],
             [
              0.1111111111111111,
              "#46039f"
             ],
             [
              0.2222222222222222,
              "#7201a8"
             ],
             [
              0.3333333333333333,
              "#9c179e"
             ],
             [
              0.4444444444444444,
              "#bd3786"
             ],
             [
              0.5555555555555556,
              "#d8576b"
             ],
             [
              0.6666666666666666,
              "#ed7953"
             ],
             [
              0.7777777777777778,
              "#fb9f3a"
             ],
             [
              0.8888888888888888,
              "#fdca26"
             ],
             [
              1,
              "#f0f921"
             ]
            ],
            "type": "histogram2d"
           }
          ],
          "histogram2dcontour": [
           {
            "colorbar": {
             "outlinewidth": 0,
             "ticks": ""
            },
            "colorscale": [
             [
              0,
              "#0d0887"
             ],
             [
              0.1111111111111111,
              "#46039f"
             ],
             [
              0.2222222222222222,
              "#7201a8"
             ],
             [
              0.3333333333333333,
              "#9c179e"
             ],
             [
              0.4444444444444444,
              "#bd3786"
             ],
             [
              0.5555555555555556,
              "#d8576b"
             ],
             [
              0.6666666666666666,
              "#ed7953"
             ],
             [
              0.7777777777777778,
              "#fb9f3a"
             ],
             [
              0.8888888888888888,
              "#fdca26"
             ],
             [
              1,
              "#f0f921"
             ]
            ],
            "type": "histogram2dcontour"
           }
          ],
          "mesh3d": [
           {
            "colorbar": {
             "outlinewidth": 0,
             "ticks": ""
            },
            "type": "mesh3d"
           }
          ],
          "parcoords": [
           {
            "line": {
             "colorbar": {
              "outlinewidth": 0,
              "ticks": ""
             }
            },
            "type": "parcoords"
           }
          ],
          "pie": [
           {
            "automargin": true,
            "type": "pie"
           }
          ],
          "scatter": [
           {
            "fillpattern": {
             "fillmode": "overlay",
             "size": 10,
             "solidity": 0.2
            },
            "type": "scatter"
           }
          ],
          "scatter3d": [
           {
            "line": {
             "colorbar": {
              "outlinewidth": 0,
              "ticks": ""
             }
            },
            "marker": {
             "colorbar": {
              "outlinewidth": 0,
              "ticks": ""
             }
            },
            "type": "scatter3d"
           }
          ],
          "scattercarpet": [
           {
            "marker": {
             "colorbar": {
              "outlinewidth": 0,
              "ticks": ""
             }
            },
            "type": "scattercarpet"
           }
          ],
          "scattergeo": [
           {
            "marker": {
             "colorbar": {
              "outlinewidth": 0,
              "ticks": ""
             }
            },
            "type": "scattergeo"
           }
          ],
          "scattergl": [
           {
            "marker": {
             "colorbar": {
              "outlinewidth": 0,
              "ticks": ""
             }
            },
            "type": "scattergl"
           }
          ],
          "scattermapbox": [
           {
            "marker": {
             "colorbar": {
              "outlinewidth": 0,
              "ticks": ""
             }
            },
            "type": "scattermapbox"
           }
          ],
          "scatterpolar": [
           {
            "marker": {
             "colorbar": {
              "outlinewidth": 0,
              "ticks": ""
             }
            },
            "type": "scatterpolar"
           }
          ],
          "scatterpolargl": [
           {
            "marker": {
             "colorbar": {
              "outlinewidth": 0,
              "ticks": ""
             }
            },
            "type": "scatterpolargl"
           }
          ],
          "scatterternary": [
           {
            "marker": {
             "colorbar": {
              "outlinewidth": 0,
              "ticks": ""
             }
            },
            "type": "scatterternary"
           }
          ],
          "surface": [
           {
            "colorbar": {
             "outlinewidth": 0,
             "ticks": ""
            },
            "colorscale": [
             [
              0,
              "#0d0887"
             ],
             [
              0.1111111111111111,
              "#46039f"
             ],
             [
              0.2222222222222222,
              "#7201a8"
             ],
             [
              0.3333333333333333,
              "#9c179e"
             ],
             [
              0.4444444444444444,
              "#bd3786"
             ],
             [
              0.5555555555555556,
              "#d8576b"
             ],
             [
              0.6666666666666666,
              "#ed7953"
             ],
             [
              0.7777777777777778,
              "#fb9f3a"
             ],
             [
              0.8888888888888888,
              "#fdca26"
             ],
             [
              1,
              "#f0f921"
             ]
            ],
            "type": "surface"
           }
          ],
          "table": [
           {
            "cells": {
             "fill": {
              "color": "#EBF0F8"
             },
             "line": {
              "color": "white"
             }
            },
            "header": {
             "fill": {
              "color": "#C8D4E3"
             },
             "line": {
              "color": "white"
             }
            },
            "type": "table"
           }
          ]
         },
         "layout": {
          "annotationdefaults": {
           "arrowcolor": "#2a3f5f",
           "arrowhead": 0,
           "arrowwidth": 1
          },
          "autotypenumbers": "strict",
          "coloraxis": {
           "colorbar": {
            "outlinewidth": 0,
            "ticks": ""
           }
          },
          "colorscale": {
           "diverging": [
            [
             0,
             "#8e0152"
            ],
            [
             0.1,
             "#c51b7d"
            ],
            [
             0.2,
             "#de77ae"
            ],
            [
             0.3,
             "#f1b6da"
            ],
            [
             0.4,
             "#fde0ef"
            ],
            [
             0.5,
             "#f7f7f7"
            ],
            [
             0.6,
             "#e6f5d0"
            ],
            [
             0.7,
             "#b8e186"
            ],
            [
             0.8,
             "#7fbc41"
            ],
            [
             0.9,
             "#4d9221"
            ],
            [
             1,
             "#276419"
            ]
           ],
           "sequential": [
            [
             0,
             "#0d0887"
            ],
            [
             0.1111111111111111,
             "#46039f"
            ],
            [
             0.2222222222222222,
             "#7201a8"
            ],
            [
             0.3333333333333333,
             "#9c179e"
            ],
            [
             0.4444444444444444,
             "#bd3786"
            ],
            [
             0.5555555555555556,
             "#d8576b"
            ],
            [
             0.6666666666666666,
             "#ed7953"
            ],
            [
             0.7777777777777778,
             "#fb9f3a"
            ],
            [
             0.8888888888888888,
             "#fdca26"
            ],
            [
             1,
             "#f0f921"
            ]
           ],
           "sequentialminus": [
            [
             0,
             "#0d0887"
            ],
            [
             0.1111111111111111,
             "#46039f"
            ],
            [
             0.2222222222222222,
             "#7201a8"
            ],
            [
             0.3333333333333333,
             "#9c179e"
            ],
            [
             0.4444444444444444,
             "#bd3786"
            ],
            [
             0.5555555555555556,
             "#d8576b"
            ],
            [
             0.6666666666666666,
             "#ed7953"
            ],
            [
             0.7777777777777778,
             "#fb9f3a"
            ],
            [
             0.8888888888888888,
             "#fdca26"
            ],
            [
             1,
             "#f0f921"
            ]
           ]
          },
          "colorway": [
           "#636efa",
           "#EF553B",
           "#00cc96",
           "#ab63fa",
           "#FFA15A",
           "#19d3f3",
           "#FF6692",
           "#B6E880",
           "#FF97FF",
           "#FECB52"
          ],
          "font": {
           "color": "#2a3f5f"
          },
          "geo": {
           "bgcolor": "white",
           "lakecolor": "white",
           "landcolor": "#E5ECF6",
           "showlakes": true,
           "showland": true,
           "subunitcolor": "white"
          },
          "hoverlabel": {
           "align": "left"
          },
          "hovermode": "closest",
          "mapbox": {
           "style": "light"
          },
          "paper_bgcolor": "white",
          "plot_bgcolor": "#E5ECF6",
          "polar": {
           "angularaxis": {
            "gridcolor": "white",
            "linecolor": "white",
            "ticks": ""
           },
           "bgcolor": "#E5ECF6",
           "radialaxis": {
            "gridcolor": "white",
            "linecolor": "white",
            "ticks": ""
           }
          },
          "scene": {
           "xaxis": {
            "backgroundcolor": "#E5ECF6",
            "gridcolor": "white",
            "gridwidth": 2,
            "linecolor": "white",
            "showbackground": true,
            "ticks": "",
            "zerolinecolor": "white"
           },
           "yaxis": {
            "backgroundcolor": "#E5ECF6",
            "gridcolor": "white",
            "gridwidth": 2,
            "linecolor": "white",
            "showbackground": true,
            "ticks": "",
            "zerolinecolor": "white"
           },
           "zaxis": {
            "backgroundcolor": "#E5ECF6",
            "gridcolor": "white",
            "gridwidth": 2,
            "linecolor": "white",
            "showbackground": true,
            "ticks": "",
            "zerolinecolor": "white"
           }
          },
          "shapedefaults": {
           "line": {
            "color": "#2a3f5f"
           }
          },
          "ternary": {
           "aaxis": {
            "gridcolor": "white",
            "linecolor": "white",
            "ticks": ""
           },
           "baxis": {
            "gridcolor": "white",
            "linecolor": "white",
            "ticks": ""
           },
           "bgcolor": "#E5ECF6",
           "caxis": {
            "gridcolor": "white",
            "linecolor": "white",
            "ticks": ""
           }
          },
          "title": {
           "x": 0.05
          },
          "xaxis": {
           "automargin": true,
           "gridcolor": "white",
           "linecolor": "white",
           "ticks": "",
           "title": {
            "standoff": 15
           },
           "zerolinecolor": "white",
           "zerolinewidth": 2
          },
          "yaxis": {
           "automargin": true,
           "gridcolor": "white",
           "linecolor": "white",
           "ticks": "",
           "title": {
            "standoff": 15
           },
           "zerolinecolor": "white",
           "zerolinewidth": 2
          }
         }
        },
        "title": {
         "text": "State-wise Top Quantile House Price Comparision"
        },
        "xaxis": {
         "anchor": "y",
         "domain": [
          0,
          1
         ],
         "title": {
          "text": "observation_date"
         }
        },
        "yaxis": {
         "anchor": "x",
         "domain": [
          0,
          1
         ],
         "title": {
          "text": "House Values"
         }
        }
       }
      }
     },
     "metadata": {},
     "output_type": "display_data"
    }
   ],
   "source": [
    "home_analy_line(housing_tier_recess,'Top Quantile House Price','Housing Types','observation_date','House Values')\n",
    "#housing_tier_recess['Housing Types'].unique()"
   ]
  },
  {
   "cell_type": "code",
   "execution_count": 49,
   "metadata": {},
   "outputs": [],
   "source": [
    "def home_analy_box(df,year1,year2,select_cat):\n",
    "     df = df[(df['observation_date'] >= year1) & (df['observation_date'] <= year2)]\n",
    "     df = df[df['Housing']== select_cat]\n",
    "     analy_box = px.box(df,\n",
    "                  x = 'State',\n",
    "                  y = 'Housing Values',\n",
    "                  color = 'State',\n",
    "                  notched= True,\n",
    "                  title=  'State-wise ' + select_cat + '('+ year1 +'-'+ year2+')'\n",
    "                  )\n",
    "     return analy_box"
   ]
  },
  {
   "cell_type": "code",
   "execution_count": 50,
   "metadata": {},
   "outputs": [
    {
     "data": {
      "application/vnd.plotly.v1+json": {
       "config": {
        "plotlyServerURL": "https://plot.ly"
       },
       "data": [
        {
         "alignmentgroup": "True",
         "hovertemplate": "State=%{x}<br>Housing Values=%{y}<extra></extra>",
         "legendgroup": "New York",
         "marker": {
          "color": "#636efa"
         },
         "name": "New York",
         "notched": true,
         "offsetgroup": "New York",
         "orientation": "v",
         "showlegend": true,
         "type": "box",
         "x": [
          "New York",
          "New York",
          "New York",
          "New York",
          "New York"
         ],
         "x0": " ",
         "xaxis": "x",
         "y": [
          4991,
          1077,
          3775,
          3375,
          3951
         ],
         "y0": " ",
         "yaxis": "y"
        },
        {
         "alignmentgroup": "True",
         "hovertemplate": "State=%{x}<br>Housing Values=%{y}<extra></extra>",
         "legendgroup": "Texas",
         "marker": {
          "color": "#EF553B"
         },
         "name": "Texas",
         "notched": true,
         "offsetgroup": "Texas",
         "orientation": "v",
         "showlegend": true,
         "type": "box",
         "x": [
          "Texas",
          "Texas",
          "Texas",
          "Texas",
          "Texas"
         ],
         "x0": " ",
         "xaxis": "x",
         "y": [
          17700.083911121,
          16134.88714081,
          19368.229560418,
          19213.769062103,
          22271.160583844
         ],
         "y0": " ",
         "yaxis": "y"
        },
        {
         "alignmentgroup": "True",
         "hovertemplate": "State=%{x}<br>Housing Values=%{y}<extra></extra>",
         "legendgroup": "Florida",
         "marker": {
          "color": "#00cc96"
         },
         "name": "Florida",
         "notched": true,
         "offsetgroup": "Florida",
         "orientation": "v",
         "showlegend": true,
         "type": "box",
         "x": [
          "Florida",
          "Florida",
          "Florida",
          "Florida",
          "Florida"
         ],
         "x0": " ",
         "xaxis": "x",
         "y": [
          14255.463954839,
          10731.336874007,
          13122.345805017,
          15330.284657797,
          15823.269180257
         ],
         "y0": " ",
         "yaxis": "y"
        },
        {
         "alignmentgroup": "True",
         "hovertemplate": "State=%{x}<br>Housing Values=%{y}<extra></extra>",
         "legendgroup": "California",
         "marker": {
          "color": "#ab63fa"
         },
         "name": "California",
         "notched": true,
         "offsetgroup": "California",
         "orientation": "v",
         "showlegend": true,
         "type": "box",
         "x": [
          "California",
          "California",
          "California",
          "California",
          "California"
         ],
         "x0": " ",
         "xaxis": "x",
         "y": [
          9363.85197603,
          5833.287170892,
          10799.34910534,
          8657.725180791,
          10681.492851722
         ],
         "y0": " ",
         "yaxis": "y"
        }
       ],
       "layout": {
        "boxmode": "overlay",
        "legend": {
         "title": {
          "text": "State"
         },
         "tracegroupgap": 0
        },
        "template": {
         "data": {
          "bar": [
           {
            "error_x": {
             "color": "#2a3f5f"
            },
            "error_y": {
             "color": "#2a3f5f"
            },
            "marker": {
             "line": {
              "color": "#E5ECF6",
              "width": 0.5
             },
             "pattern": {
              "fillmode": "overlay",
              "size": 10,
              "solidity": 0.2
             }
            },
            "type": "bar"
           }
          ],
          "barpolar": [
           {
            "marker": {
             "line": {
              "color": "#E5ECF6",
              "width": 0.5
             },
             "pattern": {
              "fillmode": "overlay",
              "size": 10,
              "solidity": 0.2
             }
            },
            "type": "barpolar"
           }
          ],
          "carpet": [
           {
            "aaxis": {
             "endlinecolor": "#2a3f5f",
             "gridcolor": "white",
             "linecolor": "white",
             "minorgridcolor": "white",
             "startlinecolor": "#2a3f5f"
            },
            "baxis": {
             "endlinecolor": "#2a3f5f",
             "gridcolor": "white",
             "linecolor": "white",
             "minorgridcolor": "white",
             "startlinecolor": "#2a3f5f"
            },
            "type": "carpet"
           }
          ],
          "choropleth": [
           {
            "colorbar": {
             "outlinewidth": 0,
             "ticks": ""
            },
            "type": "choropleth"
           }
          ],
          "contour": [
           {
            "colorbar": {
             "outlinewidth": 0,
             "ticks": ""
            },
            "colorscale": [
             [
              0,
              "#0d0887"
             ],
             [
              0.1111111111111111,
              "#46039f"
             ],
             [
              0.2222222222222222,
              "#7201a8"
             ],
             [
              0.3333333333333333,
              "#9c179e"
             ],
             [
              0.4444444444444444,
              "#bd3786"
             ],
             [
              0.5555555555555556,
              "#d8576b"
             ],
             [
              0.6666666666666666,
              "#ed7953"
             ],
             [
              0.7777777777777778,
              "#fb9f3a"
             ],
             [
              0.8888888888888888,
              "#fdca26"
             ],
             [
              1,
              "#f0f921"
             ]
            ],
            "type": "contour"
           }
          ],
          "contourcarpet": [
           {
            "colorbar": {
             "outlinewidth": 0,
             "ticks": ""
            },
            "type": "contourcarpet"
           }
          ],
          "heatmap": [
           {
            "colorbar": {
             "outlinewidth": 0,
             "ticks": ""
            },
            "colorscale": [
             [
              0,
              "#0d0887"
             ],
             [
              0.1111111111111111,
              "#46039f"
             ],
             [
              0.2222222222222222,
              "#7201a8"
             ],
             [
              0.3333333333333333,
              "#9c179e"
             ],
             [
              0.4444444444444444,
              "#bd3786"
             ],
             [
              0.5555555555555556,
              "#d8576b"
             ],
             [
              0.6666666666666666,
              "#ed7953"
             ],
             [
              0.7777777777777778,
              "#fb9f3a"
             ],
             [
              0.8888888888888888,
              "#fdca26"
             ],
             [
              1,
              "#f0f921"
             ]
            ],
            "type": "heatmap"
           }
          ],
          "heatmapgl": [
           {
            "colorbar": {
             "outlinewidth": 0,
             "ticks": ""
            },
            "colorscale": [
             [
              0,
              "#0d0887"
             ],
             [
              0.1111111111111111,
              "#46039f"
             ],
             [
              0.2222222222222222,
              "#7201a8"
             ],
             [
              0.3333333333333333,
              "#9c179e"
             ],
             [
              0.4444444444444444,
              "#bd3786"
             ],
             [
              0.5555555555555556,
              "#d8576b"
             ],
             [
              0.6666666666666666,
              "#ed7953"
             ],
             [
              0.7777777777777778,
              "#fb9f3a"
             ],
             [
              0.8888888888888888,
              "#fdca26"
             ],
             [
              1,
              "#f0f921"
             ]
            ],
            "type": "heatmapgl"
           }
          ],
          "histogram": [
           {
            "marker": {
             "pattern": {
              "fillmode": "overlay",
              "size": 10,
              "solidity": 0.2
             }
            },
            "type": "histogram"
           }
          ],
          "histogram2d": [
           {
            "colorbar": {
             "outlinewidth": 0,
             "ticks": ""
            },
            "colorscale": [
             [
              0,
              "#0d0887"
             ],
             [
              0.1111111111111111,
              "#46039f"
             ],
             [
              0.2222222222222222,
              "#7201a8"
             ],
             [
              0.3333333333333333,
              "#9c179e"
             ],
             [
              0.4444444444444444,
              "#bd3786"
             ],
             [
              0.5555555555555556,
              "#d8576b"
             ],
             [
              0.6666666666666666,
              "#ed7953"
             ],
             [
              0.7777777777777778,
              "#fb9f3a"
             ],
             [
              0.8888888888888888,
              "#fdca26"
             ],
             [
              1,
              "#f0f921"
             ]
            ],
            "type": "histogram2d"
           }
          ],
          "histogram2dcontour": [
           {
            "colorbar": {
             "outlinewidth": 0,
             "ticks": ""
            },
            "colorscale": [
             [
              0,
              "#0d0887"
             ],
             [
              0.1111111111111111,
              "#46039f"
             ],
             [
              0.2222222222222222,
              "#7201a8"
             ],
             [
              0.3333333333333333,
              "#9c179e"
             ],
             [
              0.4444444444444444,
              "#bd3786"
             ],
             [
              0.5555555555555556,
              "#d8576b"
             ],
             [
              0.6666666666666666,
              "#ed7953"
             ],
             [
              0.7777777777777778,
              "#fb9f3a"
             ],
             [
              0.8888888888888888,
              "#fdca26"
             ],
             [
              1,
              "#f0f921"
             ]
            ],
            "type": "histogram2dcontour"
           }
          ],
          "mesh3d": [
           {
            "colorbar": {
             "outlinewidth": 0,
             "ticks": ""
            },
            "type": "mesh3d"
           }
          ],
          "parcoords": [
           {
            "line": {
             "colorbar": {
              "outlinewidth": 0,
              "ticks": ""
             }
            },
            "type": "parcoords"
           }
          ],
          "pie": [
           {
            "automargin": true,
            "type": "pie"
           }
          ],
          "scatter": [
           {
            "fillpattern": {
             "fillmode": "overlay",
             "size": 10,
             "solidity": 0.2
            },
            "type": "scatter"
           }
          ],
          "scatter3d": [
           {
            "line": {
             "colorbar": {
              "outlinewidth": 0,
              "ticks": ""
             }
            },
            "marker": {
             "colorbar": {
              "outlinewidth": 0,
              "ticks": ""
             }
            },
            "type": "scatter3d"
           }
          ],
          "scattercarpet": [
           {
            "marker": {
             "colorbar": {
              "outlinewidth": 0,
              "ticks": ""
             }
            },
            "type": "scattercarpet"
           }
          ],
          "scattergeo": [
           {
            "marker": {
             "colorbar": {
              "outlinewidth": 0,
              "ticks": ""
             }
            },
            "type": "scattergeo"
           }
          ],
          "scattergl": [
           {
            "marker": {
             "colorbar": {
              "outlinewidth": 0,
              "ticks": ""
             }
            },
            "type": "scattergl"
           }
          ],
          "scattermapbox": [
           {
            "marker": {
             "colorbar": {
              "outlinewidth": 0,
              "ticks": ""
             }
            },
            "type": "scattermapbox"
           }
          ],
          "scatterpolar": [
           {
            "marker": {
             "colorbar": {
              "outlinewidth": 0,
              "ticks": ""
             }
            },
            "type": "scatterpolar"
           }
          ],
          "scatterpolargl": [
           {
            "marker": {
             "colorbar": {
              "outlinewidth": 0,
              "ticks": ""
             }
            },
            "type": "scatterpolargl"
           }
          ],
          "scatterternary": [
           {
            "marker": {
             "colorbar": {
              "outlinewidth": 0,
              "ticks": ""
             }
            },
            "type": "scatterternary"
           }
          ],
          "surface": [
           {
            "colorbar": {
             "outlinewidth": 0,
             "ticks": ""
            },
            "colorscale": [
             [
              0,
              "#0d0887"
             ],
             [
              0.1111111111111111,
              "#46039f"
             ],
             [
              0.2222222222222222,
              "#7201a8"
             ],
             [
              0.3333333333333333,
              "#9c179e"
             ],
             [
              0.4444444444444444,
              "#bd3786"
             ],
             [
              0.5555555555555556,
              "#d8576b"
             ],
             [
              0.6666666666666666,
              "#ed7953"
             ],
             [
              0.7777777777777778,
              "#fb9f3a"
             ],
             [
              0.8888888888888888,
              "#fdca26"
             ],
             [
              1,
              "#f0f921"
             ]
            ],
            "type": "surface"
           }
          ],
          "table": [
           {
            "cells": {
             "fill": {
              "color": "#EBF0F8"
             },
             "line": {
              "color": "white"
             }
            },
            "header": {
             "fill": {
              "color": "#C8D4E3"
             },
             "line": {
              "color": "white"
             }
            },
            "type": "table"
           }
          ]
         },
         "layout": {
          "annotationdefaults": {
           "arrowcolor": "#2a3f5f",
           "arrowhead": 0,
           "arrowwidth": 1
          },
          "autotypenumbers": "strict",
          "coloraxis": {
           "colorbar": {
            "outlinewidth": 0,
            "ticks": ""
           }
          },
          "colorscale": {
           "diverging": [
            [
             0,
             "#8e0152"
            ],
            [
             0.1,
             "#c51b7d"
            ],
            [
             0.2,
             "#de77ae"
            ],
            [
             0.3,
             "#f1b6da"
            ],
            [
             0.4,
             "#fde0ef"
            ],
            [
             0.5,
             "#f7f7f7"
            ],
            [
             0.6,
             "#e6f5d0"
            ],
            [
             0.7,
             "#b8e186"
            ],
            [
             0.8,
             "#7fbc41"
            ],
            [
             0.9,
             "#4d9221"
            ],
            [
             1,
             "#276419"
            ]
           ],
           "sequential": [
            [
             0,
             "#0d0887"
            ],
            [
             0.1111111111111111,
             "#46039f"
            ],
            [
             0.2222222222222222,
             "#7201a8"
            ],
            [
             0.3333333333333333,
             "#9c179e"
            ],
            [
             0.4444444444444444,
             "#bd3786"
            ],
            [
             0.5555555555555556,
             "#d8576b"
            ],
            [
             0.6666666666666666,
             "#ed7953"
            ],
            [
             0.7777777777777778,
             "#fb9f3a"
            ],
            [
             0.8888888888888888,
             "#fdca26"
            ],
            [
             1,
             "#f0f921"
            ]
           ],
           "sequentialminus": [
            [
             0,
             "#0d0887"
            ],
            [
             0.1111111111111111,
             "#46039f"
            ],
            [
             0.2222222222222222,
             "#7201a8"
            ],
            [
             0.3333333333333333,
             "#9c179e"
            ],
            [
             0.4444444444444444,
             "#bd3786"
            ],
            [
             0.5555555555555556,
             "#d8576b"
            ],
            [
             0.6666666666666666,
             "#ed7953"
            ],
            [
             0.7777777777777778,
             "#fb9f3a"
            ],
            [
             0.8888888888888888,
             "#fdca26"
            ],
            [
             1,
             "#f0f921"
            ]
           ]
          },
          "colorway": [
           "#636efa",
           "#EF553B",
           "#00cc96",
           "#ab63fa",
           "#FFA15A",
           "#19d3f3",
           "#FF6692",
           "#B6E880",
           "#FF97FF",
           "#FECB52"
          ],
          "font": {
           "color": "#2a3f5f"
          },
          "geo": {
           "bgcolor": "white",
           "lakecolor": "white",
           "landcolor": "#E5ECF6",
           "showlakes": true,
           "showland": true,
           "subunitcolor": "white"
          },
          "hoverlabel": {
           "align": "left"
          },
          "hovermode": "closest",
          "mapbox": {
           "style": "light"
          },
          "paper_bgcolor": "white",
          "plot_bgcolor": "#E5ECF6",
          "polar": {
           "angularaxis": {
            "gridcolor": "white",
            "linecolor": "white",
            "ticks": ""
           },
           "bgcolor": "#E5ECF6",
           "radialaxis": {
            "gridcolor": "white",
            "linecolor": "white",
            "ticks": ""
           }
          },
          "scene": {
           "xaxis": {
            "backgroundcolor": "#E5ECF6",
            "gridcolor": "white",
            "gridwidth": 2,
            "linecolor": "white",
            "showbackground": true,
            "ticks": "",
            "zerolinecolor": "white"
           },
           "yaxis": {
            "backgroundcolor": "#E5ECF6",
            "gridcolor": "white",
            "gridwidth": 2,
            "linecolor": "white",
            "showbackground": true,
            "ticks": "",
            "zerolinecolor": "white"
           },
           "zaxis": {
            "backgroundcolor": "#E5ECF6",
            "gridcolor": "white",
            "gridwidth": 2,
            "linecolor": "white",
            "showbackground": true,
            "ticks": "",
            "zerolinecolor": "white"
           }
          },
          "shapedefaults": {
           "line": {
            "color": "#2a3f5f"
           }
          },
          "ternary": {
           "aaxis": {
            "gridcolor": "white",
            "linecolor": "white",
            "ticks": ""
           },
           "baxis": {
            "gridcolor": "white",
            "linecolor": "white",
            "ticks": ""
           },
           "bgcolor": "#E5ECF6",
           "caxis": {
            "gridcolor": "white",
            "linecolor": "white",
            "ticks": ""
           }
          },
          "title": {
           "x": 0.05
          },
          "xaxis": {
           "automargin": true,
           "gridcolor": "white",
           "linecolor": "white",
           "ticks": "",
           "title": {
            "standoff": 15
           },
           "zerolinecolor": "white",
           "zerolinewidth": 2
          },
          "yaxis": {
           "automargin": true,
           "gridcolor": "white",
           "linecolor": "white",
           "ticks": "",
           "title": {
            "standoff": 15
           },
           "zerolinecolor": "white",
           "zerolinewidth": 2
          }
         }
        },
        "title": {
         "text": "State-wise Housing Permits(2020-2021)"
        },
        "xaxis": {
         "anchor": "y",
         "categoryarray": [
          "New York",
          "Texas",
          "Florida",
          "California"
         ],
         "categoryorder": "array",
         "domain": [
          0,
          1
         ],
         "title": {
          "text": "State"
         }
        },
        "yaxis": {
         "anchor": "x",
         "domain": [
          0,
          1
         ],
         "title": {
          "text": "Housing Values"
         }
        }
       }
      }
     },
     "metadata": {},
     "output_type": "display_data"
    }
   ],
   "source": [
    "home_analy_box(housing_hpi,'2020','2021','Housing Permits')"
   ]
  },
  {
   "cell_type": "markdown",
   "metadata": {},
   "source": [
    "Recess Analysis Line graph"
   ]
  },
  {
   "cell_type": "code",
   "execution_count": 51,
   "metadata": {},
   "outputs": [],
   "source": [
    "housing_type = list(housing_tier_recess['Housing Types'].unique())\n",
    "\n",
    "select_housing_Type = dcc_dropdown(housing_type,housing_type[0],'Home_type')\n",
    "#select_unemprate = dcc_dropdown(selectunemprate_unique,selectunemprate_unique[0],'rate')\n",
    "\n",
    "line_home_analy = dcc.Graph(id = 'figure_Line_analy')\n",
    "\n",
    "@app.callback(\n",
    "        Output('figure_Line_analy', \"figure\"), \n",
    "        [Input(\"Home_type\", \"value\")]\n",
    ")\n",
    "def update_line_home_analy(selected_type):\n",
    "    return home_analy_line(housing_tier_recess,\n",
    "                           selected_type,\n",
    "                           'Housing Types',\n",
    "                           'observation_date',\n",
    "                           'House Values')"
   ]
  },
  {
   "cell_type": "markdown",
   "metadata": {},
   "source": [
    "Covid Analysis Line graph"
   ]
  },
  {
   "cell_type": "code",
   "execution_count": 52,
   "metadata": {},
   "outputs": [],
   "source": [
    "housing_type = list(housing_tier_recess['Housing Types'].unique())\n",
    "\n",
    "select_housing_Type = dcc_dropdown(housing_type,housing_type[0],'Home_type')\n",
    "#select_unemprate = dcc_dropdown(selectunemprate_unique,selectunemprate_unique[0],'rate')\n",
    "\n",
    "line_home_analy_covid = dcc.Graph(id = 'figure_Line_analy_covid')\n",
    "\n",
    "@app.callback(\n",
    "        Output('figure_Line_analy_covid', \"figure\"), \n",
    "        [Input(\"Home_type\", \"value\")]\n",
    ")\n",
    "def update_home_analy_covid(selected_type):\n",
    "    return home_analy_line(housing_tier_covid,\n",
    "                           selected_type,\n",
    "                           'Housing Types',\n",
    "                           'observation_date',\n",
    "                           'House Values')"
   ]
  },
  {
   "cell_type": "code",
   "execution_count": 53,
   "metadata": {},
   "outputs": [],
   "source": [
    "box_home_analy = dcc.Graph(id = 'figure_box_analy')\n",
    "housing_type = list(housing_tier_recess['Housing Types'].unique())\n",
    "\n",
    "select_housing_Type = dcc_dropdown(housing_type,housing_type[0],'Home_type')\n",
    "@app.callback(\n",
    "        Output('figure_box_analy', \"figure\"), \n",
    "        [Input(\"Home_type\", \"value\")]\n",
    ")\n",
    "def box(x):\n",
    "    return home_analy_box(housing_hpi,\n",
    "                          '2008',\n",
    "                          '2010',\n",
    "                          'Housing Permits')"
   ]
  },
  {
   "cell_type": "code",
   "execution_count": 54,
   "metadata": {},
   "outputs": [],
   "source": [
    "box_home_analy_covid = dcc.Graph(id = 'figure_box_analy_covid')\n",
    "housing_type = list(housing_tier_recess['Housing Types'].unique())\n",
    "\n",
    "select_housing_Type = dcc_dropdown(housing_type,housing_type[0],'Home_type')\n",
    "@app.callback(\n",
    "        Output('figure_box_analy_covid', \"figure\"), \n",
    "        [Input(\"Home_type\", \"value\")]\n",
    ")\n",
    "def box(x):\n",
    "    return home_analy_box(housing_hpi,\n",
    "                          '2020',\n",
    "                          '2021',\n",
    "                          'Housing Permits')"
   ]
  },
  {
   "cell_type": "markdown",
   "metadata": {},
   "source": [
    "Analysis Tab Housing"
   ]
  },
  {
   "cell_type": "code",
   "execution_count": 55,
   "metadata": {},
   "outputs": [],
   "source": [
    "drop_down_8_tab = dbc.Card([\n",
    "    card(\"Housing Analysis by State (Recession Vs Covid)\"),\n",
    "    dbc.Row([\n",
    "                dbc.Col(dropdown(\"Housing Type\",dcc_dropdown(housing_type,housing_type[0],'Home_type')),width=5)\n",
    "                ]),\n",
    "    dbc.Row([\n",
    "                dbc.Col(html.Div(tab_graph(\"Housing Type Comparision(Recession)\",line_home_analy)),width=6),\n",
    "                dbc.Col(html.Div(tab_graph(\"Housing Type Comparision(Covid)\",line_home_analy_covid)),width=6)\n",
    "    ]),\n",
    "    dbc.Row([\n",
    "                dbc.Col(html.Div(tab_graph(\"Housing Permits Median Comparision(Recession)\",box_home_analy)),width=6),\n",
    "                dbc.Col(html.Div(tab_graph(\"Housing Permits Median Comparision(Covid)\",box_home_analy_covid)),width=6)\n",
    "    ])\n",
    "])"
   ]
  },
  {
   "cell_type": "markdown",
   "metadata": {},
   "source": [
    "## Economic Dimention"
   ]
  },
  {
   "cell_type": "code",
   "execution_count": 56,
   "metadata": {},
   "outputs": [
    {
     "name": "stdout",
     "output_type": "stream",
     "text": [
      "<class 'pandas.core.frame.DataFrame'>\n",
      "Index: 368 entries, 0 to 367\n",
      "Data columns (total 4 columns):\n",
      " #   Column              Non-Null Count  Dtype         \n",
      "---  ------              --------------  -----         \n",
      " 0   observation_date    368 non-null    datetime64[ns]\n",
      " 1   State               368 non-null    object        \n",
      " 2   Economic Indicator  368 non-null    object        \n",
      " 3   Value               368 non-null    float64       \n",
      "dtypes: datetime64[ns](1), float64(1), object(2)\n",
      "memory usage: 14.4+ KB\n"
     ]
    },
    {
     "name": "stderr",
     "output_type": "stream",
     "text": [
      "C:\\Users\\Karthi\\AppData\\Local\\Temp\\ipykernel_11596\\273446102.py:18: SettingWithCopyWarning:\n",
      "\n",
      "\n",
      "A value is trying to be set on a copy of a slice from a DataFrame.\n",
      "Try using .loc[row_indexer,col_indexer] = value instead\n",
      "\n",
      "See the caveats in the documentation: https://pandas.pydata.org/pandas-docs/stable/user_guide/indexing.html#returning-a-view-versus-a-copy\n",
      "\n",
      "C:\\Users\\Karthi\\AppData\\Local\\Temp\\ipykernel_11596\\273446102.py:30: SettingWithCopyWarning:\n",
      "\n",
      "\n",
      "A value is trying to be set on a copy of a slice from a DataFrame.\n",
      "Try using .loc[row_indexer,col_indexer] = value instead\n",
      "\n",
      "See the caveats in the documentation: https://pandas.pydata.org/pandas-docs/stable/user_guide/indexing.html#returning-a-view-versus-a-copy\n",
      "\n"
     ]
    }
   ],
   "source": [
    "#selectunemprate_unique = list(unempl_recess_rate['unemployement_levels'].unique())\n",
    "economic_dim = pd.read_csv('Output_Economic_well_being.csv')\n",
    "economic_dim['observation_date'] = pd.to_datetime(economic_dim['observation_date'],format = '%d-%m-%Y')\n",
    "economic_dim = economic_dim.sort_values('observation_date')\n",
    "economic_dim.info()\n",
    "\n",
    "economic_dim_recess = economic_dim[(economic_dim['observation_date'] >= '2005') & (economic_dim['observation_date'] <= '2014')]\n",
    "def indicator(num):\n",
    "        if num.year <= 2006:\n",
    "            return \"Pre Recession\"\n",
    " \n",
    "        elif num.year >= 2007 and num.year < 2010:\n",
    "            return \"During Recession\"\n",
    " \n",
    "        else:\n",
    "            return \"Post Recession\"\n",
    "        \n",
    "economic_dim_recess['Indicator'] = economic_dim_recess['observation_date'].apply(lambda date : indicator(date))\n",
    "\n",
    "def indicator_1(num):\n",
    "        if num.year <= 2017:\n",
    "            return \"Pre Covid\"\n",
    " \n",
    "        elif num.year >= 2018 and num.year < 2021:\n",
    "            return \"During Covid\"\n",
    " \n",
    "        else:\n",
    "            return \"Post Covid\"\n",
    "economic_dim_covid = economic_dim[(economic_dim['observation_date'] >= '2016') & (economic_dim['observation_date'] <= '2022')]\n",
    "economic_dim_covid['Indicator'] = economic_dim_covid['observation_date'].apply(lambda date : indicator_1(date))\n"
   ]
  },
  {
   "cell_type": "code",
   "execution_count": 57,
   "metadata": {},
   "outputs": [
    {
     "data": {
      "text/html": [
       "<div>\n",
       "<style scoped>\n",
       "    .dataframe tbody tr th:only-of-type {\n",
       "        vertical-align: middle;\n",
       "    }\n",
       "\n",
       "    .dataframe tbody tr th {\n",
       "        vertical-align: top;\n",
       "    }\n",
       "\n",
       "    .dataframe thead th {\n",
       "        text-align: right;\n",
       "    }\n",
       "</style>\n",
       "<table border=\"1\" class=\"dataframe\">\n",
       "  <thead>\n",
       "    <tr style=\"text-align: right;\">\n",
       "      <th></th>\n",
       "      <th>observation_date</th>\n",
       "      <th>State</th>\n",
       "      <th>Economic Indicator</th>\n",
       "      <th>Value</th>\n",
       "      <th>Indicator</th>\n",
       "    </tr>\n",
       "  </thead>\n",
       "  <tbody>\n",
       "    <tr>\n",
       "      <th>227</th>\n",
       "      <td>2014-01-01</td>\n",
       "      <td>California</td>\n",
       "      <td>Total Personal Income</td>\n",
       "      <td>1902645.1</td>\n",
       "      <td>Post Recession</td>\n",
       "    </tr>\n",
       "    <tr>\n",
       "      <th>226</th>\n",
       "      <td>2014-01-01</td>\n",
       "      <td>California</td>\n",
       "      <td>Per Capita Per Person</td>\n",
       "      <td>50619.0</td>\n",
       "      <td>Post Recession</td>\n",
       "    </tr>\n",
       "    <tr>\n",
       "      <th>225</th>\n",
       "      <td>2014-01-01</td>\n",
       "      <td>California</td>\n",
       "      <td>Minimum Wage</td>\n",
       "      <td>9.0</td>\n",
       "      <td>Post Recession</td>\n",
       "    </tr>\n",
       "    <tr>\n",
       "      <th>224</th>\n",
       "      <td>2014-01-01</td>\n",
       "      <td>California</td>\n",
       "      <td>Civil Labor Force</td>\n",
       "      <td>18569356.0</td>\n",
       "      <td>Post Recession</td>\n",
       "    </tr>\n",
       "    <tr>\n",
       "      <th>231</th>\n",
       "      <td>2014-01-01</td>\n",
       "      <td>Florida</td>\n",
       "      <td>Total Personal Income</td>\n",
       "      <td>822886.5</td>\n",
       "      <td>Post Recession</td>\n",
       "    </tr>\n",
       "  </tbody>\n",
       "</table>\n",
       "</div>"
      ],
      "text/plain": [
       "    observation_date       State     Economic Indicator       Value  \\\n",
       "227       2014-01-01  California  Total Personal Income   1902645.1   \n",
       "226       2014-01-01  California  Per Capita Per Person     50619.0   \n",
       "225       2014-01-01  California           Minimum Wage         9.0   \n",
       "224       2014-01-01  California      Civil Labor Force  18569356.0   \n",
       "231       2014-01-01     Florida  Total Personal Income    822886.5   \n",
       "\n",
       "          Indicator  \n",
       "227  Post Recession  \n",
       "226  Post Recession  \n",
       "225  Post Recession  \n",
       "224  Post Recession  \n",
       "231  Post Recession  "
      ]
     },
     "execution_count": 57,
     "metadata": {},
     "output_type": "execute_result"
    }
   ],
   "source": [
    "economic_dim_recess.tail()\n",
    "#economic_dim_covid.head()"
   ]
  },
  {
   "cell_type": "markdown",
   "metadata": {},
   "source": [
    "Function for all state line plot for Economy dimention"
   ]
  },
  {
   "cell_type": "code",
   "execution_count": 58,
   "metadata": {},
   "outputs": [],
   "source": [
    "def line_graph_econ_1(df,selected_ecom_type,cat_column,x,y):    \n",
    "    df =df[(df['Economic Indicator'] == selected_ecom_type)] \n",
    "    df_pre = df[df['Indicator'] == list(df['Indicator'].sort_values().unique())[2]]  \n",
    "    df_dur = df[df['Indicator'] == list(df['Indicator'].sort_values().unique())[0]] \n",
    "    df_post = df[df['Indicator'] == list(df['Indicator'].sort_values().unique())[1]]\n",
    "    fig = make_subplots(rows=1, cols=3,shared_yaxes=True,subplot_titles=(list(df['Indicator'].sort_values().unique())[2],list(df['Indicator'].sort_values().unique())[0],list(df['Indicator'].sort_values().unique())[1]),x_title=\"Year\",\n",
    "                        y_title= selected_ecom_type)\n",
    "    \n",
    "    colors = {'New York': 'blue', \n",
    "               'Texas': 'red', \n",
    "               'California': 'green',\n",
    "              'Florida': 'orange'}\n",
    "        \n",
    "    for type in df_pre[cat_column].unique():\n",
    "        data_1 = df_pre[df_pre[cat_column] == type]\n",
    "        fig.add_trace(go.Scatter(x=data_1[x], y=data_1[y], mode='lines',name = type,line=dict(color=colors[type]),showlegend=False),\n",
    "                      row=1, col=1)\n",
    "        \n",
    "    for type2 in df_dur[cat_column].unique():\n",
    "        data_2 = df_dur[df_dur[cat_column] == type2]\n",
    "        fig.add_trace(go.Scatter(x=data_2[x], y=data_2[y], mode='lines',name = type2,line=dict(color=colors[type2]),showlegend=False),\n",
    "                                row=1, col=2)\n",
    "        \n",
    "    for type3 in df_post[cat_column].unique():\n",
    "        data_3 = df_post[df_post[cat_column] == type3]\n",
    "        fig.add_trace(go.Scatter(x=data_3[x], y=data_3[y], mode='lines',name = type3,line=dict(color=colors[type3]),showlegend=False),\n",
    "                                row=1, col=3)\n",
    "    \n",
    "    for state, color in colors.items():\n",
    "        fig.add_trace(go.Scatter(x=[None], y=[None], mode='lines', name=state, line=dict(color=color)), row=1, col=1)\n",
    "    \n",
    "    # Add legend for the first subplot\n",
    "    fig.update_layout(legend=dict(x=10, y=1, orientation=\"v\"))\n",
    "    \n",
    "    fig.update_layout(title=' State-Wise ' + selected_ecom_type, showlegend=True)            \n",
    "    \n",
    "    return fig"
   ]
  },
  {
   "cell_type": "code",
   "execution_count": 59,
   "metadata": {},
   "outputs": [
    {
     "data": {
      "text/html": [
       "<div>\n",
       "<style scoped>\n",
       "    .dataframe tbody tr th:only-of-type {\n",
       "        vertical-align: middle;\n",
       "    }\n",
       "\n",
       "    .dataframe tbody tr th {\n",
       "        vertical-align: top;\n",
       "    }\n",
       "\n",
       "    .dataframe thead th {\n",
       "        text-align: right;\n",
       "    }\n",
       "</style>\n",
       "<table border=\"1\" class=\"dataframe\">\n",
       "  <thead>\n",
       "    <tr style=\"text-align: right;\">\n",
       "      <th></th>\n",
       "      <th>observation_date</th>\n",
       "      <th>State</th>\n",
       "      <th>Economic Indicator</th>\n",
       "      <th>Value</th>\n",
       "      <th>Indicator</th>\n",
       "    </tr>\n",
       "  </thead>\n",
       "  <tbody>\n",
       "    <tr>\n",
       "      <th>89</th>\n",
       "      <td>2005-01-01</td>\n",
       "      <td>New York</td>\n",
       "      <td>Minimum Wage</td>\n",
       "      <td>6.00</td>\n",
       "      <td>Pre Recession</td>\n",
       "    </tr>\n",
       "    <tr>\n",
       "      <th>95</th>\n",
       "      <td>2005-01-01</td>\n",
       "      <td>Texas</td>\n",
       "      <td>Total Personal Income</td>\n",
       "      <td>732005.30</td>\n",
       "      <td>Pre Recession</td>\n",
       "    </tr>\n",
       "    <tr>\n",
       "      <th>94</th>\n",
       "      <td>2005-01-01</td>\n",
       "      <td>Texas</td>\n",
       "      <td>Per Capita Per Person</td>\n",
       "      <td>33136.00</td>\n",
       "      <td>Pre Recession</td>\n",
       "    </tr>\n",
       "    <tr>\n",
       "      <th>93</th>\n",
       "      <td>2005-01-01</td>\n",
       "      <td>Texas</td>\n",
       "      <td>Minimum Wage</td>\n",
       "      <td>5.15</td>\n",
       "      <td>Pre Recession</td>\n",
       "    </tr>\n",
       "    <tr>\n",
       "      <th>92</th>\n",
       "      <td>2005-01-01</td>\n",
       "      <td>Texas</td>\n",
       "      <td>Civil Labor Force</td>\n",
       "      <td>11104720.00</td>\n",
       "      <td>Pre Recession</td>\n",
       "    </tr>\n",
       "    <tr>\n",
       "      <th>...</th>\n",
       "      <td>...</td>\n",
       "      <td>...</td>\n",
       "      <td>...</td>\n",
       "      <td>...</td>\n",
       "      <td>...</td>\n",
       "    </tr>\n",
       "    <tr>\n",
       "      <th>227</th>\n",
       "      <td>2014-01-01</td>\n",
       "      <td>California</td>\n",
       "      <td>Total Personal Income</td>\n",
       "      <td>1902645.10</td>\n",
       "      <td>Post Recession</td>\n",
       "    </tr>\n",
       "    <tr>\n",
       "      <th>226</th>\n",
       "      <td>2014-01-01</td>\n",
       "      <td>California</td>\n",
       "      <td>Per Capita Per Person</td>\n",
       "      <td>50619.00</td>\n",
       "      <td>Post Recession</td>\n",
       "    </tr>\n",
       "    <tr>\n",
       "      <th>225</th>\n",
       "      <td>2014-01-01</td>\n",
       "      <td>California</td>\n",
       "      <td>Minimum Wage</td>\n",
       "      <td>9.00</td>\n",
       "      <td>Post Recession</td>\n",
       "    </tr>\n",
       "    <tr>\n",
       "      <th>224</th>\n",
       "      <td>2014-01-01</td>\n",
       "      <td>California</td>\n",
       "      <td>Civil Labor Force</td>\n",
       "      <td>18569356.00</td>\n",
       "      <td>Post Recession</td>\n",
       "    </tr>\n",
       "    <tr>\n",
       "      <th>231</th>\n",
       "      <td>2014-01-01</td>\n",
       "      <td>Florida</td>\n",
       "      <td>Total Personal Income</td>\n",
       "      <td>822886.50</td>\n",
       "      <td>Post Recession</td>\n",
       "    </tr>\n",
       "  </tbody>\n",
       "</table>\n",
       "<p>160 rows × 5 columns</p>\n",
       "</div>"
      ],
      "text/plain": [
       "    observation_date       State     Economic Indicator        Value  \\\n",
       "89        2005-01-01    New York           Minimum Wage         6.00   \n",
       "95        2005-01-01       Texas  Total Personal Income    732005.30   \n",
       "94        2005-01-01       Texas  Per Capita Per Person     33136.00   \n",
       "93        2005-01-01       Texas           Minimum Wage         5.15   \n",
       "92        2005-01-01       Texas      Civil Labor Force  11104720.00   \n",
       "..               ...         ...                    ...          ...   \n",
       "227       2014-01-01  California  Total Personal Income   1902645.10   \n",
       "226       2014-01-01  California  Per Capita Per Person     50619.00   \n",
       "225       2014-01-01  California           Minimum Wage         9.00   \n",
       "224       2014-01-01  California      Civil Labor Force  18569356.00   \n",
       "231       2014-01-01     Florida  Total Personal Income    822886.50   \n",
       "\n",
       "          Indicator  \n",
       "89    Pre Recession  \n",
       "95    Pre Recession  \n",
       "94    Pre Recession  \n",
       "93    Pre Recession  \n",
       "92    Pre Recession  \n",
       "..              ...  \n",
       "227  Post Recession  \n",
       "226  Post Recession  \n",
       "225  Post Recession  \n",
       "224  Post Recession  \n",
       "231  Post Recession  \n",
       "\n",
       "[160 rows x 5 columns]"
      ]
     },
     "execution_count": 59,
     "metadata": {},
     "output_type": "execute_result"
    }
   ],
   "source": [
    "economic_dim_recess"
   ]
  },
  {
   "cell_type": "markdown",
   "metadata": {},
   "source": [
    "function for bat plot economy dimention"
   ]
  },
  {
   "cell_type": "code",
   "execution_count": 60,
   "metadata": {},
   "outputs": [],
   "source": [
    "def bar_graph_econ(df,selected_state,cat,x,y):\n",
    "      df =df[(df['State'] == selected_state) & (df['Economic Indicator'] == cat)] \n",
    "      df_fig = px.bar(df,\n",
    "                  x = x,\n",
    "                  y = y,\n",
    "                  color = 'Indicator',\n",
    "                  title= 'Minimum Wage ' +'in ' + selected_state\n",
    "                  )\n",
    "      df_fig.update_layout(   xaxis=dict(title='Year' ),\n",
    "                              yaxis=dict(title='Minimum Wage')\n",
    "      )\n",
    "      return df_fig"
   ]
  },
  {
   "cell_type": "code",
   "execution_count": 61,
   "metadata": {},
   "outputs": [
    {
     "data": {
      "application/vnd.plotly.v1+json": {
       "config": {
        "plotlyServerURL": "https://plot.ly"
       },
       "data": [
        {
         "alignmentgroup": "True",
         "hovertemplate": "Indicator=Pre Recession<br>observation_date=%{x}<br>Value=%{y}<extra></extra>",
         "legendgroup": "Pre Recession",
         "marker": {
          "color": "#636efa",
          "pattern": {
           "shape": ""
          }
         },
         "name": "Pre Recession",
         "offsetgroup": "Pre Recession",
         "orientation": "v",
         "showlegend": true,
         "textposition": "auto",
         "type": "bar",
         "x": [
          "2005-01-01T00:00:00",
          "2006-01-01T00:00:00"
         ],
         "xaxis": "x",
         "y": [
          5.5,
          6.4
         ],
         "yaxis": "y"
        },
        {
         "alignmentgroup": "True",
         "hovertemplate": "Indicator=During Recession<br>observation_date=%{x}<br>Value=%{y}<extra></extra>",
         "legendgroup": "During Recession",
         "marker": {
          "color": "#EF553B",
          "pattern": {
           "shape": ""
          }
         },
         "name": "During Recession",
         "offsetgroup": "During Recession",
         "orientation": "v",
         "showlegend": true,
         "textposition": "auto",
         "type": "bar",
         "x": [
          "2007-01-01T00:00:00",
          "2008-01-01T00:00:00",
          "2009-01-01T00:00:00"
         ],
         "xaxis": "x",
         "y": [
          6.67,
          6.79,
          7.21
         ],
         "yaxis": "y"
        },
        {
         "alignmentgroup": "True",
         "hovertemplate": "Indicator=Post Recession<br>observation_date=%{x}<br>Value=%{y}<extra></extra>",
         "legendgroup": "Post Recession",
         "marker": {
          "color": "#00cc96",
          "pattern": {
           "shape": ""
          }
         },
         "name": "Post Recession",
         "offsetgroup": "Post Recession",
         "orientation": "v",
         "showlegend": true,
         "textposition": "auto",
         "type": "bar",
         "x": [
          "2010-01-01T00:00:00",
          "2011-01-01T00:00:00",
          "2012-01-01T00:00:00",
          "2013-01-01T00:00:00",
          "2014-01-01T00:00:00"
         ],
         "xaxis": "x",
         "y": [
          7.25,
          7.25,
          7.67,
          7.79,
          7.93
         ],
         "yaxis": "y"
        }
       ],
       "layout": {
        "barmode": "relative",
        "legend": {
         "title": {
          "text": "Indicator"
         },
         "tracegroupgap": 0
        },
        "template": {
         "data": {
          "bar": [
           {
            "error_x": {
             "color": "#2a3f5f"
            },
            "error_y": {
             "color": "#2a3f5f"
            },
            "marker": {
             "line": {
              "color": "#E5ECF6",
              "width": 0.5
             },
             "pattern": {
              "fillmode": "overlay",
              "size": 10,
              "solidity": 0.2
             }
            },
            "type": "bar"
           }
          ],
          "barpolar": [
           {
            "marker": {
             "line": {
              "color": "#E5ECF6",
              "width": 0.5
             },
             "pattern": {
              "fillmode": "overlay",
              "size": 10,
              "solidity": 0.2
             }
            },
            "type": "barpolar"
           }
          ],
          "carpet": [
           {
            "aaxis": {
             "endlinecolor": "#2a3f5f",
             "gridcolor": "white",
             "linecolor": "white",
             "minorgridcolor": "white",
             "startlinecolor": "#2a3f5f"
            },
            "baxis": {
             "endlinecolor": "#2a3f5f",
             "gridcolor": "white",
             "linecolor": "white",
             "minorgridcolor": "white",
             "startlinecolor": "#2a3f5f"
            },
            "type": "carpet"
           }
          ],
          "choropleth": [
           {
            "colorbar": {
             "outlinewidth": 0,
             "ticks": ""
            },
            "type": "choropleth"
           }
          ],
          "contour": [
           {
            "colorbar": {
             "outlinewidth": 0,
             "ticks": ""
            },
            "colorscale": [
             [
              0,
              "#0d0887"
             ],
             [
              0.1111111111111111,
              "#46039f"
             ],
             [
              0.2222222222222222,
              "#7201a8"
             ],
             [
              0.3333333333333333,
              "#9c179e"
             ],
             [
              0.4444444444444444,
              "#bd3786"
             ],
             [
              0.5555555555555556,
              "#d8576b"
             ],
             [
              0.6666666666666666,
              "#ed7953"
             ],
             [
              0.7777777777777778,
              "#fb9f3a"
             ],
             [
              0.8888888888888888,
              "#fdca26"
             ],
             [
              1,
              "#f0f921"
             ]
            ],
            "type": "contour"
           }
          ],
          "contourcarpet": [
           {
            "colorbar": {
             "outlinewidth": 0,
             "ticks": ""
            },
            "type": "contourcarpet"
           }
          ],
          "heatmap": [
           {
            "colorbar": {
             "outlinewidth": 0,
             "ticks": ""
            },
            "colorscale": [
             [
              0,
              "#0d0887"
             ],
             [
              0.1111111111111111,
              "#46039f"
             ],
             [
              0.2222222222222222,
              "#7201a8"
             ],
             [
              0.3333333333333333,
              "#9c179e"
             ],
             [
              0.4444444444444444,
              "#bd3786"
             ],
             [
              0.5555555555555556,
              "#d8576b"
             ],
             [
              0.6666666666666666,
              "#ed7953"
             ],
             [
              0.7777777777777778,
              "#fb9f3a"
             ],
             [
              0.8888888888888888,
              "#fdca26"
             ],
             [
              1,
              "#f0f921"
             ]
            ],
            "type": "heatmap"
           }
          ],
          "heatmapgl": [
           {
            "colorbar": {
             "outlinewidth": 0,
             "ticks": ""
            },
            "colorscale": [
             [
              0,
              "#0d0887"
             ],
             [
              0.1111111111111111,
              "#46039f"
             ],
             [
              0.2222222222222222,
              "#7201a8"
             ],
             [
              0.3333333333333333,
              "#9c179e"
             ],
             [
              0.4444444444444444,
              "#bd3786"
             ],
             [
              0.5555555555555556,
              "#d8576b"
             ],
             [
              0.6666666666666666,
              "#ed7953"
             ],
             [
              0.7777777777777778,
              "#fb9f3a"
             ],
             [
              0.8888888888888888,
              "#fdca26"
             ],
             [
              1,
              "#f0f921"
             ]
            ],
            "type": "heatmapgl"
           }
          ],
          "histogram": [
           {
            "marker": {
             "pattern": {
              "fillmode": "overlay",
              "size": 10,
              "solidity": 0.2
             }
            },
            "type": "histogram"
           }
          ],
          "histogram2d": [
           {
            "colorbar": {
             "outlinewidth": 0,
             "ticks": ""
            },
            "colorscale": [
             [
              0,
              "#0d0887"
             ],
             [
              0.1111111111111111,
              "#46039f"
             ],
             [
              0.2222222222222222,
              "#7201a8"
             ],
             [
              0.3333333333333333,
              "#9c179e"
             ],
             [
              0.4444444444444444,
              "#bd3786"
             ],
             [
              0.5555555555555556,
              "#d8576b"
             ],
             [
              0.6666666666666666,
              "#ed7953"
             ],
             [
              0.7777777777777778,
              "#fb9f3a"
             ],
             [
              0.8888888888888888,
              "#fdca26"
             ],
             [
              1,
              "#f0f921"
             ]
            ],
            "type": "histogram2d"
           }
          ],
          "histogram2dcontour": [
           {
            "colorbar": {
             "outlinewidth": 0,
             "ticks": ""
            },
            "colorscale": [
             [
              0,
              "#0d0887"
             ],
             [
              0.1111111111111111,
              "#46039f"
             ],
             [
              0.2222222222222222,
              "#7201a8"
             ],
             [
              0.3333333333333333,
              "#9c179e"
             ],
             [
              0.4444444444444444,
              "#bd3786"
             ],
             [
              0.5555555555555556,
              "#d8576b"
             ],
             [
              0.6666666666666666,
              "#ed7953"
             ],
             [
              0.7777777777777778,
              "#fb9f3a"
             ],
             [
              0.8888888888888888,
              "#fdca26"
             ],
             [
              1,
              "#f0f921"
             ]
            ],
            "type": "histogram2dcontour"
           }
          ],
          "mesh3d": [
           {
            "colorbar": {
             "outlinewidth": 0,
             "ticks": ""
            },
            "type": "mesh3d"
           }
          ],
          "parcoords": [
           {
            "line": {
             "colorbar": {
              "outlinewidth": 0,
              "ticks": ""
             }
            },
            "type": "parcoords"
           }
          ],
          "pie": [
           {
            "automargin": true,
            "type": "pie"
           }
          ],
          "scatter": [
           {
            "fillpattern": {
             "fillmode": "overlay",
             "size": 10,
             "solidity": 0.2
            },
            "type": "scatter"
           }
          ],
          "scatter3d": [
           {
            "line": {
             "colorbar": {
              "outlinewidth": 0,
              "ticks": ""
             }
            },
            "marker": {
             "colorbar": {
              "outlinewidth": 0,
              "ticks": ""
             }
            },
            "type": "scatter3d"
           }
          ],
          "scattercarpet": [
           {
            "marker": {
             "colorbar": {
              "outlinewidth": 0,
              "ticks": ""
             }
            },
            "type": "scattercarpet"
           }
          ],
          "scattergeo": [
           {
            "marker": {
             "colorbar": {
              "outlinewidth": 0,
              "ticks": ""
             }
            },
            "type": "scattergeo"
           }
          ],
          "scattergl": [
           {
            "marker": {
             "colorbar": {
              "outlinewidth": 0,
              "ticks": ""
             }
            },
            "type": "scattergl"
           }
          ],
          "scattermapbox": [
           {
            "marker": {
             "colorbar": {
              "outlinewidth": 0,
              "ticks": ""
             }
            },
            "type": "scattermapbox"
           }
          ],
          "scatterpolar": [
           {
            "marker": {
             "colorbar": {
              "outlinewidth": 0,
              "ticks": ""
             }
            },
            "type": "scatterpolar"
           }
          ],
          "scatterpolargl": [
           {
            "marker": {
             "colorbar": {
              "outlinewidth": 0,
              "ticks": ""
             }
            },
            "type": "scatterpolargl"
           }
          ],
          "scatterternary": [
           {
            "marker": {
             "colorbar": {
              "outlinewidth": 0,
              "ticks": ""
             }
            },
            "type": "scatterternary"
           }
          ],
          "surface": [
           {
            "colorbar": {
             "outlinewidth": 0,
             "ticks": ""
            },
            "colorscale": [
             [
              0,
              "#0d0887"
             ],
             [
              0.1111111111111111,
              "#46039f"
             ],
             [
              0.2222222222222222,
              "#7201a8"
             ],
             [
              0.3333333333333333,
              "#9c179e"
             ],
             [
              0.4444444444444444,
              "#bd3786"
             ],
             [
              0.5555555555555556,
              "#d8576b"
             ],
             [
              0.6666666666666666,
              "#ed7953"
             ],
             [
              0.7777777777777778,
              "#fb9f3a"
             ],
             [
              0.8888888888888888,
              "#fdca26"
             ],
             [
              1,
              "#f0f921"
             ]
            ],
            "type": "surface"
           }
          ],
          "table": [
           {
            "cells": {
             "fill": {
              "color": "#EBF0F8"
             },
             "line": {
              "color": "white"
             }
            },
            "header": {
             "fill": {
              "color": "#C8D4E3"
             },
             "line": {
              "color": "white"
             }
            },
            "type": "table"
           }
          ]
         },
         "layout": {
          "annotationdefaults": {
           "arrowcolor": "#2a3f5f",
           "arrowhead": 0,
           "arrowwidth": 1
          },
          "autotypenumbers": "strict",
          "coloraxis": {
           "colorbar": {
            "outlinewidth": 0,
            "ticks": ""
           }
          },
          "colorscale": {
           "diverging": [
            [
             0,
             "#8e0152"
            ],
            [
             0.1,
             "#c51b7d"
            ],
            [
             0.2,
             "#de77ae"
            ],
            [
             0.3,
             "#f1b6da"
            ],
            [
             0.4,
             "#fde0ef"
            ],
            [
             0.5,
             "#f7f7f7"
            ],
            [
             0.6,
             "#e6f5d0"
            ],
            [
             0.7,
             "#b8e186"
            ],
            [
             0.8,
             "#7fbc41"
            ],
            [
             0.9,
             "#4d9221"
            ],
            [
             1,
             "#276419"
            ]
           ],
           "sequential": [
            [
             0,
             "#0d0887"
            ],
            [
             0.1111111111111111,
             "#46039f"
            ],
            [
             0.2222222222222222,
             "#7201a8"
            ],
            [
             0.3333333333333333,
             "#9c179e"
            ],
            [
             0.4444444444444444,
             "#bd3786"
            ],
            [
             0.5555555555555556,
             "#d8576b"
            ],
            [
             0.6666666666666666,
             "#ed7953"
            ],
            [
             0.7777777777777778,
             "#fb9f3a"
            ],
            [
             0.8888888888888888,
             "#fdca26"
            ],
            [
             1,
             "#f0f921"
            ]
           ],
           "sequentialminus": [
            [
             0,
             "#0d0887"
            ],
            [
             0.1111111111111111,
             "#46039f"
            ],
            [
             0.2222222222222222,
             "#7201a8"
            ],
            [
             0.3333333333333333,
             "#9c179e"
            ],
            [
             0.4444444444444444,
             "#bd3786"
            ],
            [
             0.5555555555555556,
             "#d8576b"
            ],
            [
             0.6666666666666666,
             "#ed7953"
            ],
            [
             0.7777777777777778,
             "#fb9f3a"
            ],
            [
             0.8888888888888888,
             "#fdca26"
            ],
            [
             1,
             "#f0f921"
            ]
           ]
          },
          "colorway": [
           "#636efa",
           "#EF553B",
           "#00cc96",
           "#ab63fa",
           "#FFA15A",
           "#19d3f3",
           "#FF6692",
           "#B6E880",
           "#FF97FF",
           "#FECB52"
          ],
          "font": {
           "color": "#2a3f5f"
          },
          "geo": {
           "bgcolor": "white",
           "lakecolor": "white",
           "landcolor": "#E5ECF6",
           "showlakes": true,
           "showland": true,
           "subunitcolor": "white"
          },
          "hoverlabel": {
           "align": "left"
          },
          "hovermode": "closest",
          "mapbox": {
           "style": "light"
          },
          "paper_bgcolor": "white",
          "plot_bgcolor": "#E5ECF6",
          "polar": {
           "angularaxis": {
            "gridcolor": "white",
            "linecolor": "white",
            "ticks": ""
           },
           "bgcolor": "#E5ECF6",
           "radialaxis": {
            "gridcolor": "white",
            "linecolor": "white",
            "ticks": ""
           }
          },
          "scene": {
           "xaxis": {
            "backgroundcolor": "#E5ECF6",
            "gridcolor": "white",
            "gridwidth": 2,
            "linecolor": "white",
            "showbackground": true,
            "ticks": "",
            "zerolinecolor": "white"
           },
           "yaxis": {
            "backgroundcolor": "#E5ECF6",
            "gridcolor": "white",
            "gridwidth": 2,
            "linecolor": "white",
            "showbackground": true,
            "ticks": "",
            "zerolinecolor": "white"
           },
           "zaxis": {
            "backgroundcolor": "#E5ECF6",
            "gridcolor": "white",
            "gridwidth": 2,
            "linecolor": "white",
            "showbackground": true,
            "ticks": "",
            "zerolinecolor": "white"
           }
          },
          "shapedefaults": {
           "line": {
            "color": "#2a3f5f"
           }
          },
          "ternary": {
           "aaxis": {
            "gridcolor": "white",
            "linecolor": "white",
            "ticks": ""
           },
           "baxis": {
            "gridcolor": "white",
            "linecolor": "white",
            "ticks": ""
           },
           "bgcolor": "#E5ECF6",
           "caxis": {
            "gridcolor": "white",
            "linecolor": "white",
            "ticks": ""
           }
          },
          "title": {
           "x": 0.05
          },
          "xaxis": {
           "automargin": true,
           "gridcolor": "white",
           "linecolor": "white",
           "ticks": "",
           "title": {
            "standoff": 15
           },
           "zerolinecolor": "white",
           "zerolinewidth": 2
          },
          "yaxis": {
           "automargin": true,
           "gridcolor": "white",
           "linecolor": "white",
           "ticks": "",
           "title": {
            "standoff": 15
           },
           "zerolinecolor": "white",
           "zerolinewidth": 2
          }
         }
        },
        "title": {
         "text": "Minimum Wage in Florida"
        },
        "xaxis": {
         "anchor": "y",
         "domain": [
          0,
          1
         ],
         "title": {
          "text": "Year"
         }
        },
        "yaxis": {
         "anchor": "x",
         "domain": [
          0,
          1
         ],
         "title": {
          "text": "Minimum Wage"
         }
        }
       }
      }
     },
     "metadata": {},
     "output_type": "display_data"
    }
   ],
   "source": [
    "bar_graph_econ(economic_dim_recess,\n",
    "               'Florida',\n",
    "               'Minimum Wage',\n",
    "               'observation_date',\n",
    "               'Value')"
   ]
  },
  {
   "cell_type": "markdown",
   "metadata": {},
   "source": [
    "Line grpah for total personal income"
   ]
  },
  {
   "cell_type": "code",
   "execution_count": 62,
   "metadata": {},
   "outputs": [],
   "source": [
    "def line_graph_econ(df,selected_state,cat,x,y):\n",
    "      df =df[(df['State'] == selected_state) & (df['Economic Indicator'] == cat)] \n",
    "      df_fig = px.line(df,\n",
    "                  x = x,\n",
    "                  y = y,\n",
    "                  color = 'Indicator',\n",
    "                  symbol= 'Indicator',\n",
    "                  title= cat +' in ' + selected_state\n",
    "                  )\n",
    "      df_fig.update_layout(   xaxis=dict(title='Year' ),\n",
    "                              yaxis=dict(title=cat)\n",
    "      )\n",
    "      return df_fig"
   ]
  },
  {
   "cell_type": "code",
   "execution_count": 63,
   "metadata": {},
   "outputs": [
    {
     "data": {
      "application/vnd.plotly.v1+json": {
       "config": {
        "plotlyServerURL": "https://plot.ly"
       },
       "data": [
        {
         "hovertemplate": "Indicator=Pre Recession<br>observation_date=%{x}<br>Value=%{y}<extra></extra>",
         "legendgroup": "Pre Recession",
         "line": {
          "color": "#636efa",
          "dash": "solid"
         },
         "marker": {
          "symbol": "circle"
         },
         "mode": "lines+markers",
         "name": "Pre Recession",
         "orientation": "v",
         "showlegend": true,
         "type": "scatter",
         "x": [
          "2005-01-01T00:00:00",
          "2006-01-01T00:00:00"
         ],
         "xaxis": "x",
         "y": [
          732005.3,
          810488.1
         ],
         "yaxis": "y"
        },
        {
         "hovertemplate": "Indicator=During Recession<br>observation_date=%{x}<br>Value=%{y}<extra></extra>",
         "legendgroup": "During Recession",
         "line": {
          "color": "#EF553B",
          "dash": "solid"
         },
         "marker": {
          "symbol": "diamond"
         },
         "mode": "lines+markers",
         "name": "During Recession",
         "orientation": "v",
         "showlegend": true,
         "type": "scatter",
         "x": [
          "2007-01-01T00:00:00",
          "2008-01-01T00:00:00",
          "2009-01-01T00:00:00"
         ],
         "xaxis": "x",
         "y": [
          858039.2,
          935125.7,
          937065.7
         ],
         "yaxis": "y"
        },
        {
         "hovertemplate": "Indicator=Post Recession<br>observation_date=%{x}<br>Value=%{y}<extra></extra>",
         "legendgroup": "Post Recession",
         "line": {
          "color": "#00cc96",
          "dash": "solid"
         },
         "marker": {
          "symbol": "square"
         },
         "mode": "lines+markers",
         "name": "Post Recession",
         "orientation": "v",
         "showlegend": true,
         "type": "scatter",
         "x": [
          "2010-01-01T00:00:00",
          "2011-01-01T00:00:00",
          "2012-01-01T00:00:00",
          "2013-01-01T00:00:00",
          "2014-01-01T00:00:00"
         ],
         "xaxis": "x",
         "y": [
          952994.9,
          1053245.2,
          1126725.3,
          1152225.2,
          1229454.9
         ],
         "yaxis": "y"
        }
       ],
       "layout": {
        "legend": {
         "title": {
          "text": "Indicator"
         },
         "tracegroupgap": 0
        },
        "template": {
         "data": {
          "bar": [
           {
            "error_x": {
             "color": "#2a3f5f"
            },
            "error_y": {
             "color": "#2a3f5f"
            },
            "marker": {
             "line": {
              "color": "#E5ECF6",
              "width": 0.5
             },
             "pattern": {
              "fillmode": "overlay",
              "size": 10,
              "solidity": 0.2
             }
            },
            "type": "bar"
           }
          ],
          "barpolar": [
           {
            "marker": {
             "line": {
              "color": "#E5ECF6",
              "width": 0.5
             },
             "pattern": {
              "fillmode": "overlay",
              "size": 10,
              "solidity": 0.2
             }
            },
            "type": "barpolar"
           }
          ],
          "carpet": [
           {
            "aaxis": {
             "endlinecolor": "#2a3f5f",
             "gridcolor": "white",
             "linecolor": "white",
             "minorgridcolor": "white",
             "startlinecolor": "#2a3f5f"
            },
            "baxis": {
             "endlinecolor": "#2a3f5f",
             "gridcolor": "white",
             "linecolor": "white",
             "minorgridcolor": "white",
             "startlinecolor": "#2a3f5f"
            },
            "type": "carpet"
           }
          ],
          "choropleth": [
           {
            "colorbar": {
             "outlinewidth": 0,
             "ticks": ""
            },
            "type": "choropleth"
           }
          ],
          "contour": [
           {
            "colorbar": {
             "outlinewidth": 0,
             "ticks": ""
            },
            "colorscale": [
             [
              0,
              "#0d0887"
             ],
             [
              0.1111111111111111,
              "#46039f"
             ],
             [
              0.2222222222222222,
              "#7201a8"
             ],
             [
              0.3333333333333333,
              "#9c179e"
             ],
             [
              0.4444444444444444,
              "#bd3786"
             ],
             [
              0.5555555555555556,
              "#d8576b"
             ],
             [
              0.6666666666666666,
              "#ed7953"
             ],
             [
              0.7777777777777778,
              "#fb9f3a"
             ],
             [
              0.8888888888888888,
              "#fdca26"
             ],
             [
              1,
              "#f0f921"
             ]
            ],
            "type": "contour"
           }
          ],
          "contourcarpet": [
           {
            "colorbar": {
             "outlinewidth": 0,
             "ticks": ""
            },
            "type": "contourcarpet"
           }
          ],
          "heatmap": [
           {
            "colorbar": {
             "outlinewidth": 0,
             "ticks": ""
            },
            "colorscale": [
             [
              0,
              "#0d0887"
             ],
             [
              0.1111111111111111,
              "#46039f"
             ],
             [
              0.2222222222222222,
              "#7201a8"
             ],
             [
              0.3333333333333333,
              "#9c179e"
             ],
             [
              0.4444444444444444,
              "#bd3786"
             ],
             [
              0.5555555555555556,
              "#d8576b"
             ],
             [
              0.6666666666666666,
              "#ed7953"
             ],
             [
              0.7777777777777778,
              "#fb9f3a"
             ],
             [
              0.8888888888888888,
              "#fdca26"
             ],
             [
              1,
              "#f0f921"
             ]
            ],
            "type": "heatmap"
           }
          ],
          "heatmapgl": [
           {
            "colorbar": {
             "outlinewidth": 0,
             "ticks": ""
            },
            "colorscale": [
             [
              0,
              "#0d0887"
             ],
             [
              0.1111111111111111,
              "#46039f"
             ],
             [
              0.2222222222222222,
              "#7201a8"
             ],
             [
              0.3333333333333333,
              "#9c179e"
             ],
             [
              0.4444444444444444,
              "#bd3786"
             ],
             [
              0.5555555555555556,
              "#d8576b"
             ],
             [
              0.6666666666666666,
              "#ed7953"
             ],
             [
              0.7777777777777778,
              "#fb9f3a"
             ],
             [
              0.8888888888888888,
              "#fdca26"
             ],
             [
              1,
              "#f0f921"
             ]
            ],
            "type": "heatmapgl"
           }
          ],
          "histogram": [
           {
            "marker": {
             "pattern": {
              "fillmode": "overlay",
              "size": 10,
              "solidity": 0.2
             }
            },
            "type": "histogram"
           }
          ],
          "histogram2d": [
           {
            "colorbar": {
             "outlinewidth": 0,
             "ticks": ""
            },
            "colorscale": [
             [
              0,
              "#0d0887"
             ],
             [
              0.1111111111111111,
              "#46039f"
             ],
             [
              0.2222222222222222,
              "#7201a8"
             ],
             [
              0.3333333333333333,
              "#9c179e"
             ],
             [
              0.4444444444444444,
              "#bd3786"
             ],
             [
              0.5555555555555556,
              "#d8576b"
             ],
             [
              0.6666666666666666,
              "#ed7953"
             ],
             [
              0.7777777777777778,
              "#fb9f3a"
             ],
             [
              0.8888888888888888,
              "#fdca26"
             ],
             [
              1,
              "#f0f921"
             ]
            ],
            "type": "histogram2d"
           }
          ],
          "histogram2dcontour": [
           {
            "colorbar": {
             "outlinewidth": 0,
             "ticks": ""
            },
            "colorscale": [
             [
              0,
              "#0d0887"
             ],
             [
              0.1111111111111111,
              "#46039f"
             ],
             [
              0.2222222222222222,
              "#7201a8"
             ],
             [
              0.3333333333333333,
              "#9c179e"
             ],
             [
              0.4444444444444444,
              "#bd3786"
             ],
             [
              0.5555555555555556,
              "#d8576b"
             ],
             [
              0.6666666666666666,
              "#ed7953"
             ],
             [
              0.7777777777777778,
              "#fb9f3a"
             ],
             [
              0.8888888888888888,
              "#fdca26"
             ],
             [
              1,
              "#f0f921"
             ]
            ],
            "type": "histogram2dcontour"
           }
          ],
          "mesh3d": [
           {
            "colorbar": {
             "outlinewidth": 0,
             "ticks": ""
            },
            "type": "mesh3d"
           }
          ],
          "parcoords": [
           {
            "line": {
             "colorbar": {
              "outlinewidth": 0,
              "ticks": ""
             }
            },
            "type": "parcoords"
           }
          ],
          "pie": [
           {
            "automargin": true,
            "type": "pie"
           }
          ],
          "scatter": [
           {
            "fillpattern": {
             "fillmode": "overlay",
             "size": 10,
             "solidity": 0.2
            },
            "type": "scatter"
           }
          ],
          "scatter3d": [
           {
            "line": {
             "colorbar": {
              "outlinewidth": 0,
              "ticks": ""
             }
            },
            "marker": {
             "colorbar": {
              "outlinewidth": 0,
              "ticks": ""
             }
            },
            "type": "scatter3d"
           }
          ],
          "scattercarpet": [
           {
            "marker": {
             "colorbar": {
              "outlinewidth": 0,
              "ticks": ""
             }
            },
            "type": "scattercarpet"
           }
          ],
          "scattergeo": [
           {
            "marker": {
             "colorbar": {
              "outlinewidth": 0,
              "ticks": ""
             }
            },
            "type": "scattergeo"
           }
          ],
          "scattergl": [
           {
            "marker": {
             "colorbar": {
              "outlinewidth": 0,
              "ticks": ""
             }
            },
            "type": "scattergl"
           }
          ],
          "scattermapbox": [
           {
            "marker": {
             "colorbar": {
              "outlinewidth": 0,
              "ticks": ""
             }
            },
            "type": "scattermapbox"
           }
          ],
          "scatterpolar": [
           {
            "marker": {
             "colorbar": {
              "outlinewidth": 0,
              "ticks": ""
             }
            },
            "type": "scatterpolar"
           }
          ],
          "scatterpolargl": [
           {
            "marker": {
             "colorbar": {
              "outlinewidth": 0,
              "ticks": ""
             }
            },
            "type": "scatterpolargl"
           }
          ],
          "scatterternary": [
           {
            "marker": {
             "colorbar": {
              "outlinewidth": 0,
              "ticks": ""
             }
            },
            "type": "scatterternary"
           }
          ],
          "surface": [
           {
            "colorbar": {
             "outlinewidth": 0,
             "ticks": ""
            },
            "colorscale": [
             [
              0,
              "#0d0887"
             ],
             [
              0.1111111111111111,
              "#46039f"
             ],
             [
              0.2222222222222222,
              "#7201a8"
             ],
             [
              0.3333333333333333,
              "#9c179e"
             ],
             [
              0.4444444444444444,
              "#bd3786"
             ],
             [
              0.5555555555555556,
              "#d8576b"
             ],
             [
              0.6666666666666666,
              "#ed7953"
             ],
             [
              0.7777777777777778,
              "#fb9f3a"
             ],
             [
              0.8888888888888888,
              "#fdca26"
             ],
             [
              1,
              "#f0f921"
             ]
            ],
            "type": "surface"
           }
          ],
          "table": [
           {
            "cells": {
             "fill": {
              "color": "#EBF0F8"
             },
             "line": {
              "color": "white"
             }
            },
            "header": {
             "fill": {
              "color": "#C8D4E3"
             },
             "line": {
              "color": "white"
             }
            },
            "type": "table"
           }
          ]
         },
         "layout": {
          "annotationdefaults": {
           "arrowcolor": "#2a3f5f",
           "arrowhead": 0,
           "arrowwidth": 1
          },
          "autotypenumbers": "strict",
          "coloraxis": {
           "colorbar": {
            "outlinewidth": 0,
            "ticks": ""
           }
          },
          "colorscale": {
           "diverging": [
            [
             0,
             "#8e0152"
            ],
            [
             0.1,
             "#c51b7d"
            ],
            [
             0.2,
             "#de77ae"
            ],
            [
             0.3,
             "#f1b6da"
            ],
            [
             0.4,
             "#fde0ef"
            ],
            [
             0.5,
             "#f7f7f7"
            ],
            [
             0.6,
             "#e6f5d0"
            ],
            [
             0.7,
             "#b8e186"
            ],
            [
             0.8,
             "#7fbc41"
            ],
            [
             0.9,
             "#4d9221"
            ],
            [
             1,
             "#276419"
            ]
           ],
           "sequential": [
            [
             0,
             "#0d0887"
            ],
            [
             0.1111111111111111,
             "#46039f"
            ],
            [
             0.2222222222222222,
             "#7201a8"
            ],
            [
             0.3333333333333333,
             "#9c179e"
            ],
            [
             0.4444444444444444,
             "#bd3786"
            ],
            [
             0.5555555555555556,
             "#d8576b"
            ],
            [
             0.6666666666666666,
             "#ed7953"
            ],
            [
             0.7777777777777778,
             "#fb9f3a"
            ],
            [
             0.8888888888888888,
             "#fdca26"
            ],
            [
             1,
             "#f0f921"
            ]
           ],
           "sequentialminus": [
            [
             0,
             "#0d0887"
            ],
            [
             0.1111111111111111,
             "#46039f"
            ],
            [
             0.2222222222222222,
             "#7201a8"
            ],
            [
             0.3333333333333333,
             "#9c179e"
            ],
            [
             0.4444444444444444,
             "#bd3786"
            ],
            [
             0.5555555555555556,
             "#d8576b"
            ],
            [
             0.6666666666666666,
             "#ed7953"
            ],
            [
             0.7777777777777778,
             "#fb9f3a"
            ],
            [
             0.8888888888888888,
             "#fdca26"
            ],
            [
             1,
             "#f0f921"
            ]
           ]
          },
          "colorway": [
           "#636efa",
           "#EF553B",
           "#00cc96",
           "#ab63fa",
           "#FFA15A",
           "#19d3f3",
           "#FF6692",
           "#B6E880",
           "#FF97FF",
           "#FECB52"
          ],
          "font": {
           "color": "#2a3f5f"
          },
          "geo": {
           "bgcolor": "white",
           "lakecolor": "white",
           "landcolor": "#E5ECF6",
           "showlakes": true,
           "showland": true,
           "subunitcolor": "white"
          },
          "hoverlabel": {
           "align": "left"
          },
          "hovermode": "closest",
          "mapbox": {
           "style": "light"
          },
          "paper_bgcolor": "white",
          "plot_bgcolor": "#E5ECF6",
          "polar": {
           "angularaxis": {
            "gridcolor": "white",
            "linecolor": "white",
            "ticks": ""
           },
           "bgcolor": "#E5ECF6",
           "radialaxis": {
            "gridcolor": "white",
            "linecolor": "white",
            "ticks": ""
           }
          },
          "scene": {
           "xaxis": {
            "backgroundcolor": "#E5ECF6",
            "gridcolor": "white",
            "gridwidth": 2,
            "linecolor": "white",
            "showbackground": true,
            "ticks": "",
            "zerolinecolor": "white"
           },
           "yaxis": {
            "backgroundcolor": "#E5ECF6",
            "gridcolor": "white",
            "gridwidth": 2,
            "linecolor": "white",
            "showbackground": true,
            "ticks": "",
            "zerolinecolor": "white"
           },
           "zaxis": {
            "backgroundcolor": "#E5ECF6",
            "gridcolor": "white",
            "gridwidth": 2,
            "linecolor": "white",
            "showbackground": true,
            "ticks": "",
            "zerolinecolor": "white"
           }
          },
          "shapedefaults": {
           "line": {
            "color": "#2a3f5f"
           }
          },
          "ternary": {
           "aaxis": {
            "gridcolor": "white",
            "linecolor": "white",
            "ticks": ""
           },
           "baxis": {
            "gridcolor": "white",
            "linecolor": "white",
            "ticks": ""
           },
           "bgcolor": "#E5ECF6",
           "caxis": {
            "gridcolor": "white",
            "linecolor": "white",
            "ticks": ""
           }
          },
          "title": {
           "x": 0.05
          },
          "xaxis": {
           "automargin": true,
           "gridcolor": "white",
           "linecolor": "white",
           "ticks": "",
           "title": {
            "standoff": 15
           },
           "zerolinecolor": "white",
           "zerolinewidth": 2
          },
          "yaxis": {
           "automargin": true,
           "gridcolor": "white",
           "linecolor": "white",
           "ticks": "",
           "title": {
            "standoff": 15
           },
           "zerolinecolor": "white",
           "zerolinewidth": 2
          }
         }
        },
        "title": {
         "text": "Total Personal Income in Texas"
        },
        "xaxis": {
         "anchor": "y",
         "domain": [
          0,
          1
         ],
         "title": {
          "text": "Year"
         }
        },
        "yaxis": {
         "anchor": "x",
         "domain": [
          0,
          1
         ],
         "title": {
          "text": "Total Personal Income"
         }
        }
       }
      }
     },
     "metadata": {},
     "output_type": "display_data"
    }
   ],
   "source": [
    "line_graph_econ(economic_dim_recess,\n",
    "                'Texas',\n",
    "                'Total Personal Income',\n",
    "               'observation_date',\n",
    "               'Value')"
   ]
  },
  {
   "cell_type": "code",
   "execution_count": 64,
   "metadata": {},
   "outputs": [],
   "source": [
    "def econ_analy_box(df,selected_state,cat):\n",
    "     df = df[(df['State'] == selected_state) & (df['Economic Indicator'] == cat)]\n",
    "     analy_box = px.box(df,\n",
    "                  x = 'Indicator',\n",
    "                  y = 'Value',\n",
    "                  color = 'Indicator',\n",
    "                  notched= True,\n",
    "                  title=  'Civil Labor Force ' +'in ' + selected_state\n",
    "                  )\n",
    "     return analy_box"
   ]
  },
  {
   "cell_type": "code",
   "execution_count": 65,
   "metadata": {},
   "outputs": [
    {
     "data": {
      "application/vnd.plotly.v1+json": {
       "config": {
        "plotlyServerURL": "https://plot.ly"
       },
       "data": [
        {
         "alignmentgroup": "True",
         "hovertemplate": "Indicator=%{x}<br>Value=%{y}<extra></extra>",
         "legendgroup": "Pre Recession",
         "marker": {
          "color": "#636efa"
         },
         "name": "Pre Recession",
         "notched": true,
         "offsetgroup": "Pre Recession",
         "orientation": "v",
         "showlegend": true,
         "type": "box",
         "x": [
          "Pre Recession",
          "Pre Recession"
         ],
         "x0": " ",
         "xaxis": "x",
         "y": [
          9395352,
          9522997
         ],
         "y0": " ",
         "yaxis": "y"
        },
        {
         "alignmentgroup": "True",
         "hovertemplate": "Indicator=%{x}<br>Value=%{y}<extra></extra>",
         "legendgroup": "During Recession",
         "marker": {
          "color": "#EF553B"
         },
         "name": "During Recession",
         "notched": true,
         "offsetgroup": "During Recession",
         "orientation": "v",
         "showlegend": true,
         "type": "box",
         "x": [
          "During Recession",
          "During Recession",
          "During Recession"
         ],
         "x0": " ",
         "xaxis": "x",
         "y": [
          9499799,
          9577044,
          9719617
         ],
         "y0": " ",
         "yaxis": "y"
        },
        {
         "alignmentgroup": "True",
         "hovertemplate": "Indicator=%{x}<br>Value=%{y}<extra></extra>",
         "legendgroup": "Post Recession",
         "marker": {
          "color": "#00cc96"
         },
         "name": "Post Recession",
         "notched": true,
         "offsetgroup": "Post Recession",
         "orientation": "v",
         "showlegend": true,
         "type": "box",
         "x": [
          "Post Recession",
          "Post Recession",
          "Post Recession",
          "Post Recession",
          "Post Recession"
         ],
         "x0": " ",
         "xaxis": "x",
         "y": [
          9644070,
          9559651,
          9564435,
          9643243,
          9568507
         ],
         "y0": " ",
         "yaxis": "y"
        }
       ],
       "layout": {
        "boxmode": "overlay",
        "legend": {
         "title": {
          "text": "Indicator"
         },
         "tracegroupgap": 0
        },
        "template": {
         "data": {
          "bar": [
           {
            "error_x": {
             "color": "#2a3f5f"
            },
            "error_y": {
             "color": "#2a3f5f"
            },
            "marker": {
             "line": {
              "color": "#E5ECF6",
              "width": 0.5
             },
             "pattern": {
              "fillmode": "overlay",
              "size": 10,
              "solidity": 0.2
             }
            },
            "type": "bar"
           }
          ],
          "barpolar": [
           {
            "marker": {
             "line": {
              "color": "#E5ECF6",
              "width": 0.5
             },
             "pattern": {
              "fillmode": "overlay",
              "size": 10,
              "solidity": 0.2
             }
            },
            "type": "barpolar"
           }
          ],
          "carpet": [
           {
            "aaxis": {
             "endlinecolor": "#2a3f5f",
             "gridcolor": "white",
             "linecolor": "white",
             "minorgridcolor": "white",
             "startlinecolor": "#2a3f5f"
            },
            "baxis": {
             "endlinecolor": "#2a3f5f",
             "gridcolor": "white",
             "linecolor": "white",
             "minorgridcolor": "white",
             "startlinecolor": "#2a3f5f"
            },
            "type": "carpet"
           }
          ],
          "choropleth": [
           {
            "colorbar": {
             "outlinewidth": 0,
             "ticks": ""
            },
            "type": "choropleth"
           }
          ],
          "contour": [
           {
            "colorbar": {
             "outlinewidth": 0,
             "ticks": ""
            },
            "colorscale": [
             [
              0,
              "#0d0887"
             ],
             [
              0.1111111111111111,
              "#46039f"
             ],
             [
              0.2222222222222222,
              "#7201a8"
             ],
             [
              0.3333333333333333,
              "#9c179e"
             ],
             [
              0.4444444444444444,
              "#bd3786"
             ],
             [
              0.5555555555555556,
              "#d8576b"
             ],
             [
              0.6666666666666666,
              "#ed7953"
             ],
             [
              0.7777777777777778,
              "#fb9f3a"
             ],
             [
              0.8888888888888888,
              "#fdca26"
             ],
             [
              1,
              "#f0f921"
             ]
            ],
            "type": "contour"
           }
          ],
          "contourcarpet": [
           {
            "colorbar": {
             "outlinewidth": 0,
             "ticks": ""
            },
            "type": "contourcarpet"
           }
          ],
          "heatmap": [
           {
            "colorbar": {
             "outlinewidth": 0,
             "ticks": ""
            },
            "colorscale": [
             [
              0,
              "#0d0887"
             ],
             [
              0.1111111111111111,
              "#46039f"
             ],
             [
              0.2222222222222222,
              "#7201a8"
             ],
             [
              0.3333333333333333,
              "#9c179e"
             ],
             [
              0.4444444444444444,
              "#bd3786"
             ],
             [
              0.5555555555555556,
              "#d8576b"
             ],
             [
              0.6666666666666666,
              "#ed7953"
             ],
             [
              0.7777777777777778,
              "#fb9f3a"
             ],
             [
              0.8888888888888888,
              "#fdca26"
             ],
             [
              1,
              "#f0f921"
             ]
            ],
            "type": "heatmap"
           }
          ],
          "heatmapgl": [
           {
            "colorbar": {
             "outlinewidth": 0,
             "ticks": ""
            },
            "colorscale": [
             [
              0,
              "#0d0887"
             ],
             [
              0.1111111111111111,
              "#46039f"
             ],
             [
              0.2222222222222222,
              "#7201a8"
             ],
             [
              0.3333333333333333,
              "#9c179e"
             ],
             [
              0.4444444444444444,
              "#bd3786"
             ],
             [
              0.5555555555555556,
              "#d8576b"
             ],
             [
              0.6666666666666666,
              "#ed7953"
             ],
             [
              0.7777777777777778,
              "#fb9f3a"
             ],
             [
              0.8888888888888888,
              "#fdca26"
             ],
             [
              1,
              "#f0f921"
             ]
            ],
            "type": "heatmapgl"
           }
          ],
          "histogram": [
           {
            "marker": {
             "pattern": {
              "fillmode": "overlay",
              "size": 10,
              "solidity": 0.2
             }
            },
            "type": "histogram"
           }
          ],
          "histogram2d": [
           {
            "colorbar": {
             "outlinewidth": 0,
             "ticks": ""
            },
            "colorscale": [
             [
              0,
              "#0d0887"
             ],
             [
              0.1111111111111111,
              "#46039f"
             ],
             [
              0.2222222222222222,
              "#7201a8"
             ],
             [
              0.3333333333333333,
              "#9c179e"
             ],
             [
              0.4444444444444444,
              "#bd3786"
             ],
             [
              0.5555555555555556,
              "#d8576b"
             ],
             [
              0.6666666666666666,
              "#ed7953"
             ],
             [
              0.7777777777777778,
              "#fb9f3a"
             ],
             [
              0.8888888888888888,
              "#fdca26"
             ],
             [
              1,
              "#f0f921"
             ]
            ],
            "type": "histogram2d"
           }
          ],
          "histogram2dcontour": [
           {
            "colorbar": {
             "outlinewidth": 0,
             "ticks": ""
            },
            "colorscale": [
             [
              0,
              "#0d0887"
             ],
             [
              0.1111111111111111,
              "#46039f"
             ],
             [
              0.2222222222222222,
              "#7201a8"
             ],
             [
              0.3333333333333333,
              "#9c179e"
             ],
             [
              0.4444444444444444,
              "#bd3786"
             ],
             [
              0.5555555555555556,
              "#d8576b"
             ],
             [
              0.6666666666666666,
              "#ed7953"
             ],
             [
              0.7777777777777778,
              "#fb9f3a"
             ],
             [
              0.8888888888888888,
              "#fdca26"
             ],
             [
              1,
              "#f0f921"
             ]
            ],
            "type": "histogram2dcontour"
           }
          ],
          "mesh3d": [
           {
            "colorbar": {
             "outlinewidth": 0,
             "ticks": ""
            },
            "type": "mesh3d"
           }
          ],
          "parcoords": [
           {
            "line": {
             "colorbar": {
              "outlinewidth": 0,
              "ticks": ""
             }
            },
            "type": "parcoords"
           }
          ],
          "pie": [
           {
            "automargin": true,
            "type": "pie"
           }
          ],
          "scatter": [
           {
            "fillpattern": {
             "fillmode": "overlay",
             "size": 10,
             "solidity": 0.2
            },
            "type": "scatter"
           }
          ],
          "scatter3d": [
           {
            "line": {
             "colorbar": {
              "outlinewidth": 0,
              "ticks": ""
             }
            },
            "marker": {
             "colorbar": {
              "outlinewidth": 0,
              "ticks": ""
             }
            },
            "type": "scatter3d"
           }
          ],
          "scattercarpet": [
           {
            "marker": {
             "colorbar": {
              "outlinewidth": 0,
              "ticks": ""
             }
            },
            "type": "scattercarpet"
           }
          ],
          "scattergeo": [
           {
            "marker": {
             "colorbar": {
              "outlinewidth": 0,
              "ticks": ""
             }
            },
            "type": "scattergeo"
           }
          ],
          "scattergl": [
           {
            "marker": {
             "colorbar": {
              "outlinewidth": 0,
              "ticks": ""
             }
            },
            "type": "scattergl"
           }
          ],
          "scattermapbox": [
           {
            "marker": {
             "colorbar": {
              "outlinewidth": 0,
              "ticks": ""
             }
            },
            "type": "scattermapbox"
           }
          ],
          "scatterpolar": [
           {
            "marker": {
             "colorbar": {
              "outlinewidth": 0,
              "ticks": ""
             }
            },
            "type": "scatterpolar"
           }
          ],
          "scatterpolargl": [
           {
            "marker": {
             "colorbar": {
              "outlinewidth": 0,
              "ticks": ""
             }
            },
            "type": "scatterpolargl"
           }
          ],
          "scatterternary": [
           {
            "marker": {
             "colorbar": {
              "outlinewidth": 0,
              "ticks": ""
             }
            },
            "type": "scatterternary"
           }
          ],
          "surface": [
           {
            "colorbar": {
             "outlinewidth": 0,
             "ticks": ""
            },
            "colorscale": [
             [
              0,
              "#0d0887"
             ],
             [
              0.1111111111111111,
              "#46039f"
             ],
             [
              0.2222222222222222,
              "#7201a8"
             ],
             [
              0.3333333333333333,
              "#9c179e"
             ],
             [
              0.4444444444444444,
              "#bd3786"
             ],
             [
              0.5555555555555556,
              "#d8576b"
             ],
             [
              0.6666666666666666,
              "#ed7953"
             ],
             [
              0.7777777777777778,
              "#fb9f3a"
             ],
             [
              0.8888888888888888,
              "#fdca26"
             ],
             [
              1,
              "#f0f921"
             ]
            ],
            "type": "surface"
           }
          ],
          "table": [
           {
            "cells": {
             "fill": {
              "color": "#EBF0F8"
             },
             "line": {
              "color": "white"
             }
            },
            "header": {
             "fill": {
              "color": "#C8D4E3"
             },
             "line": {
              "color": "white"
             }
            },
            "type": "table"
           }
          ]
         },
         "layout": {
          "annotationdefaults": {
           "arrowcolor": "#2a3f5f",
           "arrowhead": 0,
           "arrowwidth": 1
          },
          "autotypenumbers": "strict",
          "coloraxis": {
           "colorbar": {
            "outlinewidth": 0,
            "ticks": ""
           }
          },
          "colorscale": {
           "diverging": [
            [
             0,
             "#8e0152"
            ],
            [
             0.1,
             "#c51b7d"
            ],
            [
             0.2,
             "#de77ae"
            ],
            [
             0.3,
             "#f1b6da"
            ],
            [
             0.4,
             "#fde0ef"
            ],
            [
             0.5,
             "#f7f7f7"
            ],
            [
             0.6,
             "#e6f5d0"
            ],
            [
             0.7,
             "#b8e186"
            ],
            [
             0.8,
             "#7fbc41"
            ],
            [
             0.9,
             "#4d9221"
            ],
            [
             1,
             "#276419"
            ]
           ],
           "sequential": [
            [
             0,
             "#0d0887"
            ],
            [
             0.1111111111111111,
             "#46039f"
            ],
            [
             0.2222222222222222,
             "#7201a8"
            ],
            [
             0.3333333333333333,
             "#9c179e"
            ],
            [
             0.4444444444444444,
             "#bd3786"
            ],
            [
             0.5555555555555556,
             "#d8576b"
            ],
            [
             0.6666666666666666,
             "#ed7953"
            ],
            [
             0.7777777777777778,
             "#fb9f3a"
            ],
            [
             0.8888888888888888,
             "#fdca26"
            ],
            [
             1,
             "#f0f921"
            ]
           ],
           "sequentialminus": [
            [
             0,
             "#0d0887"
            ],
            [
             0.1111111111111111,
             "#46039f"
            ],
            [
             0.2222222222222222,
             "#7201a8"
            ],
            [
             0.3333333333333333,
             "#9c179e"
            ],
            [
             0.4444444444444444,
             "#bd3786"
            ],
            [
             0.5555555555555556,
             "#d8576b"
            ],
            [
             0.6666666666666666,
             "#ed7953"
            ],
            [
             0.7777777777777778,
             "#fb9f3a"
            ],
            [
             0.8888888888888888,
             "#fdca26"
            ],
            [
             1,
             "#f0f921"
            ]
           ]
          },
          "colorway": [
           "#636efa",
           "#EF553B",
           "#00cc96",
           "#ab63fa",
           "#FFA15A",
           "#19d3f3",
           "#FF6692",
           "#B6E880",
           "#FF97FF",
           "#FECB52"
          ],
          "font": {
           "color": "#2a3f5f"
          },
          "geo": {
           "bgcolor": "white",
           "lakecolor": "white",
           "landcolor": "#E5ECF6",
           "showlakes": true,
           "showland": true,
           "subunitcolor": "white"
          },
          "hoverlabel": {
           "align": "left"
          },
          "hovermode": "closest",
          "mapbox": {
           "style": "light"
          },
          "paper_bgcolor": "white",
          "plot_bgcolor": "#E5ECF6",
          "polar": {
           "angularaxis": {
            "gridcolor": "white",
            "linecolor": "white",
            "ticks": ""
           },
           "bgcolor": "#E5ECF6",
           "radialaxis": {
            "gridcolor": "white",
            "linecolor": "white",
            "ticks": ""
           }
          },
          "scene": {
           "xaxis": {
            "backgroundcolor": "#E5ECF6",
            "gridcolor": "white",
            "gridwidth": 2,
            "linecolor": "white",
            "showbackground": true,
            "ticks": "",
            "zerolinecolor": "white"
           },
           "yaxis": {
            "backgroundcolor": "#E5ECF6",
            "gridcolor": "white",
            "gridwidth": 2,
            "linecolor": "white",
            "showbackground": true,
            "ticks": "",
            "zerolinecolor": "white"
           },
           "zaxis": {
            "backgroundcolor": "#E5ECF6",
            "gridcolor": "white",
            "gridwidth": 2,
            "linecolor": "white",
            "showbackground": true,
            "ticks": "",
            "zerolinecolor": "white"
           }
          },
          "shapedefaults": {
           "line": {
            "color": "#2a3f5f"
           }
          },
          "ternary": {
           "aaxis": {
            "gridcolor": "white",
            "linecolor": "white",
            "ticks": ""
           },
           "baxis": {
            "gridcolor": "white",
            "linecolor": "white",
            "ticks": ""
           },
           "bgcolor": "#E5ECF6",
           "caxis": {
            "gridcolor": "white",
            "linecolor": "white",
            "ticks": ""
           }
          },
          "title": {
           "x": 0.05
          },
          "xaxis": {
           "automargin": true,
           "gridcolor": "white",
           "linecolor": "white",
           "ticks": "",
           "title": {
            "standoff": 15
           },
           "zerolinecolor": "white",
           "zerolinewidth": 2
          },
          "yaxis": {
           "automargin": true,
           "gridcolor": "white",
           "linecolor": "white",
           "ticks": "",
           "title": {
            "standoff": 15
           },
           "zerolinecolor": "white",
           "zerolinewidth": 2
          }
         }
        },
        "title": {
         "text": "Civil Labor Force in New York"
        },
        "xaxis": {
         "anchor": "y",
         "categoryarray": [
          "Pre Recession",
          "During Recession",
          "Post Recession"
         ],
         "categoryorder": "array",
         "domain": [
          0,
          1
         ],
         "title": {
          "text": "Indicator"
         }
        },
        "yaxis": {
         "anchor": "x",
         "domain": [
          0,
          1
         ],
         "title": {
          "text": "Value"
         }
        }
       }
      }
     },
     "metadata": {},
     "output_type": "display_data"
    }
   ],
   "source": [
    "econ_analy_box(economic_dim_recess,\n",
    "               'New York',\n",
    "               'Civil Labor Force')"
   ]
  },
  {
   "cell_type": "markdown",
   "metadata": {},
   "source": [
    "Econimic Recession Analysis Graph Line"
   ]
  },
  {
   "cell_type": "code",
   "execution_count": 66,
   "metadata": {},
   "outputs": [],
   "source": [
    "economic_indi_drop = list(economic_dim_recess['Economic Indicator'].sort_values().unique())\n",
    "\n",
    "select_econ_Type_recess = dcc_dropdown(economic_indi_drop,economic_indi_drop[0],'econ_type')\n",
    "#select_unemprate = dcc_dropdown(selectunemprate_unique,selectunemprate_unique[0],'rate')\n",
    "\n",
    "line_all_econ_recess = dcc.Graph(id = 'figure_Line_econ_recess')\n",
    "\n",
    "@app.callback(\n",
    "        Output('figure_Line_econ_recess', \"figure\"), \n",
    "        [Input(\"econ_type\", \"value\")]\n",
    ")\n",
    "def update_line_all_econ_recess(selected_type):\n",
    "    return line_graph_econ_1(economic_dim_recess,\n",
    "                selected_type,\n",
    "                'State',\n",
    "                'observation_date',\n",
    "                'Value')"
   ]
  },
  {
   "cell_type": "code",
   "execution_count": 67,
   "metadata": {},
   "outputs": [
    {
     "data": {
      "text/plain": [
       "['Civil Labor Force',\n",
       " 'Minimum Wage',\n",
       " 'Per Capita Per Person',\n",
       " 'Total Personal Income']"
      ]
     },
     "execution_count": 67,
     "metadata": {},
     "output_type": "execute_result"
    }
   ],
   "source": [
    "economic_indi_drop"
   ]
  },
  {
   "cell_type": "markdown",
   "metadata": {},
   "source": [
    "Total Personal Income line Graph"
   ]
  },
  {
   "cell_type": "code",
   "execution_count": 68,
   "metadata": {},
   "outputs": [],
   "source": [
    "def line_graph_econ(df,selected_state,cat,x,y):\n",
    "      df =df[(df['State'] == selected_state) & (df['Economic Indicator'] == cat)] \n",
    "      df_fig = px.line(df,\n",
    "                  x = x,\n",
    "                  y = y,\n",
    "                  color = 'Indicator',\n",
    "                  symbol= 'Indicator',\n",
    "                  title= cat +' in ' + selected_state\n",
    "                  )\n",
    "      df_fig.update_layout(   xaxis=dict(title='Year' ),\n",
    "                              yaxis=dict(title=cat)\n",
    "      )\n",
    "      return df_fig"
   ]
  },
  {
   "cell_type": "code",
   "execution_count": 69,
   "metadata": {},
   "outputs": [],
   "source": [
    "economic_state_drop = list(economic_dim_recess['State'].sort_values().unique())\n",
    "\n",
    "select_econ_state_recess = dcc_dropdown(economic_state_drop,economic_state_drop[0],'econ_state')\n",
    "#select_unemprate = dcc_dropdown(selectunemprate_unique,selectunemprate_unique[0],'rate')\n",
    "\n",
    "line_state_econ_recess = dcc.Graph(id = 'figure_Line_econ_recess_state')\n",
    "\n",
    "@app.callback(\n",
    "        Output('figure_Line_econ_recess_state', \"figure\"), \n",
    "        [Input(\"econ_state\", \"value\")]\n",
    ")\n",
    "def update_line_state_econ_recess(selected_type):\n",
    "    return line_graph_econ(economic_dim_recess,\n",
    "                selected_type,\n",
    "                'Total Personal Income',\n",
    "               'observation_date',\n",
    "               'Value')"
   ]
  },
  {
   "cell_type": "markdown",
   "metadata": {},
   "source": [
    "bar chart for economic recession MInimum wage"
   ]
  },
  {
   "cell_type": "code",
   "execution_count": 70,
   "metadata": {},
   "outputs": [],
   "source": [
    "economic_state_drop = list(economic_dim_recess['State'].sort_values().unique())\n",
    "\n",
    "select_econ_state_recess = dcc_dropdown(economic_state_drop,economic_state_drop[0],'econ_state')\n",
    "#select_unemprate = dcc_dropdown(selectunemprate_unique,selectunemprate_unique[0],'rate')\n",
    "\n",
    "bar_state_econ_recess = dcc.Graph(id = 'figure_bar_econ_recess_state')\n",
    "\n",
    "@app.callback(\n",
    "        Output('figure_bar_econ_recess_state', \"figure\"), \n",
    "        [Input(\"econ_state\", \"value\")]\n",
    ")\n",
    "def update_bar_state_econ_recess(selected_type):\n",
    "    return bar_graph_econ(economic_dim_recess,\n",
    "               selected_type,\n",
    "               'Minimum Wage',\n",
    "               'observation_date',\n",
    "               'Value')"
   ]
  },
  {
   "cell_type": "markdown",
   "metadata": {},
   "source": [
    "Box plot for economic labor force"
   ]
  },
  {
   "cell_type": "code",
   "execution_count": 71,
   "metadata": {},
   "outputs": [],
   "source": [
    "economic_state_drop = list(economic_dim_recess['State'].sort_values().unique())\n",
    "\n",
    "select_econ_state_recess = dcc_dropdown(economic_state_drop,economic_state_drop[0],'econ_state')\n",
    "#select_unemprate = dcc_dropdown(selectunemprate_unique,selectunemprate_unique[0],'rate')\n",
    "\n",
    "box_state_econ_recess = dcc.Graph(id = 'figure_box_econ_recess_state')\n",
    "\n",
    "@app.callback(\n",
    "        Output('figure_box_econ_recess_state', \"figure\"), \n",
    "        [Input(\"econ_state\", \"value\")]\n",
    ")\n",
    "def update_bar_state_econ_recess(selected_type):\n",
    "    return econ_analy_box(economic_dim_recess,\n",
    "               selected_type,\n",
    "               'Civil Labor Force')"
   ]
  },
  {
   "cell_type": "code",
   "execution_count": 72,
   "metadata": {},
   "outputs": [],
   "source": [
    "economic_state_drop = list(economic_dim_recess['State'].sort_values().unique())\n",
    "\n",
    "select_econ_state_recess = dcc_dropdown(economic_state_drop,economic_state_drop[0],'econ_state')\n",
    "#select_unemprate = dcc_dropdown(selectunemprate_unique,selectunemprate_unique[0],'rate')\n",
    "\n",
    "line_extra_state_econ_recess = dcc.Graph(id = 'figure_Line_extra_econ_recess_state')\n",
    "\n",
    "@app.callback(\n",
    "        Output('figure_Line_extra_econ_recess_state', \"figure\"), \n",
    "        [Input(\"econ_state\", \"value\")]\n",
    ")\n",
    "def update_line_extra_state_econ_recess(selected_type):\n",
    "    return line_graph_econ(economic_dim_recess,\n",
    "                selected_type,\n",
    "                'Civil Labor Force',\n",
    "               'observation_date',\n",
    "               'Value')"
   ]
  },
  {
   "cell_type": "markdown",
   "metadata": {},
   "source": [
    "Economy Recession tab"
   ]
  },
  {
   "cell_type": "code",
   "execution_count": 73,
   "metadata": {},
   "outputs": [],
   "source": [
    "drop_down_9_tab = dbc.Card([\n",
    "    card(\"Economic Well-Being Recession Analysis\"),\n",
    "    dbc.Row([\n",
    "                dbc.Col(dropdown(\"Economic Indicator\",dcc_dropdown(economic_indi_drop,economic_indi_drop[0],'econ_type')),width=5)\n",
    "                ]),\n",
    "    dbc.Row([\n",
    "                dbc.Col(tab_graph(\"Economic Well Being Comparision by State\",line_all_econ_recess ))\n",
    "    ]),\n",
    "    dbc.Row([\n",
    "                dbc.Col(dropdown(\"Select a State\",dcc_dropdown(economic_state_drop,economic_state_drop[0],'econ_state')),width=5)\n",
    "                ]),\n",
    "    dbc.Row([\n",
    "                dbc.Col(html.Div(tab_graph(\"Total Personal Income Comparision (Recession)\",line_state_econ_recess)),width=6),\n",
    "                dbc.Col(html.Div(tab_graph(\"Minimum Wage Comparision(Recession)\",bar_state_econ_recess)),width=6),\n",
    "                dbc.Col(html.Div(tab_graph(\"Civil Labor Force Median Comparision(Recession)\",box_state_econ_recess)),width=6),\n",
    "                dbc.Col(html.Div(tab_graph(\"Civil Labor Force Comparision(Recession)\",line_extra_state_econ_recess)),width=6)\n",
    "    ])\n",
    "])"
   ]
  },
  {
   "cell_type": "code",
   "execution_count": 74,
   "metadata": {},
   "outputs": [
    {
     "data": {
      "text/html": [
       "<div>\n",
       "<style scoped>\n",
       "    .dataframe tbody tr th:only-of-type {\n",
       "        vertical-align: middle;\n",
       "    }\n",
       "\n",
       "    .dataframe tbody tr th {\n",
       "        vertical-align: top;\n",
       "    }\n",
       "\n",
       "    .dataframe thead th {\n",
       "        text-align: right;\n",
       "    }\n",
       "</style>\n",
       "<table border=\"1\" class=\"dataframe\">\n",
       "  <thead>\n",
       "    <tr style=\"text-align: right;\">\n",
       "      <th></th>\n",
       "      <th>observation_date</th>\n",
       "      <th>State</th>\n",
       "      <th>Economic Indicator</th>\n",
       "      <th>Value</th>\n",
       "      <th>Indicator</th>\n",
       "    </tr>\n",
       "  </thead>\n",
       "  <tbody>\n",
       "    <tr>\n",
       "      <th>271</th>\n",
       "      <td>2016-01-01</td>\n",
       "      <td>Texas</td>\n",
       "      <td>Total Personal Income</td>\n",
       "      <td>1262423.30</td>\n",
       "      <td>Pre Covid</td>\n",
       "    </tr>\n",
       "    <tr>\n",
       "      <th>270</th>\n",
       "      <td>2016-01-01</td>\n",
       "      <td>Texas</td>\n",
       "      <td>Per Capita Per Person</td>\n",
       "      <td>45862.00</td>\n",
       "      <td>Pre Covid</td>\n",
       "    </tr>\n",
       "    <tr>\n",
       "      <th>269</th>\n",
       "      <td>2016-01-01</td>\n",
       "      <td>Texas</td>\n",
       "      <td>Minimum Wage</td>\n",
       "      <td>7.25</td>\n",
       "      <td>Pre Covid</td>\n",
       "    </tr>\n",
       "    <tr>\n",
       "      <th>268</th>\n",
       "      <td>2016-01-01</td>\n",
       "      <td>Texas</td>\n",
       "      <td>Civil Labor Force</td>\n",
       "      <td>13224910.00</td>\n",
       "      <td>Pre Covid</td>\n",
       "    </tr>\n",
       "    <tr>\n",
       "      <th>267</th>\n",
       "      <td>2016-01-01</td>\n",
       "      <td>New York</td>\n",
       "      <td>Total Personal Income</td>\n",
       "      <td>1165397.60</td>\n",
       "      <td>Pre Covid</td>\n",
       "    </tr>\n",
       "    <tr>\n",
       "      <th>...</th>\n",
       "      <td>...</td>\n",
       "      <td>...</td>\n",
       "      <td>...</td>\n",
       "      <td>...</td>\n",
       "      <td>...</td>\n",
       "    </tr>\n",
       "    <tr>\n",
       "      <th>353</th>\n",
       "      <td>2022-01-01</td>\n",
       "      <td>California</td>\n",
       "      <td>Minimum Wage</td>\n",
       "      <td>14.00</td>\n",
       "      <td>Post Covid</td>\n",
       "    </tr>\n",
       "    <tr>\n",
       "      <th>352</th>\n",
       "      <td>2022-01-01</td>\n",
       "      <td>California</td>\n",
       "      <td>Civil Labor Force</td>\n",
       "      <td>19200001.00</td>\n",
       "      <td>Post Covid</td>\n",
       "    </tr>\n",
       "    <tr>\n",
       "      <th>366</th>\n",
       "      <td>2022-01-01</td>\n",
       "      <td>Texas</td>\n",
       "      <td>Per Capita Per Person</td>\n",
       "      <td>62586.00</td>\n",
       "      <td>Post Covid</td>\n",
       "    </tr>\n",
       "    <tr>\n",
       "      <th>358</th>\n",
       "      <td>2022-01-01</td>\n",
       "      <td>Florida</td>\n",
       "      <td>Per Capita Per Person</td>\n",
       "      <td>64806.00</td>\n",
       "      <td>Post Covid</td>\n",
       "    </tr>\n",
       "    <tr>\n",
       "      <th>367</th>\n",
       "      <td>2022-01-01</td>\n",
       "      <td>Texas</td>\n",
       "      <td>Total Personal Income</td>\n",
       "      <td>1825797.90</td>\n",
       "      <td>Post Covid</td>\n",
       "    </tr>\n",
       "  </tbody>\n",
       "</table>\n",
       "<p>112 rows × 5 columns</p>\n",
       "</div>"
      ],
      "text/plain": [
       "    observation_date       State     Economic Indicator        Value  \\\n",
       "271       2016-01-01       Texas  Total Personal Income   1262423.30   \n",
       "270       2016-01-01       Texas  Per Capita Per Person     45862.00   \n",
       "269       2016-01-01       Texas           Minimum Wage         7.25   \n",
       "268       2016-01-01       Texas      Civil Labor Force  13224910.00   \n",
       "267       2016-01-01    New York  Total Personal Income   1165397.60   \n",
       "..               ...         ...                    ...          ...   \n",
       "353       2022-01-01  California           Minimum Wage        14.00   \n",
       "352       2022-01-01  California      Civil Labor Force  19200001.00   \n",
       "366       2022-01-01       Texas  Per Capita Per Person     62586.00   \n",
       "358       2022-01-01     Florida  Per Capita Per Person     64806.00   \n",
       "367       2022-01-01       Texas  Total Personal Income   1825797.90   \n",
       "\n",
       "      Indicator  \n",
       "271   Pre Covid  \n",
       "270   Pre Covid  \n",
       "269   Pre Covid  \n",
       "268   Pre Covid  \n",
       "267   Pre Covid  \n",
       "..          ...  \n",
       "353  Post Covid  \n",
       "352  Post Covid  \n",
       "366  Post Covid  \n",
       "358  Post Covid  \n",
       "367  Post Covid  \n",
       "\n",
       "[112 rows x 5 columns]"
      ]
     },
     "execution_count": 74,
     "metadata": {},
     "output_type": "execute_result"
    }
   ],
   "source": [
    "economic_dim_covid"
   ]
  },
  {
   "cell_type": "markdown",
   "metadata": {},
   "source": [
    "Line graph covid - Economic"
   ]
  },
  {
   "cell_type": "code",
   "execution_count": 75,
   "metadata": {},
   "outputs": [],
   "source": [
    "economic_indi_drop_covid = list(economic_dim_covid['Economic Indicator'].sort_values().unique())\n",
    "\n",
    "select_econ_Type_covid = dcc_dropdown(economic_indi_drop_covid,economic_indi_drop_covid[0],'econ_type_covid')\n",
    "#select_unemprate = dcc_dropdown(selectunemprate_unique,selectunemprate_unique[0],'rate')\n",
    "\n",
    "line_all_econ_covid = dcc.Graph(id = 'figure_Line_econ_covid')\n",
    "\n",
    "@app.callback(\n",
    "        Output('figure_Line_econ_covid', \"figure\"), \n",
    "        [Input(\"econ_type_covid\", \"value\")]\n",
    ")\n",
    "def update_line_all_econ_covid(selected_type):\n",
    "    return line_graph_econ_1(economic_dim_covid,\n",
    "                selected_type,\n",
    "                'State',\n",
    "                'observation_date',\n",
    "                'Value')"
   ]
  },
  {
   "cell_type": "markdown",
   "metadata": {},
   "source": [
    "Covid line graph Total personal Income"
   ]
  },
  {
   "cell_type": "code",
   "execution_count": 76,
   "metadata": {},
   "outputs": [],
   "source": [
    "economic_state_drop_covid = list(economic_dim_covid['State'].sort_values().unique())\n",
    "\n",
    "select_econ_state_covid = dcc_dropdown(economic_state_drop_covid,economic_state_drop_covid[0],'econ_state_covid')\n",
    "#select_unemprate = dcc_dropdown(selectunemprate_unique,selectunemprate_unique[0],'rate')\n",
    "\n",
    "line_state_econ_covid = dcc.Graph(id = 'figure_Line_econ_covid_state')\n",
    "\n",
    "@app.callback(\n",
    "        Output('figure_Line_econ_covid_state', \"figure\"), \n",
    "        [Input(\"econ_state_covid\", \"value\")]\n",
    ")\n",
    "def update_line_state_econ_covid(selected_type):\n",
    "    return line_graph_econ(economic_dim_covid,\n",
    "                selected_type,\n",
    "                'Total Personal Income',\n",
    "               'observation_date',\n",
    "               'Value')"
   ]
  },
  {
   "cell_type": "markdown",
   "metadata": {},
   "source": [
    "Covid bar plot"
   ]
  },
  {
   "cell_type": "code",
   "execution_count": 77,
   "metadata": {},
   "outputs": [],
   "source": [
    "economic_state_drop_covid = list(economic_dim_covid['State'].sort_values().unique())\n",
    "\n",
    "select_econ_state_covid = dcc_dropdown(economic_state_drop_covid,economic_state_drop_covid[0],'econ_state_covid')\n",
    "#select_unemprate = dcc_dropdown(selectunemprate_unique,selectunemprate_unique[0],'rate')\n",
    "\n",
    "bar_state_econ_covid = dcc.Graph(id = 'figure_bar_econ_covid_state')\n",
    "\n",
    "@app.callback(\n",
    "        Output('figure_bar_econ_covid_state', \"figure\"), \n",
    "        [Input(\"econ_state_covid\", \"value\")]\n",
    ")\n",
    "def update_bar_state_econ_covid(selected_type):\n",
    "    return bar_graph_econ(economic_dim_covid,\n",
    "               selected_type,\n",
    "               'Minimum Wage',\n",
    "               'observation_date',\n",
    "               'Value')"
   ]
  },
  {
   "cell_type": "markdown",
   "metadata": {},
   "source": [
    "covid box plot"
   ]
  },
  {
   "cell_type": "code",
   "execution_count": 78,
   "metadata": {},
   "outputs": [],
   "source": [
    "economic_state_drop_covid = list(economic_dim_covid['State'].sort_values().unique())\n",
    "\n",
    "select_econ_state_covid = dcc_dropdown(economic_state_drop_covid,economic_state_drop_covid[0],'econ_state_covid')\n",
    "\n",
    "#select_unemprate = dcc_dropdown(selectunemprate_unique,selectunemprate_unique[0],'rate')\n",
    "\n",
    "box_state_econ_covid = dcc.Graph(id = 'figure_box_econ_covid_state')\n",
    "\n",
    "@app.callback(\n",
    "        Output('figure_box_econ_covid_state', \"figure\"), \n",
    "        [Input(\"econ_state_covid\", \"value\")]\n",
    ")\n",
    "def update_bar_state_econ_covid(selected_type):\n",
    "    return econ_analy_box(economic_dim_covid,\n",
    "               selected_type,\n",
    "               'Civil Labor Force')"
   ]
  },
  {
   "cell_type": "markdown",
   "metadata": {},
   "source": [
    "Line Graph Extra Covid"
   ]
  },
  {
   "cell_type": "code",
   "execution_count": 79,
   "metadata": {},
   "outputs": [],
   "source": [
    "economic_state_drop_covid = list(economic_dim_covid['State'].sort_values().unique())\n",
    "\n",
    "select_econ_state_covid = dcc_dropdown(economic_state_drop_covid,economic_state_drop_covid[0],'econ_state_covid')\n",
    "\n",
    "#select_unemprate = dcc_dropdown(selectunemprate_unique,selectunemprate_unique[0],'rate')\n",
    "\n",
    "line_extra_state_econ_covid = dcc.Graph(id = 'figure_Line_extra_econ_covid_state')\n",
    "\n",
    "@app.callback(\n",
    "        Output('figure_Line_extra_econ_covid_state', \"figure\"), \n",
    "        [Input(\"econ_state_covid\", \"value\")]\n",
    ")\n",
    "def update_line_extra_state_econ_covid(selected_type):\n",
    "    return line_graph_econ(economic_dim_covid,\n",
    "                selected_type,\n",
    "                'Civil Labor Force',\n",
    "               'observation_date',\n",
    "               'Value')"
   ]
  },
  {
   "cell_type": "markdown",
   "metadata": {},
   "source": [
    "Economy_Covid Tab"
   ]
  },
  {
   "cell_type": "code",
   "execution_count": 80,
   "metadata": {},
   "outputs": [],
   "source": [
    "drop_down_10_tab = dbc.Card([\n",
    "    card(\"Economic Well-Being Covid Analysis\"),\n",
    "    dbc.Row([\n",
    "                dbc.Col(dropdown(\"Economic Indicator\",dcc_dropdown(economic_indi_drop_covid,economic_indi_drop_covid[0],'econ_type_covid')\n",
    "),width=5)\n",
    "                ]),\n",
    "    dbc.Row([\n",
    "                dbc.Col(tab_graph(\"Economic Well Being Comparision by State\",line_all_econ_covid ))\n",
    "    ]),\n",
    "    dbc.Row([\n",
    "                dbc.Col(dropdown(\"Select a State\",dcc_dropdown(economic_state_drop_covid,economic_state_drop_covid[0],'econ_state_covid')\n",
    "),width=5)\n",
    "                ]),\n",
    "    dbc.Row([\n",
    "                dbc.Col(html.Div(tab_graph(\"Total Personal Income Comparision (Covid)\",line_state_econ_covid)),width=6),\n",
    "                dbc.Col(html.Div(tab_graph(\"Minimum Wage Comparision(Covid)\",bar_state_econ_covid)),width=6),\n",
    "                dbc.Col(html.Div(tab_graph(\"Civil Labor Force Median Comparision(Covid)\",box_state_econ_covid)),width=6),\n",
    "                dbc.Col(html.Div(tab_graph(\"Civil Labor Force Comparision(Covid)\",line_extra_state_econ_covid)),width=6)\n",
    "    ])\n",
    "])"
   ]
  },
  {
   "cell_type": "markdown",
   "metadata": {},
   "source": [
    "Introduction : Unemployement"
   ]
  },
  {
   "cell_type": "code",
   "execution_count": 81,
   "metadata": {},
   "outputs": [],
   "source": [
    "worker_groups = [\n",
    "    {\n",
    "        'name':'Introduction',\n",
    "        'description':'Impacts of Great Recession (Dec 2007 to Jun 2009) and the COVID-19 pandemic in 2020 in Aspect of unemployment in California, Florida, New York, and Texas.This Analysis provide insigts of three categories of unemployment Level in these states.'\n",
    "    },\n",
    "    {\n",
    "        \"name\": \"Unemployment Level 1\",\n",
    "        \"description\": \"This group comprises workers classified as 'All Marginally Attached Workers' and 'Employed Involuntary Part-Time.' These individuals are often on the fringe of the labor force, facing challenges such as underemployment or involuntary part-time work. Despite being employed, they may not have secure or full-time positions, contributing to the complexities of measuring unemployment rates accurately.\"\n",
    "    },\n",
    "    {\n",
    "        \"name\": \"Unemployment Level 2\",\n",
    "        \"description\": \"The second level of unemployment encompasses workers identified as 'Civilians Unemployed for min 15 Weeks' and 'Job losers.' These individuals have experienced significant disruptions in their employment, including extended periods of unemployment or recent job losses. They represent a segment of the workforce grappling with job market transitions, seeking new opportunities, or facing economic hardships due to layoffs or restructuring.\"\n",
    "    },\n",
    "    {\n",
    "        \"name\": \"Other Workers\",\n",
    "        \"description\": \"Apart from the categorized groups, the dataset may include various other labor rate names representing different segments of the workforce. These could include 'Total Unemployment Workers,' 'All Employed Workers,' and other specific employment indicators that provide insights into the overall labor market dynamics. By categorizing workers into distinct groups based on their employment and unemployment statuses, analysts can gain deeper insights into labor market trends, identify vulnerable populations, and formulate targeted policies to address specific workforce challenges.\"\n",
    "    }\n",
    "]\n",
    "def generate_card_body(groups):\n",
    "    body_content = []\n",
    "    for group in groups:\n",
    "        body_content.append(html.H4(group['name'], className=\"mt-3\"))\n",
    "        body_content.append(html.P(group['description'], className=\"mb-4\"))\n",
    "    return body_content\n",
    "\n",
    "intro = dbc.Row(\n",
    "            dbc.Col(\n",
    "                dbc.Card(\n",
    "                    [\n",
    "                        card(\"Unemployment Analysis (Recession Vs Covid)\"),\n",
    "                        dbc.CardBody(generate_card_body(worker_groups))\n",
    "                    ]\n",
    "                ),\n",
    "                width=12\n",
    "            )\n",
    "        )"
   ]
  },
  {
   "cell_type": "markdown",
   "metadata": {},
   "source": [
    "Housing Introduction"
   ]
  },
  {
   "cell_type": "code",
   "execution_count": 82,
   "metadata": {},
   "outputs": [],
   "source": [
    "worker_groups = [\n",
    "    {\n",
    "        'name':'Introduction',\n",
    "        'description':'Impacts of Great Recession (Dec 2007 to Jun 2009) and the COVID-19 pandemic in 2020 in Aspect of Housing in California, Florida, New York, and Texas.This Analysis provide insigts of three categories of unemployment Level in these states.'\n",
    "    },\n",
    "    {\n",
    "        \"name\": \"Housing Price Index (HPI)\",\n",
    "        \"description\": \"The Housing Price Index (HPI) is a metric used to measure changes in the price of residential properties over time. It tracks the movement of prices for single-family homes, condos, and other residential properties in a given area. HPI provides valuable information about the overall health and direction of the housing market. During recessions and periods of economic turmoil, the HPI can indicate whether home values are rising or falling, providing insights into consumer confidence, investment patterns, and the broader economic landscape.\"\n",
    "    },\n",
    "    {\n",
    "        \"name\": \"Housing Permits\",\n",
    "        \"description\": \"Housing permits refer to the authorization granted by local governments for the construction or renovation of residential properties. The number of housing permits issued is a leading indicator of future construction activity and serves as a barometer for the health of the housing market. During recessions, housing permits tend to decline as both consumers and developers become more cautious amid economic uncertainty. Conversely, during periods of economic expansion, an increase in housing permits signals growing confidence in the market and potential for economic growth.\"\n",
    "    },\n",
    "    {\n",
    "        \"name\": \"Home Price Tiers (Top/Bottom)\",\n",
    "        \"description\": \"Home price tiers categorize residential properties into different price segments based on their value. Typically, these tiers include top-tier homes (higher-end properties) and bottom-tier homes (more affordable properties). During recessions and economic downturns, the impact on home prices can vary across these tiers. Historically, bottom-tier home prices tend to be more resilient during economic downturns compared to top-tier properties, as demand for affordable housing remains relatively stable. Conversely, top-tier home prices may experience greater volatility as high-end buyers adjust their spending habits in response to economic uncertainty.\"\n",
    "    }\n",
    "]\n",
    "def generate_card_body(groups):\n",
    "    body_content = []\n",
    "    for group in groups:\n",
    "        body_content.append(html.H4(group['name'], className=\"mt-3\"))\n",
    "        body_content.append(html.P(group['description'], className=\"mb-4\"))\n",
    "    return body_content\n",
    "\n",
    "intro_housing = dbc.Row(\n",
    "            dbc.Col(\n",
    "                dbc.Card(\n",
    "                    [\n",
    "                        card(\"Housing Market Analysis (Recession Vs Covid)\"),\n",
    "                        dbc.CardBody(generate_card_body(worker_groups))\n",
    "                    ]\n",
    "                ),\n",
    "                width=12\n",
    "            )\n",
    "        )"
   ]
  },
  {
   "cell_type": "markdown",
   "metadata": {},
   "source": [
    "INtro Economic wellbeing"
   ]
  },
  {
   "cell_type": "code",
   "execution_count": 83,
   "metadata": {},
   "outputs": [],
   "source": [
    "worker_groups = [\n",
    "    {\n",
    "        'name':'Introduction',\n",
    "        'description':'Impacts of Great Recession (Dec 2007 to Jun 2009) and the COVID-19 pandemic in 2020 in Aspect of Economic well being in California, Florida, New York, and Texas.This Analysis provide insigts of three categories of unemployment Level in these states.'\n",
    "    },\n",
    "    {\n",
    "        \"name\": \"Total Personal Income\",\n",
    "        \"description\": \"Total personal income encompasses all sources of income received by individuals within a specified geographic area or population. This includes wages, salaries, investment returns, government benefits, and other forms of earnings. Tracking total personal income provides a comprehensive measure of the financial resources available to individuals and households. Increases in total personal income typically indicate economic growth, improved employment opportunities, and enhanced purchasing power, contributing to overall economic well-being.\"\n",
    "    },\n",
    "    {\n",
    "        \"name\": \"Minimum Wage\",\n",
    "        \"description\": \"Minimum wage refers to the legally mandated minimum hourly wage that employers must pay to their workers. It serves as a baseline for ensuring fair compensation and protecting workers from exploitation. Monitoring minimum wage levels is crucial for assessing income inequality, labor market dynamics, and the ability of workers to meet their basic needs. Adjustments to the minimum wage can impact consumer spending, poverty rates, and overall economic stability, making it a significant factor in determining economic well-being, particularly for low-income earners.\"\n",
    "    },\n",
    "    {\n",
    "        \"name\": \"Civilian Labor Force\",\n",
    "        \"description\": \"The civilian labor force comprises individuals who are either employed or actively seeking employment within the labor market. It represents the pool of available workers and plays a central role in driving economic activity and productivity. Changes in the size and composition of the civilian labor force can reflect shifts in workforce participation, unemployment rates, and labor market dynamics, all of which influence economic well-being. A growing labor force may indicate expanding opportunities and economic vitality, while a shrinking or stagnant labor force could signal challenges such as unemployment or demographic trends.\"\n",
    "    },\n",
    "    {\n",
    "        \"name\": \"Per Capita Income:\",\n",
    "        \"description\": \"Per capita income measures the average income earned per person within a specific population or geographic area. It is calculated by dividing the total income generated by the population by the total number of individuals. Per capita income provides insights into income distribution and standards of living, helping to assess the overall prosperity and economic well-being of a society. Increases in per capita income suggest rising living standards, improved access to goods and services, and enhanced quality of life for residents.\"\n",
    "    }\n",
    "]\n",
    "def generate_card_body(groups):\n",
    "    body_content = []\n",
    "    for group in groups:\n",
    "        body_content.append(html.H4(group['name'], className=\"mt-3\"))\n",
    "        body_content.append(html.P(group['description'], className=\"mb-4\"))\n",
    "    return body_content\n",
    "\n",
    "intro_economic = dbc.Row(\n",
    "            dbc.Col(\n",
    "                dbc.Card(\n",
    "                    [\n",
    "                        card(\"Economic Well-being Analysis (Recession Vs Covid)\"),\n",
    "                        dbc.CardBody(generate_card_body(worker_groups))\n",
    "                    ]\n",
    "                ),\n",
    "                width=12\n",
    "            )\n",
    "        )"
   ]
  },
  {
   "cell_type": "markdown",
   "metadata": {},
   "source": [
    "Unemployment tabs "
   ]
  },
  {
   "cell_type": "code",
   "execution_count": 84,
   "metadata": {},
   "outputs": [],
   "source": [
    "unemptabs = [ \n",
    "  \n",
    "tab_name(intro,'Introduction(Unemployment)'), \n",
    "tab_name(drop_down_5_tab,'Unemployment Analysis'), \n",
    "tab_name(drop_down_3_tab,'Unemployment(Recession)'),\n",
    "tab_name(drop_down_4_tab,'Unemployment(Covid)'),\n",
    "tab_name(intro_housing,'Introduction(Housing)'),\n",
    "tab_name(drop_down_6_tab,'Housing(Recession)'),\n",
    "tab_name(drop_down_7_tab,'Housing(Covid)'),\n",
    "tab_name(drop_down_8_tab,'Housing Analysis'),\n",
    "tab_name(intro_economic,'Introduction(Economic well-being)'),\n",
    "tab_name(drop_down_9_tab,'Economic Well Being Recession Analysis'),\n",
    "tab_name(drop_down_10_tab,'Economic Well Being Covid Analysis'),\n",
    "]"
   ]
  },
  {
   "cell_type": "code",
   "execution_count": 85,
   "metadata": {},
   "outputs": [],
   "source": [
    "app.layout = dbc.Container(\n",
    "    [\n",
    "        dbc.Tabs(unemptabs)\n",
    "    ]\n",
    ")"
   ]
  },
  {
   "cell_type": "code",
   "execution_count": 86,
   "metadata": {},
   "outputs": [
    {
     "data": {
      "text/html": [
       "\n",
       "        <iframe\n",
       "            width=\"100%\"\n",
       "            height=\"650\"\n",
       "            src=\"http://127.0.0.1:8008/\"\n",
       "            frameborder=\"0\"\n",
       "            allowfullscreen\n",
       "            \n",
       "        ></iframe>\n",
       "        "
      ],
      "text/plain": [
       "<IPython.lib.display.IFrame at 0x1a9970f6cf0>"
      ]
     },
     "metadata": {},
     "output_type": "display_data"
    },
    {
     "name": "stderr",
     "output_type": "stream",
     "text": [
      "C:\\Users\\Karthi\\AppData\\Local\\Temp\\ipykernel_11596\\2896854717.py:16: UserWarning:\n",
      "\n",
      "Boolean Series key will be reindexed to match DataFrame index.\n",
      "\n",
      "C:\\Users\\Karthi\\AppData\\Local\\Temp\\ipykernel_11596\\29088592.py:16: UserWarning:\n",
      "\n",
      "Boolean Series key will be reindexed to match DataFrame index.\n",
      "\n",
      "C:\\Users\\Karthi\\AppData\\Local\\Temp\\ipykernel_11596\\2896854717.py:16: UserWarning:\n",
      "\n",
      "Boolean Series key will be reindexed to match DataFrame index.\n",
      "\n",
      "C:\\Users\\Karthi\\AppData\\Local\\Temp\\ipykernel_11596\\29088592.py:16: UserWarning:\n",
      "\n",
      "Boolean Series key will be reindexed to match DataFrame index.\n",
      "\n"
     ]
    }
   ],
   "source": [
    "if __name__ == \"__main__\":\n",
    "    app.run_server(\n",
    "        debug=True,\n",
    "        external_stylesheets=[dbc.themes.LUMEN],\n",
    "        port=8008,\n",
    "    )"
   ]
  }
 ],
 "metadata": {
  "kernelspec": {
   "display_name": "Python 3",
   "language": "python",
   "name": "python3"
  },
  "language_info": {
   "codemirror_mode": {
    "name": "ipython",
    "version": 3
   },
   "file_extension": ".py",
   "mimetype": "text/x-python",
   "name": "python",
   "nbconvert_exporter": "python",
   "pygments_lexer": "ipython3",
   "version": "3.12.2"
  }
 },
 "nbformat": 4,
 "nbformat_minor": 2
}
